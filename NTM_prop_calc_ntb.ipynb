{
 "cells": [
  {
   "cell_type": "code",
   "execution_count": 13,
   "id": "da90250b",
   "metadata": {},
   "outputs": [],
   "source": [
    "import numpy as np\n",
    "import pandas as pd\n",
    "import matplotlib.pylab as plt\n",
    "import seaborn as sns\n",
    "import py_fort_myrmidon as fm\n",
    "import datetime\n",
    "import networkx as nx\n",
    "import community\n",
    "import statistics\n",
    "import scipy.stats as stats\n",
    "from os import listdir\n",
    "from datetime import datetime, date, timedelta\n",
    "import pickle"
   ]
  },
  {
   "cell_type": "code",
   "execution_count": 14,
   "id": "5791b2d5",
   "metadata": {},
   "outputs": [],
   "source": [
    "working_dir = '/media/eg15396/EG_DATA-7/NTM/'\n",
    "myrm_list = sorted([ s for s in listdir(working_dir) if s[15:17] == '.m'])"
   ]
  },
  {
   "cell_type": "code",
   "execution_count": 18,
   "id": "61b264fc",
   "metadata": {},
   "outputs": [],
   "source": [
    "\n",
    "# initialise data-frame with properties\n",
    "prop_df = pd.DataFrame(columns=['rep','exp', 'start', 'end', 'CC', 'partition', 'MOD', 'DEN', 'wDIA', 'DIA', 'DEH'])\n",
    "\n",
    "# function to compute netowrk properties\n",
    "def G_prop(G, start, end, name):\n",
    "    \n",
    "    # compute connencted components\n",
    "    Gcc = sorted(nx.connected_components(G), key=len, reverse=True)\n",
    "\n",
    "    # Define Giant Component\n",
    "    GC = G.subgraph(Gcc[0])\n",
    "    \n",
    "    best_partition = community.best_partition(GC, weight='weight', randomize=False)\n",
    "    return {'rep': int(name[8:10]),\n",
    "            'exp': name[11:15],\n",
    "            'start': fm.Time.ToDateTime(start), \n",
    "            'end': fm.Time.ToDateTime(end), \n",
    "            'CC': len(Gcc),\n",
    "            'partition': np.max(list(best_partition.values())) + 1,\n",
    "            'MOD': community.modularity(best_partition, GC), \n",
    "            'DEN': nx.density(GC), \n",
    "            'wDIA': nx.diameter(GC, e=nx.eccentricity(GC, sp=dict(nx.shortest_path_length(GC,weight='inv_weight')))), \n",
    "            'DIA': nx.diameter(GC),\n",
    "            'DEH': statistics.pvariance([GC.degree(n) for n in GC.nodes()])}"
   ]
  },
  {
   "cell_type": "code",
   "execution_count": 19,
   "id": "f591d791",
   "metadata": {},
   "outputs": [
    {
     "name": "stdout",
     "output_type": "stream",
     "text": [
      "EG_NTM_s13_DEHa.myrmidon\n"
     ]
    },
    {
     "name": "stderr",
     "output_type": "stream",
     "text": [
      "/tmp/ipykernel_4052/3421888529.py:58: FutureWarning: The frame.append method is deprecated and will be removed from pandas in a future version. Use pandas.concat instead.\n",
      "  prop_df = prop_df.append(G_prop(G, start, end, myrm_file), ignore_index=True)\n"
     ]
    },
    {
     "name": "stdout",
     "output_type": "stream",
     "text": [
      "EG_NTM_s13_DEHb.myrmidon\n"
     ]
    },
    {
     "name": "stderr",
     "output_type": "stream",
     "text": [
      "/tmp/ipykernel_4052/3421888529.py:58: FutureWarning: The frame.append method is deprecated and will be removed from pandas in a future version. Use pandas.concat instead.\n",
      "  prop_df = prop_df.append(G_prop(G, start, end, myrm_file), ignore_index=True)\n"
     ]
    },
    {
     "name": "stdout",
     "output_type": "stream",
     "text": [
      "EG_NTM_s14_MODa.myrmidon\n"
     ]
    },
    {
     "name": "stderr",
     "output_type": "stream",
     "text": [
      "/tmp/ipykernel_4052/3421888529.py:58: FutureWarning: The frame.append method is deprecated and will be removed from pandas in a future version. Use pandas.concat instead.\n",
      "  prop_df = prop_df.append(G_prop(G, start, end, myrm_file), ignore_index=True)\n"
     ]
    },
    {
     "name": "stdout",
     "output_type": "stream",
     "text": [
      "EG_NTM_s14_MODb.myrmidon\n"
     ]
    },
    {
     "name": "stderr",
     "output_type": "stream",
     "text": [
      "/tmp/ipykernel_4052/3421888529.py:58: FutureWarning: The frame.append method is deprecated and will be removed from pandas in a future version. Use pandas.concat instead.\n",
      "  prop_df = prop_df.append(G_prop(G, start, end, myrm_file), ignore_index=True)\n"
     ]
    },
    {
     "name": "stdout",
     "output_type": "stream",
     "text": [
      "EG_NTM_s15_DENa.myrmidon\n"
     ]
    },
    {
     "name": "stderr",
     "output_type": "stream",
     "text": [
      "/tmp/ipykernel_4052/3421888529.py:58: FutureWarning: The frame.append method is deprecated and will be removed from pandas in a future version. Use pandas.concat instead.\n",
      "  prop_df = prop_df.append(G_prop(G, start, end, myrm_file), ignore_index=True)\n"
     ]
    },
    {
     "name": "stdout",
     "output_type": "stream",
     "text": [
      "EG_NTM_s15_DENb.myrmidon\n"
     ]
    },
    {
     "name": "stderr",
     "output_type": "stream",
     "text": [
      "/tmp/ipykernel_4052/3421888529.py:58: FutureWarning: The frame.append method is deprecated and will be removed from pandas in a future version. Use pandas.concat instead.\n",
      "  prop_df = prop_df.append(G_prop(G, start, end, myrm_file), ignore_index=True)\n"
     ]
    },
    {
     "name": "stdout",
     "output_type": "stream",
     "text": [
      "EG_NTM_s16_DIAa.myrmidon\n"
     ]
    },
    {
     "name": "stderr",
     "output_type": "stream",
     "text": [
      "/tmp/ipykernel_4052/3421888529.py:58: FutureWarning: The frame.append method is deprecated and will be removed from pandas in a future version. Use pandas.concat instead.\n",
      "  prop_df = prop_df.append(G_prop(G, start, end, myrm_file), ignore_index=True)\n"
     ]
    },
    {
     "name": "stdout",
     "output_type": "stream",
     "text": [
      "EG_NTM_s16_DIAb.myrmidon\n"
     ]
    },
    {
     "name": "stderr",
     "output_type": "stream",
     "text": [
      "/tmp/ipykernel_4052/3421888529.py:58: FutureWarning: The frame.append method is deprecated and will be removed from pandas in a future version. Use pandas.concat instead.\n",
      "  prop_df = prop_df.append(G_prop(G, start, end, myrm_file), ignore_index=True)\n"
     ]
    },
    {
     "name": "stdout",
     "output_type": "stream",
     "text": [
      "EG_NTM_s17_MODa.myrmidon\n"
     ]
    },
    {
     "name": "stderr",
     "output_type": "stream",
     "text": [
      "/tmp/ipykernel_4052/3421888529.py:58: FutureWarning: The frame.append method is deprecated and will be removed from pandas in a future version. Use pandas.concat instead.\n",
      "  prop_df = prop_df.append(G_prop(G, start, end, myrm_file), ignore_index=True)\n"
     ]
    },
    {
     "name": "stdout",
     "output_type": "stream",
     "text": [
      "EG_NTM_s17_MODb.myrmidon\n"
     ]
    },
    {
     "name": "stderr",
     "output_type": "stream",
     "text": [
      "/tmp/ipykernel_4052/3421888529.py:58: FutureWarning: The frame.append method is deprecated and will be removed from pandas in a future version. Use pandas.concat instead.\n",
      "  prop_df = prop_df.append(G_prop(G, start, end, myrm_file), ignore_index=True)\n"
     ]
    },
    {
     "name": "stdout",
     "output_type": "stream",
     "text": [
      "EG_NTM_s18_DENa.myrmidon\n"
     ]
    },
    {
     "name": "stderr",
     "output_type": "stream",
     "text": [
      "/tmp/ipykernel_4052/3421888529.py:58: FutureWarning: The frame.append method is deprecated and will be removed from pandas in a future version. Use pandas.concat instead.\n",
      "  prop_df = prop_df.append(G_prop(G, start, end, myrm_file), ignore_index=True)\n"
     ]
    },
    {
     "name": "stdout",
     "output_type": "stream",
     "text": [
      "EG_NTM_s18_DENb.myrmidon\n"
     ]
    },
    {
     "name": "stderr",
     "output_type": "stream",
     "text": [
      "/tmp/ipykernel_4052/3421888529.py:58: FutureWarning: The frame.append method is deprecated and will be removed from pandas in a future version. Use pandas.concat instead.\n",
      "  prop_df = prop_df.append(G_prop(G, start, end, myrm_file), ignore_index=True)\n"
     ]
    },
    {
     "name": "stdout",
     "output_type": "stream",
     "text": [
      "EG_NTM_s19_DIAa.myrmidon\n"
     ]
    },
    {
     "name": "stderr",
     "output_type": "stream",
     "text": [
      "/tmp/ipykernel_4052/3421888529.py:58: FutureWarning: The frame.append method is deprecated and will be removed from pandas in a future version. Use pandas.concat instead.\n",
      "  prop_df = prop_df.append(G_prop(G, start, end, myrm_file), ignore_index=True)\n"
     ]
    },
    {
     "name": "stdout",
     "output_type": "stream",
     "text": [
      "EG_NTM_s19_DIAb.myrmidon\n"
     ]
    },
    {
     "name": "stderr",
     "output_type": "stream",
     "text": [
      "/tmp/ipykernel_4052/3421888529.py:58: FutureWarning: The frame.append method is deprecated and will be removed from pandas in a future version. Use pandas.concat instead.\n",
      "  prop_df = prop_df.append(G_prop(G, start, end, myrm_file), ignore_index=True)\n"
     ]
    },
    {
     "name": "stdout",
     "output_type": "stream",
     "text": [
      "EG_NTM_s20_DEHa.myrmidon\n"
     ]
    },
    {
     "name": "stderr",
     "output_type": "stream",
     "text": [
      "/tmp/ipykernel_4052/3421888529.py:58: FutureWarning: The frame.append method is deprecated and will be removed from pandas in a future version. Use pandas.concat instead.\n",
      "  prop_df = prop_df.append(G_prop(G, start, end, myrm_file), ignore_index=True)\n"
     ]
    },
    {
     "name": "stdout",
     "output_type": "stream",
     "text": [
      "EG_NTM_s20_DEHb.myrmidon\n"
     ]
    },
    {
     "name": "stderr",
     "output_type": "stream",
     "text": [
      "/tmp/ipykernel_4052/3421888529.py:58: FutureWarning: The frame.append method is deprecated and will be removed from pandas in a future version. Use pandas.concat instead.\n",
      "  prop_df = prop_df.append(G_prop(G, start, end, myrm_file), ignore_index=True)\n"
     ]
    },
    {
     "name": "stdout",
     "output_type": "stream",
     "text": [
      "EG_NTM_s21_DIAa.myrmidon\n"
     ]
    },
    {
     "name": "stderr",
     "output_type": "stream",
     "text": [
      "/tmp/ipykernel_4052/3421888529.py:58: FutureWarning: The frame.append method is deprecated and will be removed from pandas in a future version. Use pandas.concat instead.\n",
      "  prop_df = prop_df.append(G_prop(G, start, end, myrm_file), ignore_index=True)\n"
     ]
    },
    {
     "name": "stdout",
     "output_type": "stream",
     "text": [
      "EG_NTM_s21_DIAb.myrmidon\n"
     ]
    },
    {
     "name": "stderr",
     "output_type": "stream",
     "text": [
      "/tmp/ipykernel_4052/3421888529.py:58: FutureWarning: The frame.append method is deprecated and will be removed from pandas in a future version. Use pandas.concat instead.\n",
      "  prop_df = prop_df.append(G_prop(G, start, end, myrm_file), ignore_index=True)\n"
     ]
    },
    {
     "name": "stdout",
     "output_type": "stream",
     "text": [
      "EG_NTM_s22_MODa.myrmidon\n"
     ]
    },
    {
     "name": "stderr",
     "output_type": "stream",
     "text": [
      "/tmp/ipykernel_4052/3421888529.py:58: FutureWarning: The frame.append method is deprecated and will be removed from pandas in a future version. Use pandas.concat instead.\n",
      "  prop_df = prop_df.append(G_prop(G, start, end, myrm_file), ignore_index=True)\n"
     ]
    },
    {
     "name": "stdout",
     "output_type": "stream",
     "text": [
      "EG_NTM_s22_MODb.myrmidon\n"
     ]
    },
    {
     "name": "stderr",
     "output_type": "stream",
     "text": [
      "/tmp/ipykernel_4052/3421888529.py:58: FutureWarning: The frame.append method is deprecated and will be removed from pandas in a future version. Use pandas.concat instead.\n",
      "  prop_df = prop_df.append(G_prop(G, start, end, myrm_file), ignore_index=True)\n"
     ]
    },
    {
     "name": "stdout",
     "output_type": "stream",
     "text": [
      "EG_NTM_s23_DENa.myrmidon\n"
     ]
    },
    {
     "name": "stderr",
     "output_type": "stream",
     "text": [
      "/tmp/ipykernel_4052/3421888529.py:58: FutureWarning: The frame.append method is deprecated and will be removed from pandas in a future version. Use pandas.concat instead.\n",
      "  prop_df = prop_df.append(G_prop(G, start, end, myrm_file), ignore_index=True)\n"
     ]
    },
    {
     "name": "stdout",
     "output_type": "stream",
     "text": [
      "EG_NTM_s23_DENb.myrmidon\n"
     ]
    },
    {
     "name": "stderr",
     "output_type": "stream",
     "text": [
      "/tmp/ipykernel_4052/3421888529.py:58: FutureWarning: The frame.append method is deprecated and will be removed from pandas in a future version. Use pandas.concat instead.\n",
      "  prop_df = prop_df.append(G_prop(G, start, end, myrm_file), ignore_index=True)\n"
     ]
    },
    {
     "name": "stdout",
     "output_type": "stream",
     "text": [
      "EG_NTM_s24_DEHa.myrmidon\n"
     ]
    },
    {
     "name": "stderr",
     "output_type": "stream",
     "text": [
      "/tmp/ipykernel_4052/3421888529.py:58: FutureWarning: The frame.append method is deprecated and will be removed from pandas in a future version. Use pandas.concat instead.\n",
      "  prop_df = prop_df.append(G_prop(G, start, end, myrm_file), ignore_index=True)\n"
     ]
    },
    {
     "name": "stdout",
     "output_type": "stream",
     "text": [
      "EG_NTM_s24_DEHb.myrmidon\n"
     ]
    },
    {
     "name": "stderr",
     "output_type": "stream",
     "text": [
      "/tmp/ipykernel_4052/3421888529.py:58: FutureWarning: The frame.append method is deprecated and will be removed from pandas in a future version. Use pandas.concat instead.\n",
      "  prop_df = prop_df.append(G_prop(G, start, end, myrm_file), ignore_index=True)\n"
     ]
    },
    {
     "name": "stdout",
     "output_type": "stream",
     "text": [
      "EG_NTM_s25_DEHa.myrmidon\n"
     ]
    },
    {
     "name": "stderr",
     "output_type": "stream",
     "text": [
      "/tmp/ipykernel_4052/3421888529.py:58: FutureWarning: The frame.append method is deprecated and will be removed from pandas in a future version. Use pandas.concat instead.\n",
      "  prop_df = prop_df.append(G_prop(G, start, end, myrm_file), ignore_index=True)\n"
     ]
    },
    {
     "name": "stdout",
     "output_type": "stream",
     "text": [
      "EG_NTM_s25_DEHb.myrmidon\n"
     ]
    },
    {
     "name": "stderr",
     "output_type": "stream",
     "text": [
      "/tmp/ipykernel_4052/3421888529.py:58: FutureWarning: The frame.append method is deprecated and will be removed from pandas in a future version. Use pandas.concat instead.\n",
      "  prop_df = prop_df.append(G_prop(G, start, end, myrm_file), ignore_index=True)\n"
     ]
    },
    {
     "name": "stdout",
     "output_type": "stream",
     "text": [
      "EG_NTM_s26_DENa.myrmidon\n"
     ]
    },
    {
     "name": "stderr",
     "output_type": "stream",
     "text": [
      "/tmp/ipykernel_4052/3421888529.py:58: FutureWarning: The frame.append method is deprecated and will be removed from pandas in a future version. Use pandas.concat instead.\n",
      "  prop_df = prop_df.append(G_prop(G, start, end, myrm_file), ignore_index=True)\n"
     ]
    },
    {
     "name": "stdout",
     "output_type": "stream",
     "text": [
      "EG_NTM_s26_DENb.myrmidon\n"
     ]
    },
    {
     "name": "stderr",
     "output_type": "stream",
     "text": [
      "/tmp/ipykernel_4052/3421888529.py:58: FutureWarning: The frame.append method is deprecated and will be removed from pandas in a future version. Use pandas.concat instead.\n",
      "  prop_df = prop_df.append(G_prop(G, start, end, myrm_file), ignore_index=True)\n"
     ]
    },
    {
     "name": "stdout",
     "output_type": "stream",
     "text": [
      "EG_NTM_s27_MODa.myrmidon\n"
     ]
    },
    {
     "name": "stderr",
     "output_type": "stream",
     "text": [
      "/tmp/ipykernel_4052/3421888529.py:58: FutureWarning: The frame.append method is deprecated and will be removed from pandas in a future version. Use pandas.concat instead.\n",
      "  prop_df = prop_df.append(G_prop(G, start, end, myrm_file), ignore_index=True)\n"
     ]
    },
    {
     "name": "stdout",
     "output_type": "stream",
     "text": [
      "EG_NTM_s27_MODb.myrmidon\n"
     ]
    },
    {
     "name": "stderr",
     "output_type": "stream",
     "text": [
      "/tmp/ipykernel_4052/3421888529.py:58: FutureWarning: The frame.append method is deprecated and will be removed from pandas in a future version. Use pandas.concat instead.\n",
      "  prop_df = prop_df.append(G_prop(G, start, end, myrm_file), ignore_index=True)\n"
     ]
    },
    {
     "name": "stdout",
     "output_type": "stream",
     "text": [
      "EG_NTM_s28_DIAa.myrmidon\n"
     ]
    },
    {
     "name": "stderr",
     "output_type": "stream",
     "text": [
      "/tmp/ipykernel_4052/3421888529.py:58: FutureWarning: The frame.append method is deprecated and will be removed from pandas in a future version. Use pandas.concat instead.\n",
      "  prop_df = prop_df.append(G_prop(G, start, end, myrm_file), ignore_index=True)\n"
     ]
    },
    {
     "name": "stdout",
     "output_type": "stream",
     "text": [
      "EG_NTM_s28_DIAb.myrmidon\n"
     ]
    },
    {
     "name": "stderr",
     "output_type": "stream",
     "text": [
      "/tmp/ipykernel_4052/3421888529.py:58: FutureWarning: The frame.append method is deprecated and will be removed from pandas in a future version. Use pandas.concat instead.\n",
      "  prop_df = prop_df.append(G_prop(G, start, end, myrm_file), ignore_index=True)\n"
     ]
    },
    {
     "name": "stdout",
     "output_type": "stream",
     "text": [
      "EG_NTM_s29_DENa.myrmidon\n"
     ]
    },
    {
     "name": "stderr",
     "output_type": "stream",
     "text": [
      "/tmp/ipykernel_4052/3421888529.py:58: FutureWarning: The frame.append method is deprecated and will be removed from pandas in a future version. Use pandas.concat instead.\n",
      "  prop_df = prop_df.append(G_prop(G, start, end, myrm_file), ignore_index=True)\n"
     ]
    },
    {
     "name": "stdout",
     "output_type": "stream",
     "text": [
      "EG_NTM_s29_DENb.myrmidon\n"
     ]
    },
    {
     "name": "stderr",
     "output_type": "stream",
     "text": [
      "/tmp/ipykernel_4052/3421888529.py:58: FutureWarning: The frame.append method is deprecated and will be removed from pandas in a future version. Use pandas.concat instead.\n",
      "  prop_df = prop_df.append(G_prop(G, start, end, myrm_file), ignore_index=True)\n"
     ]
    },
    {
     "name": "stdout",
     "output_type": "stream",
     "text": [
      "EG_NTM_s30_MODa.myrmidon\n"
     ]
    },
    {
     "name": "stderr",
     "output_type": "stream",
     "text": [
      "/tmp/ipykernel_4052/3421888529.py:58: FutureWarning: The frame.append method is deprecated and will be removed from pandas in a future version. Use pandas.concat instead.\n",
      "  prop_df = prop_df.append(G_prop(G, start, end, myrm_file), ignore_index=True)\n"
     ]
    },
    {
     "name": "stdout",
     "output_type": "stream",
     "text": [
      "EG_NTM_s30_MODb.myrmidon\n"
     ]
    },
    {
     "name": "stderr",
     "output_type": "stream",
     "text": [
      "/tmp/ipykernel_4052/3421888529.py:58: FutureWarning: The frame.append method is deprecated and will be removed from pandas in a future version. Use pandas.concat instead.\n",
      "  prop_df = prop_df.append(G_prop(G, start, end, myrm_file), ignore_index=True)\n"
     ]
    },
    {
     "name": "stdout",
     "output_type": "stream",
     "text": [
      "EG_NTM_s31_DEHa.myrmidon\n"
     ]
    },
    {
     "name": "stderr",
     "output_type": "stream",
     "text": [
      "/tmp/ipykernel_4052/3421888529.py:58: FutureWarning: The frame.append method is deprecated and will be removed from pandas in a future version. Use pandas.concat instead.\n",
      "  prop_df = prop_df.append(G_prop(G, start, end, myrm_file), ignore_index=True)\n"
     ]
    },
    {
     "name": "stdout",
     "output_type": "stream",
     "text": [
      "EG_NTM_s31_DEHb.myrmidon\n"
     ]
    },
    {
     "name": "stderr",
     "output_type": "stream",
     "text": [
      "/tmp/ipykernel_4052/3421888529.py:58: FutureWarning: The frame.append method is deprecated and will be removed from pandas in a future version. Use pandas.concat instead.\n",
      "  prop_df = prop_df.append(G_prop(G, start, end, myrm_file), ignore_index=True)\n"
     ]
    },
    {
     "name": "stdout",
     "output_type": "stream",
     "text": [
      "EG_NTM_s32_DIAa.myrmidon\n"
     ]
    },
    {
     "name": "stderr",
     "output_type": "stream",
     "text": [
      "/tmp/ipykernel_4052/3421888529.py:58: FutureWarning: The frame.append method is deprecated and will be removed from pandas in a future version. Use pandas.concat instead.\n",
      "  prop_df = prop_df.append(G_prop(G, start, end, myrm_file), ignore_index=True)\n"
     ]
    },
    {
     "name": "stdout",
     "output_type": "stream",
     "text": [
      "EG_NTM_s32_DIAb.myrmidon\n"
     ]
    },
    {
     "name": "stderr",
     "output_type": "stream",
     "text": [
      "/tmp/ipykernel_4052/3421888529.py:58: FutureWarning: The frame.append method is deprecated and will be removed from pandas in a future version. Use pandas.concat instead.\n",
      "  prop_df = prop_df.append(G_prop(G, start, end, myrm_file), ignore_index=True)\n"
     ]
    },
    {
     "name": "stdout",
     "output_type": "stream",
     "text": [
      "EG_NTM_s33_MODa.myrmidon\n"
     ]
    },
    {
     "name": "stderr",
     "output_type": "stream",
     "text": [
      "/tmp/ipykernel_4052/3421888529.py:58: FutureWarning: The frame.append method is deprecated and will be removed from pandas in a future version. Use pandas.concat instead.\n",
      "  prop_df = prop_df.append(G_prop(G, start, end, myrm_file), ignore_index=True)\n"
     ]
    },
    {
     "name": "stdout",
     "output_type": "stream",
     "text": [
      "EG_NTM_s33_MODb.myrmidon\n"
     ]
    },
    {
     "name": "stderr",
     "output_type": "stream",
     "text": [
      "/tmp/ipykernel_4052/3421888529.py:58: FutureWarning: The frame.append method is deprecated and will be removed from pandas in a future version. Use pandas.concat instead.\n",
      "  prop_df = prop_df.append(G_prop(G, start, end, myrm_file), ignore_index=True)\n"
     ]
    },
    {
     "name": "stdout",
     "output_type": "stream",
     "text": [
      "EG_NTM_s34_DEHa.myrmidon\n"
     ]
    },
    {
     "name": "stderr",
     "output_type": "stream",
     "text": [
      "/tmp/ipykernel_4052/3421888529.py:58: FutureWarning: The frame.append method is deprecated and will be removed from pandas in a future version. Use pandas.concat instead.\n",
      "  prop_df = prop_df.append(G_prop(G, start, end, myrm_file), ignore_index=True)\n"
     ]
    },
    {
     "name": "stdout",
     "output_type": "stream",
     "text": [
      "EG_NTM_s34_DEHb.myrmidon\n"
     ]
    },
    {
     "name": "stderr",
     "output_type": "stream",
     "text": [
      "/tmp/ipykernel_4052/3421888529.py:58: FutureWarning: The frame.append method is deprecated and will be removed from pandas in a future version. Use pandas.concat instead.\n",
      "  prop_df = prop_df.append(G_prop(G, start, end, myrm_file), ignore_index=True)\n"
     ]
    },
    {
     "name": "stdout",
     "output_type": "stream",
     "text": [
      "EG_NTM_s35_DIAa.myrmidon\n"
     ]
    },
    {
     "name": "stderr",
     "output_type": "stream",
     "text": [
      "/tmp/ipykernel_4052/3421888529.py:58: FutureWarning: The frame.append method is deprecated and will be removed from pandas in a future version. Use pandas.concat instead.\n",
      "  prop_df = prop_df.append(G_prop(G, start, end, myrm_file), ignore_index=True)\n"
     ]
    },
    {
     "name": "stdout",
     "output_type": "stream",
     "text": [
      "EG_NTM_s35_DIAb.myrmidon\n"
     ]
    },
    {
     "name": "stderr",
     "output_type": "stream",
     "text": [
      "/tmp/ipykernel_4052/3421888529.py:58: FutureWarning: The frame.append method is deprecated and will be removed from pandas in a future version. Use pandas.concat instead.\n",
      "  prop_df = prop_df.append(G_prop(G, start, end, myrm_file), ignore_index=True)\n"
     ]
    },
    {
     "name": "stdout",
     "output_type": "stream",
     "text": [
      "EG_NTM_s36_DENa.myrmidon\n"
     ]
    },
    {
     "name": "stderr",
     "output_type": "stream",
     "text": [
      "/tmp/ipykernel_4052/3421888529.py:58: FutureWarning: The frame.append method is deprecated and will be removed from pandas in a future version. Use pandas.concat instead.\n",
      "  prop_df = prop_df.append(G_prop(G, start, end, myrm_file), ignore_index=True)\n"
     ]
    },
    {
     "name": "stdout",
     "output_type": "stream",
     "text": [
      "EG_NTM_s36_DENb.myrmidon\n"
     ]
    },
    {
     "name": "stderr",
     "output_type": "stream",
     "text": [
      "/tmp/ipykernel_4052/3421888529.py:58: FutureWarning: The frame.append method is deprecated and will be removed from pandas in a future version. Use pandas.concat instead.\n",
      "  prop_df = prop_df.append(G_prop(G, start, end, myrm_file), ignore_index=True)\n"
     ]
    },
    {
     "name": "stdout",
     "output_type": "stream",
     "text": [
      "EG_NTM_s37_DIAa.myrmidon\n"
     ]
    },
    {
     "name": "stderr",
     "output_type": "stream",
     "text": [
      "/tmp/ipykernel_4052/3421888529.py:58: FutureWarning: The frame.append method is deprecated and will be removed from pandas in a future version. Use pandas.concat instead.\n",
      "  prop_df = prop_df.append(G_prop(G, start, end, myrm_file), ignore_index=True)\n"
     ]
    },
    {
     "name": "stdout",
     "output_type": "stream",
     "text": [
      "EG_NTM_s37_DIAb.myrmidon\n"
     ]
    },
    {
     "name": "stderr",
     "output_type": "stream",
     "text": [
      "/tmp/ipykernel_4052/3421888529.py:58: FutureWarning: The frame.append method is deprecated and will be removed from pandas in a future version. Use pandas.concat instead.\n",
      "  prop_df = prop_df.append(G_prop(G, start, end, myrm_file), ignore_index=True)\n"
     ]
    },
    {
     "name": "stdout",
     "output_type": "stream",
     "text": [
      "EG_NTM_s38_DEHa.myrmidon\n"
     ]
    },
    {
     "name": "stderr",
     "output_type": "stream",
     "text": [
      "/tmp/ipykernel_4052/3421888529.py:58: FutureWarning: The frame.append method is deprecated and will be removed from pandas in a future version. Use pandas.concat instead.\n",
      "  prop_df = prop_df.append(G_prop(G, start, end, myrm_file), ignore_index=True)\n"
     ]
    },
    {
     "name": "stdout",
     "output_type": "stream",
     "text": [
      "EG_NTM_s38_DEHb.myrmidon\n"
     ]
    },
    {
     "name": "stderr",
     "output_type": "stream",
     "text": [
      "/tmp/ipykernel_4052/3421888529.py:58: FutureWarning: The frame.append method is deprecated and will be removed from pandas in a future version. Use pandas.concat instead.\n",
      "  prop_df = prop_df.append(G_prop(G, start, end, myrm_file), ignore_index=True)\n"
     ]
    },
    {
     "name": "stdout",
     "output_type": "stream",
     "text": [
      "EG_NTM_s39_DENa.myrmidon\n"
     ]
    },
    {
     "name": "stderr",
     "output_type": "stream",
     "text": [
      "/tmp/ipykernel_4052/3421888529.py:58: FutureWarning: The frame.append method is deprecated and will be removed from pandas in a future version. Use pandas.concat instead.\n",
      "  prop_df = prop_df.append(G_prop(G, start, end, myrm_file), ignore_index=True)\n"
     ]
    },
    {
     "name": "stdout",
     "output_type": "stream",
     "text": [
      "EG_NTM_s39_DENb.myrmidon\n"
     ]
    },
    {
     "name": "stderr",
     "output_type": "stream",
     "text": [
      "/tmp/ipykernel_4052/3421888529.py:58: FutureWarning: The frame.append method is deprecated and will be removed from pandas in a future version. Use pandas.concat instead.\n",
      "  prop_df = prop_df.append(G_prop(G, start, end, myrm_file), ignore_index=True)\n"
     ]
    },
    {
     "name": "stdout",
     "output_type": "stream",
     "text": [
      "EG_NTM_s40_MODa.myrmidon\n"
     ]
    },
    {
     "name": "stderr",
     "output_type": "stream",
     "text": [
      "/tmp/ipykernel_4052/3421888529.py:58: FutureWarning: The frame.append method is deprecated and will be removed from pandas in a future version. Use pandas.concat instead.\n",
      "  prop_df = prop_df.append(G_prop(G, start, end, myrm_file), ignore_index=True)\n"
     ]
    },
    {
     "name": "stdout",
     "output_type": "stream",
     "text": [
      "EG_NTM_s40_MODb.myrmidon\n"
     ]
    },
    {
     "name": "stderr",
     "output_type": "stream",
     "text": [
      "/tmp/ipykernel_4052/3421888529.py:58: FutureWarning: The frame.append method is deprecated and will be removed from pandas in a future version. Use pandas.concat instead.\n",
      "  prop_df = prop_df.append(G_prop(G, start, end, myrm_file), ignore_index=True)\n"
     ]
    },
    {
     "name": "stdout",
     "output_type": "stream",
     "text": [
      "EG_NTM_s41_DEHa.myrmidon\n"
     ]
    },
    {
     "name": "stderr",
     "output_type": "stream",
     "text": [
      "/tmp/ipykernel_4052/3421888529.py:58: FutureWarning: The frame.append method is deprecated and will be removed from pandas in a future version. Use pandas.concat instead.\n",
      "  prop_df = prop_df.append(G_prop(G, start, end, myrm_file), ignore_index=True)\n"
     ]
    },
    {
     "name": "stdout",
     "output_type": "stream",
     "text": [
      "EG_NTM_s41_DEHb.myrmidon\n"
     ]
    },
    {
     "name": "stderr",
     "output_type": "stream",
     "text": [
      "/tmp/ipykernel_4052/3421888529.py:58: FutureWarning: The frame.append method is deprecated and will be removed from pandas in a future version. Use pandas.concat instead.\n",
      "  prop_df = prop_df.append(G_prop(G, start, end, myrm_file), ignore_index=True)\n"
     ]
    },
    {
     "name": "stdout",
     "output_type": "stream",
     "text": [
      "EG_NTM_s42_DIAa.myrmidon\n"
     ]
    },
    {
     "name": "stderr",
     "output_type": "stream",
     "text": [
      "/tmp/ipykernel_4052/3421888529.py:58: FutureWarning: The frame.append method is deprecated and will be removed from pandas in a future version. Use pandas.concat instead.\n",
      "  prop_df = prop_df.append(G_prop(G, start, end, myrm_file), ignore_index=True)\n"
     ]
    },
    {
     "name": "stdout",
     "output_type": "stream",
     "text": [
      "EG_NTM_s42_DIAb.myrmidon\n"
     ]
    },
    {
     "name": "stderr",
     "output_type": "stream",
     "text": [
      "/tmp/ipykernel_4052/3421888529.py:58: FutureWarning: The frame.append method is deprecated and will be removed from pandas in a future version. Use pandas.concat instead.\n",
      "  prop_df = prop_df.append(G_prop(G, start, end, myrm_file), ignore_index=True)\n"
     ]
    },
    {
     "name": "stdout",
     "output_type": "stream",
     "text": [
      "EG_NTM_s43_DENa.myrmidon\n"
     ]
    },
    {
     "name": "stderr",
     "output_type": "stream",
     "text": [
      "/tmp/ipykernel_4052/3421888529.py:58: FutureWarning: The frame.append method is deprecated and will be removed from pandas in a future version. Use pandas.concat instead.\n",
      "  prop_df = prop_df.append(G_prop(G, start, end, myrm_file), ignore_index=True)\n"
     ]
    },
    {
     "name": "stdout",
     "output_type": "stream",
     "text": [
      "EG_NTM_s43_DENb.myrmidon\n"
     ]
    },
    {
     "name": "stderr",
     "output_type": "stream",
     "text": [
      "/tmp/ipykernel_4052/3421888529.py:58: FutureWarning: The frame.append method is deprecated and will be removed from pandas in a future version. Use pandas.concat instead.\n",
      "  prop_df = prop_df.append(G_prop(G, start, end, myrm_file), ignore_index=True)\n"
     ]
    },
    {
     "name": "stdout",
     "output_type": "stream",
     "text": [
      "EG_NTM_s44_MODa.myrmidon\n"
     ]
    },
    {
     "name": "stderr",
     "output_type": "stream",
     "text": [
      "/tmp/ipykernel_4052/3421888529.py:58: FutureWarning: The frame.append method is deprecated and will be removed from pandas in a future version. Use pandas.concat instead.\n",
      "  prop_df = prop_df.append(G_prop(G, start, end, myrm_file), ignore_index=True)\n"
     ]
    },
    {
     "name": "stdout",
     "output_type": "stream",
     "text": [
      "EG_NTM_s44_MODb.myrmidon\n"
     ]
    },
    {
     "name": "stderr",
     "output_type": "stream",
     "text": [
      "/tmp/ipykernel_4052/3421888529.py:58: FutureWarning: The frame.append method is deprecated and will be removed from pandas in a future version. Use pandas.concat instead.\n",
      "  prop_df = prop_df.append(G_prop(G, start, end, myrm_file), ignore_index=True)\n"
     ]
    },
    {
     "name": "stdout",
     "output_type": "stream",
     "text": [
      "EG_NTM_s45_DENa.myrmidon\n"
     ]
    },
    {
     "name": "stderr",
     "output_type": "stream",
     "text": [
      "/tmp/ipykernel_4052/3421888529.py:58: FutureWarning: The frame.append method is deprecated and will be removed from pandas in a future version. Use pandas.concat instead.\n",
      "  prop_df = prop_df.append(G_prop(G, start, end, myrm_file), ignore_index=True)\n"
     ]
    },
    {
     "name": "stdout",
     "output_type": "stream",
     "text": [
      "EG_NTM_s45_DENb.myrmidon\n"
     ]
    },
    {
     "name": "stderr",
     "output_type": "stream",
     "text": [
      "/tmp/ipykernel_4052/3421888529.py:58: FutureWarning: The frame.append method is deprecated and will be removed from pandas in a future version. Use pandas.concat instead.\n",
      "  prop_df = prop_df.append(G_prop(G, start, end, myrm_file), ignore_index=True)\n"
     ]
    },
    {
     "name": "stdout",
     "output_type": "stream",
     "text": [
      "EG_NTM_s46_DIAa.myrmidon\n"
     ]
    },
    {
     "name": "stderr",
     "output_type": "stream",
     "text": [
      "/tmp/ipykernel_4052/3421888529.py:58: FutureWarning: The frame.append method is deprecated and will be removed from pandas in a future version. Use pandas.concat instead.\n",
      "  prop_df = prop_df.append(G_prop(G, start, end, myrm_file), ignore_index=True)\n"
     ]
    },
    {
     "name": "stdout",
     "output_type": "stream",
     "text": [
      "EG_NTM_s46_DIAb.myrmidon\n"
     ]
    },
    {
     "name": "stderr",
     "output_type": "stream",
     "text": [
      "/tmp/ipykernel_4052/3421888529.py:58: FutureWarning: The frame.append method is deprecated and will be removed from pandas in a future version. Use pandas.concat instead.\n",
      "  prop_df = prop_df.append(G_prop(G, start, end, myrm_file), ignore_index=True)\n"
     ]
    },
    {
     "name": "stdout",
     "output_type": "stream",
     "text": [
      "EG_NTM_s47_DEHa.myrmidon\n"
     ]
    },
    {
     "name": "stderr",
     "output_type": "stream",
     "text": [
      "/tmp/ipykernel_4052/3421888529.py:58: FutureWarning: The frame.append method is deprecated and will be removed from pandas in a future version. Use pandas.concat instead.\n",
      "  prop_df = prop_df.append(G_prop(G, start, end, myrm_file), ignore_index=True)\n"
     ]
    },
    {
     "name": "stdout",
     "output_type": "stream",
     "text": [
      "EG_NTM_s47_DEHb.myrmidon\n"
     ]
    },
    {
     "name": "stderr",
     "output_type": "stream",
     "text": [
      "/tmp/ipykernel_4052/3421888529.py:58: FutureWarning: The frame.append method is deprecated and will be removed from pandas in a future version. Use pandas.concat instead.\n",
      "  prop_df = prop_df.append(G_prop(G, start, end, myrm_file), ignore_index=True)\n"
     ]
    },
    {
     "name": "stdout",
     "output_type": "stream",
     "text": [
      "EG_NTM_s48_MODa.myrmidon\n"
     ]
    },
    {
     "name": "stderr",
     "output_type": "stream",
     "text": [
      "/tmp/ipykernel_4052/3421888529.py:58: FutureWarning: The frame.append method is deprecated and will be removed from pandas in a future version. Use pandas.concat instead.\n",
      "  prop_df = prop_df.append(G_prop(G, start, end, myrm_file), ignore_index=True)\n"
     ]
    },
    {
     "name": "stdout",
     "output_type": "stream",
     "text": [
      "EG_NTM_s48_MODb.myrmidon\n"
     ]
    },
    {
     "name": "stderr",
     "output_type": "stream",
     "text": [
      "/tmp/ipykernel_4052/3421888529.py:58: FutureWarning: The frame.append method is deprecated and will be removed from pandas in a future version. Use pandas.concat instead.\n",
      "  prop_df = prop_df.append(G_prop(G, start, end, myrm_file), ignore_index=True)\n"
     ]
    },
    {
     "name": "stdout",
     "output_type": "stream",
     "text": [
      "EG_NTM_s49_MODa.myrmidon\n"
     ]
    },
    {
     "name": "stderr",
     "output_type": "stream",
     "text": [
      "/tmp/ipykernel_4052/3421888529.py:58: FutureWarning: The frame.append method is deprecated and will be removed from pandas in a future version. Use pandas.concat instead.\n",
      "  prop_df = prop_df.append(G_prop(G, start, end, myrm_file), ignore_index=True)\n"
     ]
    },
    {
     "name": "stdout",
     "output_type": "stream",
     "text": [
      "EG_NTM_s49_MODb.myrmidon\n"
     ]
    },
    {
     "name": "stderr",
     "output_type": "stream",
     "text": [
      "/tmp/ipykernel_4052/3421888529.py:58: FutureWarning: The frame.append method is deprecated and will be removed from pandas in a future version. Use pandas.concat instead.\n",
      "  prop_df = prop_df.append(G_prop(G, start, end, myrm_file), ignore_index=True)\n"
     ]
    },
    {
     "name": "stdout",
     "output_type": "stream",
     "text": [
      "EG_NTM_s50_DIAa.myrmidon\n"
     ]
    },
    {
     "name": "stderr",
     "output_type": "stream",
     "text": [
      "/tmp/ipykernel_4052/3421888529.py:58: FutureWarning: The frame.append method is deprecated and will be removed from pandas in a future version. Use pandas.concat instead.\n",
      "  prop_df = prop_df.append(G_prop(G, start, end, myrm_file), ignore_index=True)\n"
     ]
    },
    {
     "name": "stdout",
     "output_type": "stream",
     "text": [
      "EG_NTM_s50_DIAb.myrmidon\n"
     ]
    },
    {
     "name": "stderr",
     "output_type": "stream",
     "text": [
      "/tmp/ipykernel_4052/3421888529.py:58: FutureWarning: The frame.append method is deprecated and will be removed from pandas in a future version. Use pandas.concat instead.\n",
      "  prop_df = prop_df.append(G_prop(G, start, end, myrm_file), ignore_index=True)\n"
     ]
    },
    {
     "name": "stdout",
     "output_type": "stream",
     "text": [
      "EG_NTM_s51_DEHa.myrmidon\n"
     ]
    },
    {
     "name": "stderr",
     "output_type": "stream",
     "text": [
      "/tmp/ipykernel_4052/3421888529.py:58: FutureWarning: The frame.append method is deprecated and will be removed from pandas in a future version. Use pandas.concat instead.\n",
      "  prop_df = prop_df.append(G_prop(G, start, end, myrm_file), ignore_index=True)\n"
     ]
    },
    {
     "name": "stdout",
     "output_type": "stream",
     "text": [
      "EG_NTM_s51_DEHb.myrmidon\n"
     ]
    },
    {
     "name": "stderr",
     "output_type": "stream",
     "text": [
      "/tmp/ipykernel_4052/3421888529.py:58: FutureWarning: The frame.append method is deprecated and will be removed from pandas in a future version. Use pandas.concat instead.\n",
      "  prop_df = prop_df.append(G_prop(G, start, end, myrm_file), ignore_index=True)\n"
     ]
    },
    {
     "name": "stdout",
     "output_type": "stream",
     "text": [
      "EG_NTM_s52_DENa.myrmidon\n"
     ]
    },
    {
     "name": "stderr",
     "output_type": "stream",
     "text": [
      "/tmp/ipykernel_4052/3421888529.py:58: FutureWarning: The frame.append method is deprecated and will be removed from pandas in a future version. Use pandas.concat instead.\n",
      "  prop_df = prop_df.append(G_prop(G, start, end, myrm_file), ignore_index=True)\n"
     ]
    },
    {
     "name": "stdout",
     "output_type": "stream",
     "text": [
      "EG_NTM_s52_DENb.myrmidon\n"
     ]
    },
    {
     "name": "stderr",
     "output_type": "stream",
     "text": [
      "/tmp/ipykernel_4052/3421888529.py:58: FutureWarning: The frame.append method is deprecated and will be removed from pandas in a future version. Use pandas.concat instead.\n",
      "  prop_df = prop_df.append(G_prop(G, start, end, myrm_file), ignore_index=True)\n"
     ]
    },
    {
     "name": "stdout",
     "output_type": "stream",
     "text": [
      "EG_NTM_s53_DIAa.myrmidon\n"
     ]
    },
    {
     "name": "stderr",
     "output_type": "stream",
     "text": [
      "/tmp/ipykernel_4052/3421888529.py:58: FutureWarning: The frame.append method is deprecated and will be removed from pandas in a future version. Use pandas.concat instead.\n",
      "  prop_df = prop_df.append(G_prop(G, start, end, myrm_file), ignore_index=True)\n"
     ]
    },
    {
     "name": "stdout",
     "output_type": "stream",
     "text": [
      "EG_NTM_s53_DIAb.myrmidon\n"
     ]
    },
    {
     "name": "stderr",
     "output_type": "stream",
     "text": [
      "/tmp/ipykernel_4052/3421888529.py:58: FutureWarning: The frame.append method is deprecated and will be removed from pandas in a future version. Use pandas.concat instead.\n",
      "  prop_df = prop_df.append(G_prop(G, start, end, myrm_file), ignore_index=True)\n"
     ]
    },
    {
     "name": "stdout",
     "output_type": "stream",
     "text": [
      "EG_NTM_s54_MODa.myrmidon\n"
     ]
    },
    {
     "name": "stderr",
     "output_type": "stream",
     "text": [
      "/tmp/ipykernel_4052/3421888529.py:58: FutureWarning: The frame.append method is deprecated and will be removed from pandas in a future version. Use pandas.concat instead.\n",
      "  prop_df = prop_df.append(G_prop(G, start, end, myrm_file), ignore_index=True)\n"
     ]
    },
    {
     "name": "stdout",
     "output_type": "stream",
     "text": [
      "EG_NTM_s54_MODb.myrmidon\n"
     ]
    },
    {
     "name": "stderr",
     "output_type": "stream",
     "text": [
      "/tmp/ipykernel_4052/3421888529.py:58: FutureWarning: The frame.append method is deprecated and will be removed from pandas in a future version. Use pandas.concat instead.\n",
      "  prop_df = prop_df.append(G_prop(G, start, end, myrm_file), ignore_index=True)\n"
     ]
    },
    {
     "name": "stdout",
     "output_type": "stream",
     "text": [
      "EG_NTM_s55_DEHa.myrmidon\n"
     ]
    },
    {
     "name": "stderr",
     "output_type": "stream",
     "text": [
      "/tmp/ipykernel_4052/3421888529.py:58: FutureWarning: The frame.append method is deprecated and will be removed from pandas in a future version. Use pandas.concat instead.\n",
      "  prop_df = prop_df.append(G_prop(G, start, end, myrm_file), ignore_index=True)\n"
     ]
    },
    {
     "name": "stdout",
     "output_type": "stream",
     "text": [
      "EG_NTM_s55_DEHb.myrmidon\n"
     ]
    },
    {
     "name": "stderr",
     "output_type": "stream",
     "text": [
      "/tmp/ipykernel_4052/3421888529.py:58: FutureWarning: The frame.append method is deprecated and will be removed from pandas in a future version. Use pandas.concat instead.\n",
      "  prop_df = prop_df.append(G_prop(G, start, end, myrm_file), ignore_index=True)\n"
     ]
    },
    {
     "name": "stdout",
     "output_type": "stream",
     "text": [
      "EG_NTM_s56_DENa.myrmidon\n"
     ]
    },
    {
     "name": "stderr",
     "output_type": "stream",
     "text": [
      "/tmp/ipykernel_4052/3421888529.py:58: FutureWarning: The frame.append method is deprecated and will be removed from pandas in a future version. Use pandas.concat instead.\n",
      "  prop_df = prop_df.append(G_prop(G, start, end, myrm_file), ignore_index=True)\n"
     ]
    },
    {
     "name": "stdout",
     "output_type": "stream",
     "text": [
      "EG_NTM_s56_DENb.myrmidon\n"
     ]
    },
    {
     "name": "stderr",
     "output_type": "stream",
     "text": [
      "/tmp/ipykernel_4052/3421888529.py:58: FutureWarning: The frame.append method is deprecated and will be removed from pandas in a future version. Use pandas.concat instead.\n",
      "  prop_df = prop_df.append(G_prop(G, start, end, myrm_file), ignore_index=True)\n"
     ]
    },
    {
     "data": {
      "text/html": [
       "<div>\n",
       "<style scoped>\n",
       "    .dataframe tbody tr th:only-of-type {\n",
       "        vertical-align: middle;\n",
       "    }\n",
       "\n",
       "    .dataframe tbody tr th {\n",
       "        vertical-align: top;\n",
       "    }\n",
       "\n",
       "    .dataframe thead th {\n",
       "        text-align: right;\n",
       "    }\n",
       "</style>\n",
       "<table border=\"1\" class=\"dataframe\">\n",
       "  <thead>\n",
       "    <tr style=\"text-align: right;\">\n",
       "      <th></th>\n",
       "      <th>rep</th>\n",
       "      <th>exp</th>\n",
       "      <th>start</th>\n",
       "      <th>end</th>\n",
       "      <th>CC</th>\n",
       "      <th>partition</th>\n",
       "      <th>MOD</th>\n",
       "      <th>DEN</th>\n",
       "      <th>wDIA</th>\n",
       "      <th>DIA</th>\n",
       "      <th>DEH</th>\n",
       "    </tr>\n",
       "  </thead>\n",
       "  <tbody>\n",
       "    <tr>\n",
       "      <th>0</th>\n",
       "      <td>13</td>\n",
       "      <td>DEHa</td>\n",
       "      <td>2021-09-12 09:00:00</td>\n",
       "      <td>2021-09-12 21:00:00</td>\n",
       "      <td>1</td>\n",
       "      <td>3</td>\n",
       "      <td>0.265934</td>\n",
       "      <td>0.964432</td>\n",
       "      <td>0.000959</td>\n",
       "      <td>2</td>\n",
       "      <td>62.734719</td>\n",
       "    </tr>\n",
       "    <tr>\n",
       "      <th>1</th>\n",
       "      <td>13</td>\n",
       "      <td>DEHb</td>\n",
       "      <td>2021-09-10 09:00:00</td>\n",
       "      <td>2021-09-10 21:00:00</td>\n",
       "      <td>1</td>\n",
       "      <td>3</td>\n",
       "      <td>0.24222</td>\n",
       "      <td>0.966289</td>\n",
       "      <td>0.000918</td>\n",
       "      <td>2</td>\n",
       "      <td>67.019309</td>\n",
       "    </tr>\n",
       "    <tr>\n",
       "      <th>2</th>\n",
       "      <td>14</td>\n",
       "      <td>MODa</td>\n",
       "      <td>2021-09-13 09:00:00</td>\n",
       "      <td>2021-09-13 21:00:00</td>\n",
       "      <td>1</td>\n",
       "      <td>4</td>\n",
       "      <td>0.293871</td>\n",
       "      <td>0.944481</td>\n",
       "      <td>0.001253</td>\n",
       "      <td>2</td>\n",
       "      <td>114.362474</td>\n",
       "    </tr>\n",
       "    <tr>\n",
       "      <th>3</th>\n",
       "      <td>14</td>\n",
       "      <td>MODb</td>\n",
       "      <td>2021-09-11 09:00:00</td>\n",
       "      <td>2021-09-11 21:00:00</td>\n",
       "      <td>1</td>\n",
       "      <td>3</td>\n",
       "      <td>0.213639</td>\n",
       "      <td>0.973502</td>\n",
       "      <td>0.001231</td>\n",
       "      <td>2</td>\n",
       "      <td>48.00076</td>\n",
       "    </tr>\n",
       "    <tr>\n",
       "      <th>4</th>\n",
       "      <td>15</td>\n",
       "      <td>DENa</td>\n",
       "      <td>2021-09-14 09:00:00</td>\n",
       "      <td>2021-09-14 21:00:00</td>\n",
       "      <td>1</td>\n",
       "      <td>3</td>\n",
       "      <td>0.280311</td>\n",
       "      <td>0.953569</td>\n",
       "      <td>0.0009</td>\n",
       "      <td>2</td>\n",
       "      <td>97.358765</td>\n",
       "    </tr>\n",
       "    <tr>\n",
       "      <th>...</th>\n",
       "      <td>...</td>\n",
       "      <td>...</td>\n",
       "      <td>...</td>\n",
       "      <td>...</td>\n",
       "      <td>...</td>\n",
       "      <td>...</td>\n",
       "      <td>...</td>\n",
       "      <td>...</td>\n",
       "      <td>...</td>\n",
       "      <td>...</td>\n",
       "      <td>...</td>\n",
       "    </tr>\n",
       "    <tr>\n",
       "      <th>83</th>\n",
       "      <td>54</td>\n",
       "      <td>MODb</td>\n",
       "      <td>2021-12-18 09:00:00</td>\n",
       "      <td>2021-12-18 21:00:00</td>\n",
       "      <td>1</td>\n",
       "      <td>5</td>\n",
       "      <td>0.180623</td>\n",
       "      <td>0.979296</td>\n",
       "      <td>0.000974</td>\n",
       "      <td>2</td>\n",
       "      <td>25.592593</td>\n",
       "    </tr>\n",
       "    <tr>\n",
       "      <th>84</th>\n",
       "      <td>55</td>\n",
       "      <td>DEHa</td>\n",
       "      <td>2021-12-21 09:00:00</td>\n",
       "      <td>2021-12-21 21:00:00</td>\n",
       "      <td>1</td>\n",
       "      <td>4</td>\n",
       "      <td>0.194317</td>\n",
       "      <td>0.984076</td>\n",
       "      <td>0.000687</td>\n",
       "      <td>2</td>\n",
       "      <td>20.453568</td>\n",
       "    </tr>\n",
       "    <tr>\n",
       "      <th>85</th>\n",
       "      <td>55</td>\n",
       "      <td>DEHb</td>\n",
       "      <td>2021-12-19 09:00:00</td>\n",
       "      <td>2021-12-19 21:00:00</td>\n",
       "      <td>1</td>\n",
       "      <td>4</td>\n",
       "      <td>0.162165</td>\n",
       "      <td>0.982428</td>\n",
       "      <td>0.000659</td>\n",
       "      <td>2</td>\n",
       "      <td>32.620648</td>\n",
       "    </tr>\n",
       "    <tr>\n",
       "      <th>86</th>\n",
       "      <td>56</td>\n",
       "      <td>DENa</td>\n",
       "      <td>2021-12-22 09:00:00</td>\n",
       "      <td>2021-12-22 21:00:00</td>\n",
       "      <td>1</td>\n",
       "      <td>4</td>\n",
       "      <td>0.200691</td>\n",
       "      <td>0.973129</td>\n",
       "      <td>0.000601</td>\n",
       "      <td>2</td>\n",
       "      <td>42.03654</td>\n",
       "    </tr>\n",
       "    <tr>\n",
       "      <th>87</th>\n",
       "      <td>56</td>\n",
       "      <td>DENb</td>\n",
       "      <td>2021-12-20 09:00:00</td>\n",
       "      <td>2021-12-20 21:00:00</td>\n",
       "      <td>1</td>\n",
       "      <td>3</td>\n",
       "      <td>0.18531</td>\n",
       "      <td>0.98504</td>\n",
       "      <td>0.00067</td>\n",
       "      <td>2</td>\n",
       "      <td>17.18848</td>\n",
       "    </tr>\n",
       "  </tbody>\n",
       "</table>\n",
       "<p>88 rows × 11 columns</p>\n",
       "</div>"
      ],
      "text/plain": [
       "   rep   exp                start                  end CC partition       MOD  \\\n",
       "0   13  DEHa  2021-09-12 09:00:00  2021-09-12 21:00:00  1         3  0.265934   \n",
       "1   13  DEHb  2021-09-10 09:00:00  2021-09-10 21:00:00  1         3   0.24222   \n",
       "2   14  MODa  2021-09-13 09:00:00  2021-09-13 21:00:00  1         4  0.293871   \n",
       "3   14  MODb  2021-09-11 09:00:00  2021-09-11 21:00:00  1         3  0.213639   \n",
       "4   15  DENa  2021-09-14 09:00:00  2021-09-14 21:00:00  1         3  0.280311   \n",
       "..  ..   ...                  ...                  ... ..       ...       ...   \n",
       "83  54  MODb  2021-12-18 09:00:00  2021-12-18 21:00:00  1         5  0.180623   \n",
       "84  55  DEHa  2021-12-21 09:00:00  2021-12-21 21:00:00  1         4  0.194317   \n",
       "85  55  DEHb  2021-12-19 09:00:00  2021-12-19 21:00:00  1         4  0.162165   \n",
       "86  56  DENa  2021-12-22 09:00:00  2021-12-22 21:00:00  1         4  0.200691   \n",
       "87  56  DENb  2021-12-20 09:00:00  2021-12-20 21:00:00  1         3   0.18531   \n",
       "\n",
       "         DEN      wDIA DIA         DEH  \n",
       "0   0.964432  0.000959   2   62.734719  \n",
       "1   0.966289  0.000918   2   67.019309  \n",
       "2   0.944481  0.001253   2  114.362474  \n",
       "3   0.973502  0.001231   2    48.00076  \n",
       "4   0.953569    0.0009   2   97.358765  \n",
       "..       ...       ...  ..         ...  \n",
       "83  0.979296  0.000974   2   25.592593  \n",
       "84  0.984076  0.000687   2   20.453568  \n",
       "85  0.982428  0.000659   2   32.620648  \n",
       "86  0.973129  0.000601   2    42.03654  \n",
       "87   0.98504   0.00067   2    17.18848  \n",
       "\n",
       "[88 rows x 11 columns]"
      ]
     },
     "execution_count": 19,
     "metadata": {},
     "output_type": "execute_result"
    }
   ],
   "source": [
    "## ========= PARAMETERS========= \n",
    "# Frame rate\n",
    "frm_rate = 6\n",
    "\n",
    "# maximum gap (s) for interaction computation\n",
    "max_gap = 20\n",
    "\n",
    "# minimum cumulative interaction duration (s)\n",
    "min_cum_duration = 0 \n",
    "\n",
    "# cumulative time window (s)\n",
    "time_win = 60 * 60 * 12\n",
    "\n",
    "## ============================ \n",
    "\n",
    "for myrm_file in myrm_list[20:]:\n",
    "    \n",
    "    print(myrm_file)\n",
    "    \n",
    "    # Open experiment file\n",
    "    exp = fm.Experiment.Open(working_dir + myrm_file)\n",
    "\n",
    "    # Number of ants\n",
    "    N_ants = len(exp.Ants)    \n",
    "\n",
    "    ## ------ Time window ------ \n",
    "    # define time window of cumulative network\n",
    "    start_date = (fm.Time.ToDateTime(fm.Query.GetDataInformations(exp).End) +\n",
    "                 timedelta(days = -1)).strftime(\"%Y-%m-%d\")\n",
    "    start = fm.Time(datetime.fromisoformat(start_date + 'T09:00:00'))\n",
    "\n",
    "    #end = fm.Query.GetDataInformations(exp).End\n",
    "    end = start.Add(fm.Duration(time_win * 10**9))\n",
    "    ## --------------------------\n",
    "\n",
    "    # initialise adj-matrix\n",
    "    adj_mat = np.zeros((N_ants, N_ants))\n",
    "\n",
    "    # Dictionary to convert timestamp of frame into corresponding frame number starting from 1 (with frame#1 at 'start' time)\n",
    "    TimeToFrame = {fm.Time.ToTimestamp(frm[0].FrameTime): i + 1 for i,frm in enumerate(fm.Query.CollideFrames(exp,start=start,end=end))}\n",
    "\n",
    "    # Populate network\n",
    "    for i in fm.Query.ComputeAntInteractions(exp,start=start,end=end,maximumGap=fm.Duration(max_gap*10**9))[1]:\n",
    "        adj_mat[i.IDs[0]-1, i.IDs[1]-1] += TimeToFrame[fm.Time.ToTimestamp(i.End)] - TimeToFrame[fm.Time.ToTimestamp(i.Start)]\n",
    "\n",
    "    # interaction filtering (remove weak connections)\n",
    "    adj_mat[adj_mat <  min_cum_duration * frm_rate] = 0\n",
    "\n",
    "    # network build\n",
    "    G = nx.Graph(adj_mat)\n",
    "\n",
    "    # store inverse of weights\n",
    "    nx.set_edge_attributes(G, \n",
    "                           {(i,j): 1/adj_mat[j,i] if adj_mat[j,i]>0 else 0 for i in range(len(adj_mat)) for j in range(i)},\n",
    "                           'inv_weight')\n",
    "\n",
    "    # Compute properties\n",
    "    prop_df = prop_df.append(G_prop(G, start, end, myrm_file), ignore_index=True)\n",
    "\n",
    "# Save\n",
    "a_file = open(\"data/prop_data.pkl\", \"wb\")\n",
    "pickle.dump(prop_df, a_file)\n",
    "a_file.close()\n",
    "\n",
    "prop_df\n",
    "\n",
    "    \n"
   ]
  },
  {
   "cell_type": "code",
   "execution_count": 25,
   "id": "92036890",
   "metadata": {},
   "outputs": [
    {
     "data": {
      "text/html": [
       "<div>\n",
       "<style scoped>\n",
       "    .dataframe tbody tr th:only-of-type {\n",
       "        vertical-align: middle;\n",
       "    }\n",
       "\n",
       "    .dataframe tbody tr th {\n",
       "        vertical-align: top;\n",
       "    }\n",
       "\n",
       "    .dataframe thead th {\n",
       "        text-align: right;\n",
       "    }\n",
       "</style>\n",
       "<table border=\"1\" class=\"dataframe\">\n",
       "  <thead>\n",
       "    <tr style=\"text-align: right;\">\n",
       "      <th></th>\n",
       "      <th>rep</th>\n",
       "      <th>exp</th>\n",
       "      <th>start</th>\n",
       "      <th>end</th>\n",
       "      <th>CC</th>\n",
       "      <th>partition</th>\n",
       "      <th>MOD</th>\n",
       "      <th>DEN</th>\n",
       "      <th>wDIA</th>\n",
       "      <th>DIA</th>\n",
       "      <th>DEH</th>\n",
       "    </tr>\n",
       "  </thead>\n",
       "  <tbody>\n",
       "    <tr>\n",
       "      <th>count</th>\n",
       "      <td>88</td>\n",
       "      <td>88</td>\n",
       "      <td>88</td>\n",
       "      <td>88</td>\n",
       "      <td>88</td>\n",
       "      <td>88</td>\n",
       "      <td>88.000000</td>\n",
       "      <td>88.000000</td>\n",
       "      <td>88.000000</td>\n",
       "      <td>88</td>\n",
       "      <td>88.000000</td>\n",
       "    </tr>\n",
       "    <tr>\n",
       "      <th>unique</th>\n",
       "      <td>44</td>\n",
       "      <td>8</td>\n",
       "      <td>66</td>\n",
       "      <td>66</td>\n",
       "      <td>3</td>\n",
       "      <td>5</td>\n",
       "      <td>88.000000</td>\n",
       "      <td>88.000000</td>\n",
       "      <td>88.000000</td>\n",
       "      <td>1</td>\n",
       "      <td>88.000000</td>\n",
       "    </tr>\n",
       "    <tr>\n",
       "      <th>top</th>\n",
       "      <td>13</td>\n",
       "      <td>DEHa</td>\n",
       "      <td>2021-09-12 09:00:00</td>\n",
       "      <td>2021-09-12 21:00:00</td>\n",
       "      <td>1</td>\n",
       "      <td>3</td>\n",
       "      <td>0.265934</td>\n",
       "      <td>0.964432</td>\n",
       "      <td>0.000959</td>\n",
       "      <td>2</td>\n",
       "      <td>62.734719</td>\n",
       "    </tr>\n",
       "    <tr>\n",
       "      <th>freq</th>\n",
       "      <td>2</td>\n",
       "      <td>11</td>\n",
       "      <td>2</td>\n",
       "      <td>2</td>\n",
       "      <td>79</td>\n",
       "      <td>38</td>\n",
       "      <td>1.000000</td>\n",
       "      <td>1.000000</td>\n",
       "      <td>1.000000</td>\n",
       "      <td>88</td>\n",
       "      <td>1.000000</td>\n",
       "    </tr>\n",
       "  </tbody>\n",
       "</table>\n",
       "</div>"
      ],
      "text/plain": [
       "        rep   exp                start                  end  CC  partition  \\\n",
       "count    88    88                   88                   88  88         88   \n",
       "unique   44     8                   66                   66   3          5   \n",
       "top      13  DEHa  2021-09-12 09:00:00  2021-09-12 21:00:00   1          3   \n",
       "freq      2    11                    2                    2  79         38   \n",
       "\n",
       "              MOD        DEN       wDIA  DIA        DEH  \n",
       "count   88.000000  88.000000  88.000000   88  88.000000  \n",
       "unique  88.000000  88.000000  88.000000    1  88.000000  \n",
       "top      0.265934   0.964432   0.000959    2  62.734719  \n",
       "freq     1.000000   1.000000   1.000000   88   1.000000  "
      ]
     },
     "execution_count": 25,
     "metadata": {},
     "output_type": "execute_result"
    }
   ],
   "source": [
    "prop_df.describe()\n"
   ]
  },
  {
   "cell_type": "code",
   "execution_count": 170,
   "id": "a2f44036",
   "metadata": {},
   "outputs": [
    {
     "data": {
      "text/html": [
       "<div>\n",
       "<style scoped>\n",
       "    .dataframe tbody tr th:only-of-type {\n",
       "        vertical-align: middle;\n",
       "    }\n",
       "\n",
       "    .dataframe tbody tr th {\n",
       "        vertical-align: top;\n",
       "    }\n",
       "\n",
       "    .dataframe thead th {\n",
       "        text-align: right;\n",
       "    }\n",
       "</style>\n",
       "<table border=\"1\" class=\"dataframe\">\n",
       "  <thead>\n",
       "    <tr style=\"text-align: right;\">\n",
       "      <th></th>\n",
       "      <th>rep</th>\n",
       "      <th>exp</th>\n",
       "      <th>start</th>\n",
       "      <th>end</th>\n",
       "      <th>CC</th>\n",
       "      <th>partition</th>\n",
       "      <th>MOD</th>\n",
       "      <th>DEN</th>\n",
       "      <th>wDIA</th>\n",
       "      <th>DIA</th>\n",
       "      <th>DEH</th>\n",
       "    </tr>\n",
       "  </thead>\n",
       "  <tbody>\n",
       "    <tr>\n",
       "      <th>0</th>\n",
       "      <td>3</td>\n",
       "      <td>DEHa</td>\n",
       "      <td>2021-08-22 09:00:00</td>\n",
       "      <td>2021-08-22 10:00:00</td>\n",
       "      <td>1</td>\n",
       "      <td>9</td>\n",
       "      <td>0.540942</td>\n",
       "      <td>0.314429</td>\n",
       "      <td>0.012808</td>\n",
       "      <td>3</td>\n",
       "      <td>700.236614</td>\n",
       "    </tr>\n",
       "    <tr>\n",
       "      <th>1</th>\n",
       "      <td>3</td>\n",
       "      <td>DEHb</td>\n",
       "      <td>2021-08-24 09:00:00</td>\n",
       "      <td>2021-08-24 10:00:00</td>\n",
       "      <td>1</td>\n",
       "      <td>9</td>\n",
       "      <td>0.527508</td>\n",
       "      <td>0.321877</td>\n",
       "      <td>0.041636</td>\n",
       "      <td>3</td>\n",
       "      <td>678.348944</td>\n",
       "    </tr>\n",
       "  </tbody>\n",
       "</table>\n",
       "</div>"
      ],
      "text/plain": [
       "  rep   exp                start                  end CC partition       MOD  \\\n",
       "0   3  DEHa  2021-08-22 09:00:00  2021-08-22 10:00:00  1         9  0.540942   \n",
       "1   3  DEHb  2021-08-24 09:00:00  2021-08-24 10:00:00  1         9  0.527508   \n",
       "\n",
       "        DEN      wDIA DIA         DEH  \n",
       "0  0.314429  0.012808   3  700.236614  \n",
       "1  0.321877  0.041636   3  678.348944  "
      ]
     },
     "execution_count": 170,
     "metadata": {},
     "output_type": "execute_result"
    }
   ],
   "source": [
    "# Open Pickle data\n",
    "\n",
    "a_file = open(\"data/prop_data.pkl\", \"rb\")\n",
    "prop_df = pickle.load(a_file)\n",
    "prop_df"
   ]
  },
  {
   "cell_type": "code",
   "execution_count": 67,
   "id": "c9db436e",
   "metadata": {},
   "outputs": [
    {
     "data": {
      "image/png": "[encoded data removed]",
      "text/plain": [
       "<Figure size 432x288 with 1 Axes>"
      ]
     },
     "metadata": {},
     "output_type": "display_data"
    }
   ],
   "source": [
    "\n",
    "#%% PLOTTING network comparison\n",
    "# starting node position for spring layout\n",
    "sns.set(font_scale = 1)\n",
    "plt.figure()\n",
    "start_pos = nx.random_layout(G)\n",
    "\n",
    "# manual \n",
    "pos = nx.spring_layout(GC,  iterations=100, pos=start_pos)\n",
    "ax = plt.subplot(121)\n",
    "nx.draw(GC, ax=ax, pos=pos, node_size=1*100, alpha=0.8)\n",
    "p = plt.title('MANUAL - CC = ' +str(len(Gcc)))\n"
   ]
  }
 ],
 "metadata": {
  "kernelspec": {
   "display_name": "Python 3 (ipykernel)",
   "language": "python",
   "name": "python3"
  },
  "language_info": {
   "codemirror_mode": {
    "name": "ipython",
    "version": 3
   },
   "file_extension": ".py",
   "mimetype": "text/x-python",
   "name": "python",
   "nbconvert_exporter": "python",
   "pygments_lexer": "ipython3",
   "version": "3.8.12"
  }
 },
 "nbformat": 4,
 "nbformat_minor": 5
}
