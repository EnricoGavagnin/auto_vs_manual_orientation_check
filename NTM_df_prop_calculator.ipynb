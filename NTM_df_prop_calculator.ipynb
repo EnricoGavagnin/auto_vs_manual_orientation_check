{
 "cells": [
  {
   "cell_type": "markdown",
   "id": "0363aa6c",
   "metadata": {},
   "source": [
    "# NTM - dataframe calculator\n",
    "### Enrico Gavagnin"
   ]
  },
  {
   "cell_type": "code",
   "execution_count": 1,
   "id": "0507d3b1",
   "metadata": {},
   "outputs": [],
   "source": [
    "import numpy as np\n",
    "import pandas as pd\n",
    "import matplotlib.pylab as plt\n",
    "import seaborn as sns\n",
    "import py_fort_myrmidon as fm\n",
    "import datetime\n",
    "import networkx as nx\n",
    "import networkx.algorithms.community as nxc\n",
    "#import community\n",
    "import statistics\n",
    "import scipy.stats as stats\n",
    "import os\n",
    "from datetime import datetime, date, timedelta\n",
    "import pickle\n",
    "import warnings\n",
    "warnings.simplefilter(action='ignore', category=FutureWarning)"
   ]
  },
  {
   "cell_type": "code",
   "execution_count": 2,
   "id": "5791b2d5",
   "metadata": {},
   "outputs": [],
   "source": [
    "working_dir = '/media/eg15396/EG_DATA-7/NTM/'\n",
    "myrm_list = sorted([ s for s in os.listdir(working_dir) if s[15:17] == '.m'])"
   ]
  },
  {
   "cell_type": "markdown",
   "id": "130781f6",
   "metadata": {},
   "source": [
    "## Property calculator (fixed time-window)"
   ]
  },
  {
   "cell_type": "code",
   "execution_count": 3,
   "id": "61b264fc",
   "metadata": {},
   "outputs": [],
   "source": [
    "# function to compute netowrk properties\n",
    "def G_prop(G, exp, start, end, time_win, max_gap, name, var, PLOT_HM_check = False):\n",
    "    \n",
    "    # compute connencted components\n",
    "    Gcc = sorted(nx.connected_components(G), key=len, reverse=True)\n",
    "\n",
    "    # Define Giant Component\n",
    "    GC = G.subgraph(Gcc[0])\n",
    "    \n",
    "    # Best partition Louvian Method\n",
    "    best_partition = nxc.louvain_communities(G, weight='weight')\n",
    "    best_partition_CC = nxc.louvain_communities(GC, weight='weight')\n",
    "    \n",
    "    if var != None:\n",
    "        best_partition_CC_3p = nxc.greedy_modularity_communities(GC, weight='weight', cutoff=3, best_n=3)\n",
    "        mode_p = mode_communities_dic[var['link_type']][name[11:14]][time_win]\n",
    "    else:\n",
    "        best_partition_CC_3p = nxc.greedy_modularity_communities(GC, weight='weight', cutoff=1, best_n=1)\n",
    "        mode_p = 1\n",
    "        \n",
    "    best_partition_CC_mode_p = nxc.greedy_modularity_communities(GC, weight='weight', cutoff=mode_p, best_n=mode_p)\n",
    "    \n",
    "    \n",
    "    # Heatmap partition plotting (optional)\n",
    "    if PLOT_HM_check:\n",
    "        \n",
    "        # Save HM_partition Louvain\n",
    "        directory = 'plots/HM_partition/unsup_mod/' + myrm_file[7:10]\n",
    "        if not os.path.exists(directory):\n",
    "            os.makedirs(directory)\n",
    "            \n",
    "        attributes = '_' + var['link_type'] + '_' + str(time_win / 3600) + 'h_' + str(var['h'])\n",
    "        PLOT_HM_partition(compute_HM_stack(exp, start, end), \n",
    "                          best_partition_CC, \n",
    "                          directory + '/', \n",
    "                          name[7:15] + attributes)\n",
    "        \n",
    "        # Save HM_partition 3 partition\n",
    "        directory = 'plots/HM_partition/sup_mod3p/' + myrm_file[7:10]\n",
    "        if not os.path.exists(directory):\n",
    "            os.makedirs(directory)\n",
    "            \n",
    "        attributes = '_' + var['link_type'] + '_' + str(time_win / 3600) + 'h_' + str(var['h'])\n",
    "        PLOT_HM_partition(compute_HM_stack(exp, start, end), \n",
    "                          best_partition_CC_3p, \n",
    "                          directory + '/', \n",
    "                          name[7:15] + attributes)\n",
    "        \n",
    "        # Save HM_partition mode parition\n",
    "        directory = 'plots/HM_partition/sup_modmp/' + myrm_file[7:10]\n",
    "        if not os.path.exists(directory):\n",
    "            os.makedirs(directory)\n",
    "            \n",
    "        attributes = '_' + var['link_type'] + '_' + str(time_win / 3600) + 'h_' + str(var['h'])\n",
    "        PLOT_HM_partition(compute_HM_stack(exp, start, end), \n",
    "                          best_partition_CC_mode_p, \n",
    "                          directory + '/', \n",
    "                          name[7:15] + attributes)\n",
    "\n",
    "    return {'rep': int(name[8:10]),\n",
    "            'exp': name[11:15],\n",
    "            'start': fm.Time.ToDateTime(start), \n",
    "            'time_win': time_win, \n",
    "            'max_gap': max_gap,\n",
    "            'GC': GC.number_of_nodes(),\n",
    "            'ants': G.number_of_nodes(),\n",
    "            'louvain_communities': len(best_partition_CC),\n",
    "            'MOD': nxc.modularity(G, best_partition),\n",
    "            'cMOD': nxc.modularity(GC, best_partition_CC),\n",
    "            'c3pMOD': nxc.modularity(GC, best_partition_CC_3p),\n",
    "            'cmpMOD': nxc.modularity(GC, best_partition_CC_mode_p),\n",
    "            'DEN': nx.density(G), \n",
    "            'wDEN': nx.adjacency_matrix(G).sum() / (G.number_of_nodes() * (G.number_of_nodes() - 1) * time_win),  # weighted density = sum all weights /(|V|*(|V|-1)/2 * time_win)\n",
    "            'DIA': nx.diameter(GC),\n",
    "            'wDIA': nx.diameter(GC, e=nx.eccentricity(GC, sp=dict(nx.shortest_path_length(GC,weight='inv_weight')))),\n",
    "            'RAD': nx.radius(GC),\n",
    "            'wRAD': nx.radius(GC, e=nx.eccentricity(GC, sp=dict(nx.shortest_path_length(GC,weight='inv_weight')))),\n",
    "            'DEH': np.std([G.degree(n) for n in G.nodes()]),\n",
    "            'cDEH': np.std([GC.degree(n) for n in GC.nodes()]),\n",
    "            'wDEH': np.std(nx.adjacency_matrix(G).sum(axis=0)), # strength heterogeneity\n",
    "            'cwDEH': np.std(nx.adjacency_matrix(GC).sum(axis=0)), # strength heterogeneity\n",
    "            'CLS': np.mean([c for c in nx.clustering(G, weight='weight').values()]) \n",
    "            }\n",
    "\n",
    "# initialise data-frame with properties\n",
    "prop_df = pd.DataFrame(columns=G_prop(nx.Graph(np.eye(2)),[],fm.Time.Now(),[],1,1,myrm_list[0],var=None).keys())"
   ]
  },
  {
   "cell_type": "markdown",
   "id": "fdf3a7af",
   "metadata": {},
   "source": [
    "## Heatmap partition"
   ]
  },
  {
   "cell_type": "code",
   "execution_count": 4,
   "id": "5ca67cd9",
   "metadata": {},
   "outputs": [],
   "source": [
    "# Heatmap stack calculator\n",
    "\n",
    "def compute_HM_stack(exp, start, end):\n",
    "    \n",
    "    # Number of ants\n",
    "    N_ants = len(exp.Ants)    \n",
    "    \n",
    "    bins_x = range(0,8000, 50)\n",
    "    bins_y = range(0,6000, 50)\n",
    "    \n",
    "    # initialise adj-matrix\n",
    "    HM_stack = [np.zeros((len(bins_y)-1,len(bins_x)-1))]*N_ants\n",
    "\n",
    "    # Populate network\n",
    "    for i in fm.Query.ComputeAntTrajectories(exp,start=start,end=end,maximumGap=fm.Duration(max_gap*10**9)):\n",
    "        \n",
    "        #print(i.Positions[:,1])\n",
    "        HM_stack[i.Ant - 1] = HM_stack[i.Ant - 1] + np.histogram2d(i.Positions[:,2],i.Positions[:,1], bins=[bins_y, bins_x])[0]           \n",
    "\n",
    "    return HM_stack\n",
    "\n",
    "# Function which plot heatmaps of partition\n",
    "def PLOT_HM_partition(HM_stack, partition, fld_path, file_name):\n",
    "    \n",
    "    n_partition = len(partition)\n",
    "    ant_list = list(frozenset().union(*list(partition)))\n",
    "    HM_part = {p: np.zeros(np.shape(HM_stack[0])) for p in range(n_partition)}\n",
    "    \n",
    "    # build background\n",
    "    background = np.zeros((np.shape(HM_stack[0])[0], np.shape(HM_stack[0])[1], 3))\n",
    "    \n",
    "    for a in ant_list:\n",
    "        for c in range(3):\n",
    "            background[:, :, c] += HM_stack[a]\n",
    "    for c in range(3):\n",
    "        background[:, :, c][background[:, :, c]>0] = 1\n",
    "\n",
    "    fig, axs = plt.subplots(int(np.ceil(n_partition / 3)), 3, figsize=(15, 10))\n",
    "    c = list(sns.color_palette()) + list(sns.color_palette(\"Set2\"))\n",
    "\n",
    "    for part_idx in range(n_partition):\n",
    "        \n",
    "        if n_partition >= 4:\n",
    "            axs[part_idx // 3, part_idx % 3].imshow(background, interpolation='gaussian')\n",
    "        else:\n",
    "            axs[part_idx].imshow(background, interpolation='gaussian')\n",
    "\n",
    "\n",
    "        part_size = 0\n",
    "        for ant in ant_list:\n",
    "            if ant in partition[part_idx]:\n",
    "                part_size += 1\n",
    "                HM_part[part_idx] += HM_stack[ant] \n",
    "\n",
    "        RGB = np.zeros((np.shape(HM_stack[0])[0], np.shape(HM_stack[0])[1], 4))\n",
    "\n",
    "        mono_scale = HM_part[part_idx]\n",
    "        mono_scale = mono_scale / np.nanpercentile(HM_part[part_idx], 98)\n",
    "        mono_scale[mono_scale>1] = 1\n",
    "\n",
    "        for rgb_idx in range(3): \n",
    "            RGB[:, :, rgb_idx] = c[part_idx][rgb_idx] \n",
    "        RGB[:, :, 3] = mono_scale\n",
    "\n",
    "        # Plotting heatmap\n",
    "        if n_partition >= 4:\n",
    "            axs[part_idx // 3, part_idx % 3].imshow(RGB, interpolation='hamming') \n",
    "            axs[part_idx // 3, part_idx % 3].set_title('Community ' + str(part_idx+1) + ' - size: ' + str(part_size))\n",
    "        else:\n",
    "            axs[part_idx].imshow(RGB, interpolation='hamming') \n",
    "            axs[part_idx].set_title('Community ' + str(part_idx+1) + ' - size: ' + str(part_size))\n",
    "\n",
    "    # remove axis \n",
    "    for idx_ax in range(int(np.ceil(n_partition / 3)) * 3):                \n",
    "        if n_partition >= 4:\n",
    "            axs[idx_ax // 3, idx_ax % 3].axis('off')\n",
    "        else:\n",
    "            axs[idx_ax].axis('off')\n",
    "        \n",
    "\n",
    "    plt.suptitle(file_name, fontweight=\"bold\")\n",
    "    plt.tight_layout()\n",
    "    plt.savefig(fld_path + file_name + '.png', facecolor='white', transparent=False)\n",
    "    plt.close()"
   ]
  },
  {
   "cell_type": "markdown",
   "id": "fe45c667",
   "metadata": {},
   "source": [
    "## Graph calculator"
   ]
  },
  {
   "cell_type": "code",
   "execution_count": 5,
   "id": "8f9b67b4",
   "metadata": {},
   "outputs": [],
   "source": [
    "# Function to compute the cumulative interaction function\n",
    "def compute_G(exp, start, end, min_cum_duration, frm_rate, link_type):\n",
    "    \n",
    "    # Number of ants\n",
    "    N_ants = len(exp.Ants)    \n",
    "\n",
    "    # initialise adj-matrix\n",
    "    adj_mat = np.zeros((N_ants, N_ants))\n",
    "\n",
    "    # Dictionary to convert timestamp of frame into corresponding frame number starting from 1 (with frame#1 at 'start' time)\n",
    "    TimeToFrame = {fm.Time.ToTimestamp(frm[0].FrameTime): i + 1 for i,frm in enumerate(fm.Query.CollideFrames(exp,start=start,end=end))}\n",
    "\n",
    "    # Populate network\n",
    "    for i in fm.Query.ComputeAntInteractions(exp,start=start,end=end,maximumGap=fm.Duration(max_gap*10**9),\n",
    "                                            reportFullTrajectories= False)[1]:\n",
    "        \n",
    "        # Focus on Nest zone (id=1)\n",
    "        if (1 in i.Trajectories[1].Zones):\n",
    "            \n",
    "            if link_type == 'length_inter':\n",
    "            # OPT1\n",
    "            # WEIGHTS: cumulative interaction time\n",
    "                adj_mat[i.IDs[0]-1, i.IDs[1]-1] += (TimeToFrame[fm.Time.ToTimestamp(i.End)] - TimeToFrame[fm.Time.ToTimestamp(i.Start)]) * 1 / frm_rate\n",
    "            elif link_type == '#inter':\n",
    "            # OPT2\n",
    "            # WEIGHTS: number of interactions\n",
    "                adj_mat[i.IDs[0]-1, i.IDs[1]-1] += 1\n",
    "            else:\n",
    "                raise TypeError('\"link_type\" not valid')\n",
    "                \n",
    "\n",
    "    # interaction filtering (remove weak connections)\n",
    "    adj_mat[adj_mat <  min_cum_duration] = 0\n",
    "\n",
    "    # network build\n",
    "    G = nx.Graph(adj_mat)\n",
    "\n",
    "    # store inverse of weights\n",
    "    nx.set_edge_attributes(G, \n",
    "                           {(i,j): 1/adj_mat[j,i] if adj_mat[j,i]>0 else 0 for i in range(len(adj_mat)) for j in range(i)},\n",
    "                           'inv_weight')\n",
    "    return G\n",
    "\n"
   ]
  },
  {
   "cell_type": "markdown",
   "id": "b18336b6",
   "metadata": {},
   "source": [
    "## Computing mode of communitites louvain"
   ]
  },
  {
   "cell_type": "code",
   "execution_count": 12,
   "id": "137002a0",
   "metadata": {},
   "outputs": [],
   "source": [
    "# Mode of communities number with louvain algorithm \n",
    "\n",
    "# ========== FILTERING ============\n",
    "reps_discarded = [20,41]\n",
    "mode_communities_dic = {}\n",
    "for data_file_name in ['data/prop_data_12_6_4_3_2_1_#inter_nest_louvain_only.pkl',\n",
    "                       'data/prop_data_12_6_4_3_2_1_length_inter_nest_louvain_only.pkl']:\n",
    "    df = pd.read_pickle(data_file_name).drop_duplicates()\n",
    "    \n",
    "    if '_#inter_' in data_file_name:\n",
    "        link_type = '#inter'\n",
    "    elif '_length_inter_'in data_file_name:\n",
    "        link_type = 'length_inter'\n",
    "    \n",
    "    mode_communities_dic[link_type] = {}\n",
    "\n",
    "    for exp in ['MOD', 'DIA', 'DEN', 'DEH']:\n",
    "        mode_communities_dic[link_type][exp] = {}\n",
    "        \n",
    "        for time_win in [1, 2, 3, 4, 6, 12]:\n",
    "            \n",
    "            df_filt = df.loc[(df.time_win==3600 * time_win) &  \n",
    "                            (df.exp.isin([exp+'a',exp+'b'])) & \n",
    "                            (~df.rep.isin(reps_discarded))]\n",
    "            \n",
    "            mode_communities_dic[link_type][exp][time_win * 3600] = df_filt.partition.mode()[0]\n",
    "    \n",
    "\n",
    "a_file = open('data/mode_communities_louvain.pkl', \"wb\")\n",
    "pickle.dump(mode_communities_dic, a_file)"
   ]
  },
  {
   "cell_type": "markdown",
   "id": "c7d6f4b3",
   "metadata": {},
   "source": [
    "## Loop myrm files"
   ]
  },
  {
   "cell_type": "code",
   "execution_count": 11,
   "id": "dfeb66ed",
   "metadata": {
    "scrolled": true
   },
   "outputs": [
    {
     "name": "stdout",
     "output_type": "stream",
     "text": [
      "#inter\n",
      "EG_NTM_s17_MODa.myrmidon\n",
      "Time_win:1h - time_slot: #1\n",
      "Time_win:1h - time_slot: #2\n",
      "Time_win:1h - time_slot: #3\n",
      "Time_win:1h - time_slot: #4\n",
      "Time_win:1h - time_slot: #5\n",
      "Time_win:1h - time_slot: #6\n",
      "Time_win:1h - time_slot: #7\n",
      "Time_win:1h - time_slot: #8\n",
      "Time_win:1h - time_slot: #9\n"
     ]
    },
    {
     "name": "stderr",
     "output_type": "stream",
     "text": [
      "/tmp/ipykernel_27668/3924340794.py:58: RuntimeWarning: divide by zero encountered in true_divide\n",
      "  mono_scale = mono_scale / np.nanpercentile(HM_part[part_idx], 98)\n",
      "/tmp/ipykernel_27668/3924340794.py:58: RuntimeWarning: invalid value encountered in true_divide\n",
      "  mono_scale = mono_scale / np.nanpercentile(HM_part[part_idx], 98)\n"
     ]
    },
    {
     "name": "stdout",
     "output_type": "stream",
     "text": [
      "Time_win:1h - time_slot: #10\n",
      "Time_win:1h - time_slot: #11\n",
      "Time_win:1h - time_slot: #12\n",
      "Time_win:2h - time_slot: #1\n",
      "Time_win:2h - time_slot: #2\n",
      "Time_win:2h - time_slot: #3\n",
      "Time_win:2h - time_slot: #4\n",
      "Time_win:2h - time_slot: #5\n"
     ]
    },
    {
     "name": "stderr",
     "output_type": "stream",
     "text": [
      "/tmp/ipykernel_27668/3924340794.py:58: RuntimeWarning: divide by zero encountered in true_divide\n",
      "  mono_scale = mono_scale / np.nanpercentile(HM_part[part_idx], 98)\n",
      "/tmp/ipykernel_27668/3924340794.py:58: RuntimeWarning: invalid value encountered in true_divide\n",
      "  mono_scale = mono_scale / np.nanpercentile(HM_part[part_idx], 98)\n"
     ]
    },
    {
     "name": "stdout",
     "output_type": "stream",
     "text": [
      "Time_win:2h - time_slot: #6\n",
      "Time_win:3h - time_slot: #1\n",
      "Time_win:3h - time_slot: #2\n",
      "Time_win:3h - time_slot: #3\n",
      "Time_win:3h - time_slot: #4\n",
      "Time_win:4h - time_slot: #1\n",
      "Time_win:4h - time_slot: #2\n",
      "Time_win:4h - time_slot: #3\n",
      "Time_win:6h - time_slot: #1\n",
      "Time_win:6h - time_slot: #2\n",
      "Time_win:12h - time_slot: #1\n",
      "EG_NTM_s17_MODb.myrmidon\n",
      "Time_win:1h - time_slot: #1\n",
      "Time_win:1h - time_slot: #2\n"
     ]
    },
    {
     "name": "stderr",
     "output_type": "stream",
     "text": [
      "/tmp/ipykernel_27668/3924340794.py:58: RuntimeWarning: divide by zero encountered in true_divide\n",
      "  mono_scale = mono_scale / np.nanpercentile(HM_part[part_idx], 98)\n",
      "/tmp/ipykernel_27668/3924340794.py:58: RuntimeWarning: invalid value encountered in true_divide\n",
      "  mono_scale = mono_scale / np.nanpercentile(HM_part[part_idx], 98)\n"
     ]
    },
    {
     "name": "stdout",
     "output_type": "stream",
     "text": [
      "Time_win:1h - time_slot: #3\n",
      "Time_win:1h - time_slot: #4\n",
      "Time_win:1h - time_slot: #5\n",
      "Time_win:1h - time_slot: #6\n",
      "Time_win:1h - time_slot: #7\n",
      "Time_win:1h - time_slot: #8\n",
      "Time_win:1h - time_slot: #9\n",
      "Time_win:1h - time_slot: #10\n",
      "Time_win:1h - time_slot: #11\n",
      "Time_win:1h - time_slot: #12\n",
      "Time_win:2h - time_slot: #1\n",
      "Time_win:2h - time_slot: #2\n",
      "Time_win:2h - time_slot: #3\n",
      "Time_win:2h - time_slot: #4\n",
      "Time_win:2h - time_slot: #5\n",
      "Time_win:2h - time_slot: #6\n",
      "Time_win:3h - time_slot: #1\n",
      "Time_win:3h - time_slot: #2\n",
      "Time_win:3h - time_slot: #3\n",
      "Time_win:3h - time_slot: #4\n",
      "Time_win:4h - time_slot: #1\n",
      "Time_win:4h - time_slot: #2\n",
      "Time_win:4h - time_slot: #3\n",
      "Time_win:6h - time_slot: #1\n",
      "Time_win:6h - time_slot: #2\n",
      "Time_win:12h - time_slot: #1\n",
      "EG_NTM_s18_DENa.myrmidon\n",
      "Time_win:1h - time_slot: #1\n",
      "Time_win:1h - time_slot: #2\n",
      "Time_win:1h - time_slot: #3\n",
      "Time_win:1h - time_slot: #4\n",
      "Time_win:1h - time_slot: #5\n"
     ]
    },
    {
     "name": "stderr",
     "output_type": "stream",
     "text": [
      "/tmp/ipykernel_27668/3924340794.py:58: RuntimeWarning: divide by zero encountered in true_divide\n",
      "  mono_scale = mono_scale / np.nanpercentile(HM_part[part_idx], 98)\n",
      "/tmp/ipykernel_27668/3924340794.py:58: RuntimeWarning: invalid value encountered in true_divide\n",
      "  mono_scale = mono_scale / np.nanpercentile(HM_part[part_idx], 98)\n"
     ]
    },
    {
     "ename": "KeyboardInterrupt",
     "evalue": "",
     "output_type": "error",
     "traceback": [
      "\u001b[0;31m---------------------------------------------------------------------------\u001b[0m",
      "\u001b[0;31mKeyboardInterrupt\u001b[0m                         Traceback (most recent call last)",
      "Input \u001b[0;32mIn [11]\u001b[0m, in \u001b[0;36m<module>\u001b[0;34m\u001b[0m\n\u001b[1;32m     57\u001b[0m             var \u001b[38;5;241m=\u001b[39m {\u001b[38;5;124m'\u001b[39m\u001b[38;5;124mlink_type\u001b[39m\u001b[38;5;124m'\u001b[39m: link_type, \u001b[38;5;124m'\u001b[39m\u001b[38;5;124mtime_win\u001b[39m\u001b[38;5;124m'\u001b[39m: time_win, \u001b[38;5;124m'\u001b[39m\u001b[38;5;124mh\u001b[39m\u001b[38;5;124m'\u001b[39m: tw}\n\u001b[1;32m     59\u001b[0m             \u001b[38;5;66;03m# Compute properties\u001b[39;00m\n\u001b[0;32m---> 60\u001b[0m             prop_df \u001b[38;5;241m=\u001b[39m prop_df\u001b[38;5;241m.\u001b[39mappend(\u001b[43mG_prop\u001b[49m\u001b[43m(\u001b[49m\u001b[43mG\u001b[49m\u001b[43m,\u001b[49m\u001b[43m \u001b[49m\u001b[43mexp\u001b[49m\u001b[43m,\u001b[49m\u001b[43m \u001b[49m\u001b[43ms\u001b[49m\u001b[43m,\u001b[49m\u001b[43m \u001b[49m\u001b[43me\u001b[49m\u001b[43m,\u001b[49m\u001b[43m \u001b[49m\u001b[43mtime_win\u001b[49m\u001b[43m,\u001b[49m\u001b[43m \u001b[49m\u001b[43mmax_gap\u001b[49m\u001b[43m,\u001b[49m\u001b[43m \u001b[49m\u001b[43mmyrm_file\u001b[49m\u001b[43m,\u001b[49m\u001b[43m \u001b[49m\u001b[43mvar\u001b[49m\u001b[43m \u001b[49m\u001b[38;5;241;43m=\u001b[39;49m\u001b[43m \u001b[49m\u001b[43mvar\u001b[49m\u001b[43m,\u001b[49m\u001b[43m \u001b[49m\u001b[43mPLOT_HM_check\u001b[49m\u001b[43m \u001b[49m\u001b[38;5;241;43m=\u001b[39;49m\u001b[43m \u001b[49m\u001b[38;5;28;43;01mTrue\u001b[39;49;00m\u001b[43m)\u001b[49m, ignore_index\u001b[38;5;241m=\u001b[39m\u001b[38;5;28;01mTrue\u001b[39;00m)\n\u001b[1;32m     62\u001b[0m \u001b[38;5;66;03m# Save\u001b[39;00m\n\u001b[1;32m     63\u001b[0m a_file \u001b[38;5;241m=\u001b[39m \u001b[38;5;28mopen\u001b[39m(\u001b[38;5;124m'\u001b[39m\u001b[38;5;124mdata/prop_data_12_6_4_3_2_1_\u001b[39m\u001b[38;5;124m'\u001b[39m \u001b[38;5;241m+\u001b[39m link_type \u001b[38;5;241m+\u001b[39m \u001b[38;5;124m'\u001b[39m\u001b[38;5;124m_nest.pkl\u001b[39m\u001b[38;5;124m'\u001b[39m, \u001b[38;5;124m\"\u001b[39m\u001b[38;5;124mwb\u001b[39m\u001b[38;5;124m\"\u001b[39m)\n",
      "Input \u001b[0;32mIn [3]\u001b[0m, in \u001b[0;36mG_prop\u001b[0;34m(G, exp, start, end, time_win, max_gap, name, var, PLOT_HM_check)\u001b[0m\n\u001b[1;32m     52\u001b[0m         os\u001b[38;5;241m.\u001b[39mmakedirs(directory)\n\u001b[1;32m     54\u001b[0m     attributes \u001b[38;5;241m=\u001b[39m \u001b[38;5;124m'\u001b[39m\u001b[38;5;124m_\u001b[39m\u001b[38;5;124m'\u001b[39m \u001b[38;5;241m+\u001b[39m var[\u001b[38;5;124m'\u001b[39m\u001b[38;5;124mlink_type\u001b[39m\u001b[38;5;124m'\u001b[39m] \u001b[38;5;241m+\u001b[39m \u001b[38;5;124m'\u001b[39m\u001b[38;5;124m_\u001b[39m\u001b[38;5;124m'\u001b[39m \u001b[38;5;241m+\u001b[39m \u001b[38;5;28mstr\u001b[39m(time_win \u001b[38;5;241m/\u001b[39m \u001b[38;5;241m3600\u001b[39m) \u001b[38;5;241m+\u001b[39m \u001b[38;5;124m'\u001b[39m\u001b[38;5;124mh_\u001b[39m\u001b[38;5;124m'\u001b[39m \u001b[38;5;241m+\u001b[39m \u001b[38;5;28mstr\u001b[39m(var[\u001b[38;5;124m'\u001b[39m\u001b[38;5;124mh\u001b[39m\u001b[38;5;124m'\u001b[39m])\n\u001b[0;32m---> 55\u001b[0m     PLOT_HM_partition(\u001b[43mcompute_HM_stack\u001b[49m\u001b[43m(\u001b[49m\u001b[43mexp\u001b[49m\u001b[43m,\u001b[49m\u001b[43m \u001b[49m\u001b[43mstart\u001b[49m\u001b[43m,\u001b[49m\u001b[43m \u001b[49m\u001b[43mend\u001b[49m\u001b[43m)\u001b[49m, \n\u001b[1;32m     56\u001b[0m                       best_partition_CC_mode_p, \n\u001b[1;32m     57\u001b[0m                       directory \u001b[38;5;241m+\u001b[39m \u001b[38;5;124m'\u001b[39m\u001b[38;5;124m/\u001b[39m\u001b[38;5;124m'\u001b[39m, \n\u001b[1;32m     58\u001b[0m                       name[\u001b[38;5;241m7\u001b[39m:\u001b[38;5;241m15\u001b[39m] \u001b[38;5;241m+\u001b[39m attributes)\n\u001b[1;32m     60\u001b[0m \u001b[38;5;28;01mreturn\u001b[39;00m {\u001b[38;5;124m'\u001b[39m\u001b[38;5;124mrep\u001b[39m\u001b[38;5;124m'\u001b[39m: \u001b[38;5;28mint\u001b[39m(name[\u001b[38;5;241m8\u001b[39m:\u001b[38;5;241m10\u001b[39m]),\n\u001b[1;32m     61\u001b[0m         \u001b[38;5;124m'\u001b[39m\u001b[38;5;124mexp\u001b[39m\u001b[38;5;124m'\u001b[39m: name[\u001b[38;5;241m11\u001b[39m:\u001b[38;5;241m15\u001b[39m],\n\u001b[1;32m     62\u001b[0m         \u001b[38;5;124m'\u001b[39m\u001b[38;5;124mstart\u001b[39m\u001b[38;5;124m'\u001b[39m: fm\u001b[38;5;241m.\u001b[39mTime\u001b[38;5;241m.\u001b[39mToDateTime(start), \n\u001b[0;32m   (...)\u001b[0m\n\u001b[1;32m     82\u001b[0m         \u001b[38;5;124m'\u001b[39m\u001b[38;5;124mCLS\u001b[39m\u001b[38;5;124m'\u001b[39m: np\u001b[38;5;241m.\u001b[39mmean([c \u001b[38;5;28;01mfor\u001b[39;00m c \u001b[38;5;129;01min\u001b[39;00m nx\u001b[38;5;241m.\u001b[39mclustering(G, weight\u001b[38;5;241m=\u001b[39m\u001b[38;5;124m'\u001b[39m\u001b[38;5;124mweight\u001b[39m\u001b[38;5;124m'\u001b[39m)\u001b[38;5;241m.\u001b[39mvalues()]) \n\u001b[1;32m     83\u001b[0m         }\n",
      "Input \u001b[0;32mIn [4]\u001b[0m, in \u001b[0;36mcompute_HM_stack\u001b[0;34m(exp, start, end)\u001b[0m\n\u001b[1;32m     12\u001b[0m HM_stack \u001b[38;5;241m=\u001b[39m [np\u001b[38;5;241m.\u001b[39mzeros((\u001b[38;5;28mlen\u001b[39m(bins_y)\u001b[38;5;241m-\u001b[39m\u001b[38;5;241m1\u001b[39m,\u001b[38;5;28mlen\u001b[39m(bins_x)\u001b[38;5;241m-\u001b[39m\u001b[38;5;241m1\u001b[39m))]\u001b[38;5;241m*\u001b[39mN_ants\n\u001b[1;32m     14\u001b[0m \u001b[38;5;66;03m# Populate network\u001b[39;00m\n\u001b[0;32m---> 15\u001b[0m \u001b[38;5;28;01mfor\u001b[39;00m i \u001b[38;5;129;01min\u001b[39;00m \u001b[43mfm\u001b[49m\u001b[38;5;241;43m.\u001b[39;49m\u001b[43mQuery\u001b[49m\u001b[38;5;241;43m.\u001b[39;49m\u001b[43mComputeAntTrajectories\u001b[49m\u001b[43m(\u001b[49m\u001b[43mexp\u001b[49m\u001b[43m,\u001b[49m\u001b[43mstart\u001b[49m\u001b[38;5;241;43m=\u001b[39;49m\u001b[43mstart\u001b[49m\u001b[43m,\u001b[49m\u001b[43mend\u001b[49m\u001b[38;5;241;43m=\u001b[39;49m\u001b[43mend\u001b[49m\u001b[43m,\u001b[49m\u001b[43mmaximumGap\u001b[49m\u001b[38;5;241;43m=\u001b[39;49m\u001b[43mfm\u001b[49m\u001b[38;5;241;43m.\u001b[39;49m\u001b[43mDuration\u001b[49m\u001b[43m(\u001b[49m\u001b[43mmax_gap\u001b[49m\u001b[38;5;241;43m*\u001b[39;49m\u001b[38;5;241;43m10\u001b[39;49m\u001b[38;5;241;43m*\u001b[39;49m\u001b[38;5;241;43m*\u001b[39;49m\u001b[38;5;241;43m9\u001b[39;49m\u001b[43m)\u001b[49m\u001b[43m)\u001b[49m:\n\u001b[1;32m     16\u001b[0m     \n\u001b[1;32m     17\u001b[0m     \u001b[38;5;66;03m#print(i.Positions[:,1])\u001b[39;00m\n\u001b[1;32m     18\u001b[0m     HM_stack[i\u001b[38;5;241m.\u001b[39mAnt \u001b[38;5;241m-\u001b[39m \u001b[38;5;241m1\u001b[39m] \u001b[38;5;241m=\u001b[39m HM_stack[i\u001b[38;5;241m.\u001b[39mAnt \u001b[38;5;241m-\u001b[39m \u001b[38;5;241m1\u001b[39m] \u001b[38;5;241m+\u001b[39m np\u001b[38;5;241m.\u001b[39mhistogram2d(i\u001b[38;5;241m.\u001b[39mPositions[:,\u001b[38;5;241m2\u001b[39m],i\u001b[38;5;241m.\u001b[39mPositions[:,\u001b[38;5;241m1\u001b[39m], bins\u001b[38;5;241m=\u001b[39m[bins_y, bins_x])[\u001b[38;5;241m0\u001b[39m]           \n\u001b[1;32m     20\u001b[0m \u001b[38;5;28;01mreturn\u001b[39;00m HM_stack\n",
      "\u001b[0;31mKeyboardInterrupt\u001b[0m: "
     ]
    }
   ],
   "source": [
    "## ========= PARAMETERS========= \n",
    "# Frame rate\n",
    "frm_rate = 6\n",
    "\n",
    "# max gap for different interactions\n",
    "max_gap = 10\n",
    "\n",
    "# minimum cumulative interaction duration (s)\n",
    "min_cum_duration = 0 \n",
    "\n",
    "# Read file with modes of communities number computed\n",
    "with open('data/mode_communities_louvain.pkl', 'rb') as f:\n",
    "    mode_communities_dic = pickle.load(f)\n",
    "\n",
    "# maximum gap (s) for interaction computation\n",
    "for link_type in ['#inter', 'length_inter']:\n",
    "    \n",
    "    # initialise data-frame with properties\n",
    "    prop_df = pd.DataFrame(columns=G_prop(nx.Graph(np.eye(2)),[],fm.Time.Now(),[],1,1,myrm_list[0],var=None).keys())\n",
    "\n",
    "    print(link_type)\n",
    "\n",
    "    for myrm_file in myrm_list[28:]:\n",
    "        \n",
    "        if int(myrm_file[8:10])==41: \n",
    "            continue\n",
    "\n",
    "        print(myrm_file)\n",
    "        \n",
    "        \n",
    "    \n",
    "        # Open experiment file\n",
    "        exp = fm.Experiment.Open(working_dir + myrm_file)\n",
    "\n",
    "        ## ------ Time window ------ \n",
    "        # define time window of cumulative network\n",
    "        start_date = (fm.Time.ToDateTime(fm.Query.GetDataInformations(exp).End) +\n",
    "                     timedelta(days = -1)).strftime(\"%Y-%m-%d\")\n",
    "\n",
    "        # ======== Total cumulative time window ========\n",
    "        start = fm.Time(datetime.fromisoformat(start_date + 'T09:00:00'))  \n",
    "        end = start.Add(fm.Duration(60 * 60 * 12 * 10**9))\n",
    "\n",
    "        # ======== 1H window ========\n",
    "        for time_win_h in [1, 2, 3, 4, 6, 12]:\n",
    "            time_win = 60 * 60 * time_win_h\n",
    "            \n",
    "            for tw in range(int(12/time_win_h)):\n",
    "                print('Time_win:' + str (time_win_h) + 'h - time_slot: #' + str(tw + 1))\n",
    "                s = start.Add(fm.Duration(tw * time_win * 10**9))\n",
    "                e = start.Add(fm.Duration((tw + 1) * time_win * 10**9))\n",
    "\n",
    "                # Compute network\n",
    "                G = compute_G(exp, s, e, min_cum_duration, frm_rate, link_type)\n",
    "\n",
    "                # variables dict\n",
    "                var = {'link_type': link_type, 'time_win': time_win, 'h': tw}\n",
    "\n",
    "                # Compute properties\n",
    "                prop_df = prop_df.append(G_prop(G, exp, s, e, time_win, max_gap, myrm_file, var = var, PLOT_HM_check = True), ignore_index=True)\n",
    "            \n",
    "    # Save\n",
    "    a_file = open('data/prop_data_12_6_4_3_2_1_' + link_type + '_nest.pkl', \"wb\")\n",
    "    pickle.dump(prop_df, a_file)\n",
    "    a_file.close()\n",
    "\n",
    "prop_df"
   ]
  },
  {
   "cell_type": "code",
   "execution_count": 10,
   "id": "ff4092db",
   "metadata": {},
   "outputs": [
    {
     "data": {
      "text/plain": [
       "'EG_NTM_s17_MODa.myrmidon'"
      ]
     },
     "execution_count": 10,
     "metadata": {},
     "output_type": "execute_result"
    }
   ],
   "source": [
    "myrm_list[28]"
   ]
  },
  {
   "cell_type": "code",
   "execution_count": null,
   "id": "66c97043",
   "metadata": {},
   "outputs": [],
   "source": []
  },
  {
   "cell_type": "code",
   "execution_count": 50,
   "id": "a5f13d3a",
   "metadata": {},
   "outputs": [
    {
     "name": "stdout",
     "output_type": "stream",
     "text": [
      "length_inter\n",
      "EG_NTM_s13_DEHa.myrmidon\n",
      "Time_win:1h - time_slot: #1\n"
     ]
    }
   ],
   "source": [
    "## ========= PARAMETERS========= \n",
    "# Frame rate\n",
    "frm_rate = 6\n",
    "\n",
    "# max gap for different interactions\n",
    "max_gap = 10\n",
    "\n",
    "# minimum cumulative interaction duration (s)\n",
    "min_cum_duration = 0 \n",
    "\n",
    "# Read file with modes of communities number computed\n",
    "with open('data/mode_communities_louvain.pkl', 'rb') as f:\n",
    "    mode_communities_dic = pickle.load(f)\n",
    "\n",
    "# maximum gap (s) for interaction computation\n",
    "for link_type in ['length_inter']:\n",
    "    \n",
    "    # initialise data-frame with properties\n",
    "    prop_df = pd.DataFrame(columns=G_prop(nx.Graph(np.eye(2)),[],fm.Time.Now(),[],1,1,myrm_list[0],var=None).keys())\n",
    "\n",
    "    print(link_type)\n",
    "\n",
    "    for myrm_file in myrm_list[20:21]:\n",
    "        \n",
    "        if int(myrm_file[8:10])==41: \n",
    "            continue\n",
    "\n",
    "        print(myrm_file)\n",
    "    \n",
    "        # Open experiment file\n",
    "        exp = fm.Experiment.Open(working_dir + myrm_file)\n",
    "\n",
    "        ## ------ Time window ------ \n",
    "        # define time window of cumulative network\n",
    "        start_date = (fm.Time.ToDateTime(fm.Query.GetDataInformations(exp).End) +\n",
    "                     timedelta(days = -1)).strftime(\"%Y-%m-%d\")\n",
    "\n",
    "        # ======== Total cumulative time window ========\n",
    "        start = fm.Time(datetime.fromisoformat(start_date + 'T09:00:00'))  \n",
    "        end = start.Add(fm.Duration(60 * 60 * 12 * 10**9))\n",
    "\n",
    "        # ======== 1H window ========\n",
    "        for time_win_h in [1]:\n",
    "            time_win = 60 * 60 * time_win_h\n",
    "            \n",
    "            for tw in range(1):\n",
    "                print('Time_win:' + str (time_win_h) + 'h - time_slot: #' + str(tw + 1))\n",
    "                s = start.Add(fm.Duration(tw * time_win * 10**9))\n",
    "                e = start.Add(fm.Duration((tw + 1) * time_win * 10**9))\n",
    "\n",
    "                # Compute network\n",
    "                G = compute_G(exp, s, e, min_cum_duration, frm_rate, link_type)\n",
    "\n",
    "                # variables dict\n",
    "                var = {'link_type': link_type, 'time_win': time_win, 'h': tw}\n",
    "\n",
    "                # Compute properties\n",
    "                G_prop(G, exp, s, e, time_win, max_gap, myrm_file, var = var, PLOT_HM_check = True)"
   ]
  },
  {
   "cell_type": "code",
   "execution_count": 35,
   "id": "175487d4",
   "metadata": {},
   "outputs": [
    {
     "data": {
      "text/plain": [
       "[0,\n",
       " 1,\n",
       " 2,\n",
       " 3,\n",
       " 4,\n",
       " 5,\n",
       " 6,\n",
       " 7,\n",
       " 8,\n",
       " 9,\n",
       " 10,\n",
       " 11,\n",
       " 12,\n",
       " 13,\n",
       " 14,\n",
       " 15,\n",
       " 16,\n",
       " 17,\n",
       " 18,\n",
       " 19,\n",
       " 20,\n",
       " 21,\n",
       " 22,\n",
       " 23,\n",
       " 24,\n",
       " 25,\n",
       " 26,\n",
       " 27,\n",
       " 28,\n",
       " 29,\n",
       " 30,\n",
       " 31,\n",
       " 32,\n",
       " 33,\n",
       " 34,\n",
       " 35,\n",
       " 36,\n",
       " 37,\n",
       " 38,\n",
       " 39,\n",
       " 40,\n",
       " 41,\n",
       " 42,\n",
       " 43,\n",
       " 44,\n",
       " 45,\n",
       " 46,\n",
       " 47,\n",
       " 48,\n",
       " 49,\n",
       " 50,\n",
       " 51,\n",
       " 52,\n",
       " 53,\n",
       " 54,\n",
       " 55,\n",
       " 56,\n",
       " 57,\n",
       " 58,\n",
       " 59,\n",
       " 60,\n",
       " 61,\n",
       " 62,\n",
       " 63,\n",
       " 64,\n",
       " 65,\n",
       " 66,\n",
       " 67,\n",
       " 68,\n",
       " 69,\n",
       " 70,\n",
       " 71,\n",
       " 72,\n",
       " 73,\n",
       " 74,\n",
       " 75,\n",
       " 76,\n",
       " 77,\n",
       " 78,\n",
       " 79,\n",
       " 80,\n",
       " 81,\n",
       " 82,\n",
       " 83,\n",
       " 84,\n",
       " 85,\n",
       " 86,\n",
       " 87,\n",
       " 88,\n",
       " 89,\n",
       " 90,\n",
       " 91,\n",
       " 92,\n",
       " 93,\n",
       " 94,\n",
       " 95,\n",
       " 96,\n",
       " 97,\n",
       " 98,\n",
       " 99,\n",
       " 100,\n",
       " 101,\n",
       " 102,\n",
       " 103,\n",
       " 104,\n",
       " 105,\n",
       " 106,\n",
       " 107,\n",
       " 108,\n",
       " 109,\n",
       " 110,\n",
       " 111,\n",
       " 112,\n",
       " 113,\n",
       " 114,\n",
       " 115,\n",
       " 116,\n",
       " 117,\n",
       " 118,\n",
       " 119,\n",
       " 120,\n",
       " 121,\n",
       " 122,\n",
       " 123,\n",
       " 124,\n",
       " 125,\n",
       " 126,\n",
       " 127,\n",
       " 128,\n",
       " 129,\n",
       " 130,\n",
       " 131,\n",
       " 132,\n",
       " 133,\n",
       " 134,\n",
       " 135,\n",
       " 136,\n",
       " 137,\n",
       " 138,\n",
       " 139,\n",
       " 140,\n",
       " 141,\n",
       " 142,\n",
       " 143,\n",
       " 144,\n",
       " 145,\n",
       " 146,\n",
       " 147,\n",
       " 148,\n",
       " 149,\n",
       " 150,\n",
       " 151,\n",
       " 152,\n",
       " 153,\n",
       " 154,\n",
       " 155,\n",
       " 156,\n",
       " 157,\n",
       " 158,\n",
       " 159,\n",
       " 160,\n",
       " 161,\n",
       " 162,\n",
       " 163,\n",
       " 164,\n",
       " 165,\n",
       " 166,\n",
       " 167,\n",
       " 168,\n",
       " 169,\n",
       " 170,\n",
       " 171,\n",
       " 172,\n",
       " 173,\n",
       " 174,\n",
       " 175,\n",
       " 176]"
      ]
     },
     "execution_count": 35,
     "metadata": {},
     "output_type": "execute_result"
    }
   ],
   "source": [
    "partition = nxc.greedy_modularity_communities(G, weight='weight')\n",
    "list(frozenset().union(*list(partition)))"
   ]
  },
  {
   "cell_type": "markdown",
   "id": "c9e6bc19",
   "metadata": {},
   "source": [
    "### Zoning Test"
   ]
  },
  {
   "cell_type": "code",
   "execution_count": null,
   "id": "fa461c4f",
   "metadata": {},
   "outputs": [],
   "source": [
    "myrm_file = myrm_list[-2]\n",
    "\n",
    "min_cum_duration = 0\n",
    "frm_rate = 6\n",
    "max_gap = 10\n",
    "\n",
    "\n",
    "exp = fm.Experiment.Open(working_dir + myrm_file)\n",
    "start_date = (fm.Time.ToDateTime(fm.Query.GetDataInformations(exp).End) +\n",
    "             timedelta(days = -1)).strftime(\"%Y-%m-%d\")\n",
    "\n",
    "# ======== 12H window ========\n",
    "\n",
    "# cumulative time window (s)\n",
    "time_win = 60 * 60 * 0.05\n",
    "\n",
    "for t in range(4):for a in range(150):\n",
    "#     plt.plot(np.array(prop_tree[a][1])/(6*60), range(len(prop_tree[a][1])))\n",
    "    start_g = fm.Time(datetime.fromisoformat(start_date + 'T09:00:00'))  \n",
    "    start = start_g.Add(fm.Duration(t * time_win * 10**9))\n",
    "    end = start.Add(fm.Duration(time_win * 10**9))\n",
    "    \n",
    "\n",
    "    N_ants = len(exp.Ants)\n",
    "\n",
    "    # Dictionary to convert timestamp of frame into corresponding frame number starting from 1 (with frame#1 at 'start' time)\n",
    "    #TimeToFrame = {fm.Time.ToTimestamp(frm[0].FrameTime): i + 1 for i,frm in enumerate(fm.Query.CollideFrames(exp,start=start,end=end))}\n",
    "    Q_int = fm.Query.ComputeAntInteractions(exp,start=start,end=end,maximumGap=fm.Duration(10*10**9),\n",
    "                                            reportFullTrajectories= False)\n",
    "    #G = compute_G(exp, start, end, min_cum_duration, frm_rate)\n",
    "\n",
    "\n",
    "    # compute connencted components\n",
    "    #Gcc = sorted(nx.connected_components(G), key=len, reverse=True)\n",
    "\n",
    "    # Define Giant Component\n",
    "    #GC = G.subgraph(Gcc[0])\n",
    "    \n",
    "    #plt.figure()\n",
    "    #nx.draw(GC)\n",
    "    #plt.title(GC.number_of_nodes())\n",
    "    l1 = []\n",
    "    for a in Q_int[1]:\n",
    "        if not(2 in a.Trajectories[1].Zones):\n",
    "            l1.append(a.Trajectories[1].Mean[:2])\n",
    "            \n",
    "            \n",
    "    \n",
    "    l1 = np.array(l1)\n",
    "    plt.scatter(l1[:,0],l1[:,1])\n",
    "    "
   ]
  },
  {
   "cell_type": "markdown",
   "id": "944cbe9e",
   "metadata": {},
   "source": [
    "# Propagation time expansion coefficient calculator "
   ]
  },
  {
   "cell_type": "code",
   "execution_count": 38,
   "id": "234ad101",
   "metadata": {},
   "outputs": [
    {
     "name": "stdout",
     "output_type": "stream",
     "text": [
      "EG_NTM_s13_DEHa.myrmidon\n",
      "EG_NTM_s13_DEHb.myrmidon\n",
      "EG_NTM_s14_MODa.myrmidon\n",
      "EG_NTM_s14_MODb.myrmidon\n",
      "EG_NTM_s15_DENa.myrmidon\n",
      "EG_NTM_s15_DENb.myrmidon\n",
      "EG_NTM_s16_DIAa.myrmidon\n",
      "EG_NTM_s16_DIAb.myrmidon\n",
      "EG_NTM_s17_MODa.myrmidon\n",
      "EG_NTM_s17_MODb.myrmidon\n",
      "EG_NTM_s18_DENa.myrmidon\n",
      "EG_NTM_s18_DENb.myrmidon\n",
      "EG_NTM_s19_DIAa.myrmidon\n",
      "EG_NTM_s19_DIAb.myrmidon\n",
      "EG_NTM_s20_DEHa.myrmidon\n",
      "EG_NTM_s20_DEHb.myrmidon\n",
      "EG_NTM_s21_DIAa.myrmidon\n",
      "EG_NTM_s21_DIAb.myrmidon\n",
      "EG_NTM_s22_MODa.myrmidon\n",
      "EG_NTM_s22_MODb.myrmidon\n",
      "EG_NTM_s23_DENa.myrmidon\n",
      "EG_NTM_s23_DENb.myrmidon\n",
      "EG_NTM_s24_DEHa.myrmidon\n",
      "EG_NTM_s24_DEHb.myrmidon\n",
      "EG_NTM_s25_DEHa.myrmidon\n",
      "EG_NTM_s25_DEHb.myrmidon\n",
      "EG_NTM_s26_DENa.myrmidon\n",
      "EG_NTM_s26_DENb.myrmidon\n",
      "EG_NTM_s27_MODa.myrmidon\n",
      "EG_NTM_s27_MODb.myrmidon\n",
      "EG_NTM_s28_DIAa.myrmidon\n",
      "EG_NTM_s28_DIAb.myrmidon\n",
      "EG_NTM_s29_DENa.myrmidon\n",
      "EG_NTM_s29_DENb.myrmidon\n",
      "EG_NTM_s30_MODa.myrmidon\n",
      "EG_NTM_s30_MODb.myrmidon\n",
      "EG_NTM_s31_DEHa.myrmidon\n",
      "EG_NTM_s31_DEHb.myrmidon\n",
      "EG_NTM_s32_DIAa.myrmidon\n",
      "EG_NTM_s32_DIAb.myrmidon\n",
      "EG_NTM_s33_MODa.myrmidon\n",
      "EG_NTM_s33_MODb.myrmidon\n",
      "EG_NTM_s34_DEHa.myrmidon\n",
      "EG_NTM_s34_DEHb.myrmidon\n",
      "EG_NTM_s35_DIAa.myrmidon\n",
      "EG_NTM_s35_DIAb.myrmidon\n",
      "EG_NTM_s36_DENa.myrmidon\n",
      "EG_NTM_s36_DENb.myrmidon\n",
      "EG_NTM_s37_DIAa.myrmidon\n",
      "EG_NTM_s37_DIAb.myrmidon\n",
      "EG_NTM_s38_DEHa.myrmidon\n",
      "EG_NTM_s38_DEHb.myrmidon\n",
      "EG_NTM_s39_DENa.myrmidon\n",
      "EG_NTM_s39_DENb.myrmidon\n",
      "EG_NTM_s40_MODa.myrmidon\n",
      "EG_NTM_s40_MODb.myrmidon\n",
      "EG_NTM_s42_DIAa.myrmidon\n",
      "EG_NTM_s42_DIAb.myrmidon\n",
      "EG_NTM_s43_DENa.myrmidon\n",
      "EG_NTM_s43_DENb.myrmidon\n",
      "EG_NTM_s44_MODa.myrmidon\n",
      "EG_NTM_s44_MODb.myrmidon\n",
      "EG_NTM_s45_DENa.myrmidon\n",
      "EG_NTM_s45_DENb.myrmidon\n",
      "EG_NTM_s46_DIAa.myrmidon\n",
      "EG_NTM_s46_DIAb.myrmidon\n",
      "EG_NTM_s47_DEHa.myrmidon\n",
      "EG_NTM_s47_DEHb.myrmidon\n",
      "EG_NTM_s48_MODa.myrmidon\n",
      "EG_NTM_s48_MODb.myrmidon\n",
      "EG_NTM_s49_MODa.myrmidon\n",
      "EG_NTM_s49_MODb.myrmidon\n",
      "EG_NTM_s50_DIAa.myrmidon\n",
      "EG_NTM_s50_DIAb.myrmidon\n",
      "EG_NTM_s51_DEHa.myrmidon\n",
      "EG_NTM_s51_DEHb.myrmidon\n",
      "EG_NTM_s52_DENa.myrmidon\n",
      "EG_NTM_s52_DENb.myrmidon\n",
      "EG_NTM_s53_DIAa.myrmidon\n",
      "EG_NTM_s53_DIAb.myrmidon\n",
      "EG_NTM_s54_MODa.myrmidon\n",
      "EG_NTM_s54_MODb.myrmidon\n",
      "EG_NTM_s55_DEHa.myrmidon\n",
      "EG_NTM_s55_DEHb.myrmidon\n",
      "EG_NTM_s56_DENa.myrmidon\n",
      "EG_NTM_s56_DENb.myrmidon\n",
      "COMPLETED SUCCESSFULLY\n"
     ]
    }
   ],
   "source": [
    "# function to compute propagation times expansion coefficients\n",
    "#def PTEC(exp, start, end, frm_rate):\n",
    "\n",
    "min_cum_duration = 0\n",
    "frm_rate = 6\n",
    "max_gap = 10\n",
    "\n",
    "prop_tree = {}\n",
    "\n",
    "\n",
    "for myrm_file in myrm_list[20:]:\n",
    "\n",
    "    if int(myrm_file[8:10])==41: \n",
    "        continue\n",
    "        \n",
    "    print(myrm_file)\n",
    "\n",
    "    exp = fm.Experiment.Open(working_dir + myrm_file)\n",
    "\n",
    "    # Number of ants\n",
    "    N_ants = len(exp.Ants)    \n",
    "\n",
    "\n",
    "    start_date = (fm.Time.ToDateTime(fm.Query.GetDataInformations(exp).End) + timedelta(days = -1)).strftime(\"%Y-%m-%d\")\n",
    "    start = fm.Time(datetime.fromisoformat(start_date + 'T09:00:00')) \n",
    "\n",
    "    time_win = 60 * 60 * 3\n",
    "\n",
    "    prop_tree_cln = {a:[[],[],[],[]] for a in range(N_ants)}\n",
    "\n",
    "    for tw in range(4):\n",
    "        s = start.Add(fm.Duration(tw * time_win * 10**9))\n",
    "        e = start.Add(fm.Duration((tw + 1) * time_win * 10**9))\n",
    "\n",
    "        prop_tree_tw = [[[{a + 1}], [0]] for a in range(N_ants)]\n",
    "\n",
    "        # # Dictionary to convert timestamp of frame into corresponding frame number starting from 1 (with frame#1 at 'start' time)\n",
    "        TimeToFrame = {fm.Time.ToTimestamp(frm[0].FrameTime): i + 1 for i,frm in enumerate(fm.Query.CollideFrames(exp,start=s,end=e))}\n",
    "\n",
    "        # # # Populate network\n",
    "        for i in fm.Query.ComputeAntInteractions(exp,start=s,end=e,maximumGap=fm.Duration(max_gap*10**9),\n",
    "                                                reportFullTrajectories= False)[1]:\n",
    "            # Focus on Nest zone (id=1)\n",
    "            for focal_ant in range(N_ants):\n",
    "                if (1 in i.Trajectories[1].Zones) & (len(prop_tree_tw[focal_ant][0][-1].intersection(set(i.IDs))) == 1) & (TimeToFrame[fm.Time.ToTimestamp(i.Start)] > prop_tree_tw[focal_ant][1][-1]):\n",
    "                   # if np.random.rand()< ?: # stochastic propagation ?\n",
    "                        prop_tree_tw[focal_ant][0].append(prop_tree_tw[focal_ant][0][-1].union(set(i.IDs)))\n",
    "                        prop_tree_tw[focal_ant][1].append(TimeToFrame[fm.Time.ToTimestamp(i.Start)])\n",
    "\n",
    "        for focal_ant in range(N_ants):\n",
    "            prop_tree_cln[focal_ant][tw] = prop_tree_tw[focal_ant][1] \n",
    "\n",
    "    prop_tree[myrm_file[7:15]] = prop_tree_cln\n",
    "\n",
    "with open('data/propagation_trees_data.pkl', 'wb') as f:\n",
    "    pickle.dump(prop_tree, f)\n",
    "    \n",
    "print('COMPLETED SUCCESSFULLY')\n"
   ]
  },
  {
   "cell_type": "code",
   "execution_count": 33,
   "id": "8e8d0409",
   "metadata": {},
   "outputs": [
    {
     "data": {
      "image/png": "[encoded data removed]",
      "text/plain": [
       "<Figure size 432x288 with 1 Axes>"
      ]
     },
     "metadata": {
      "needs_background": "light"
     },
     "output_type": "display_data"
    }
   ],
   "source": [
    "for a in range(140):\n",
    "    plt.plot(np.array(prop_tree_tw[a][1])/(6*60), range(len(prop_tree_tw[a][1])))\n",
    "# prop_tree_dict = {a:[[],[],[],[]] for a in range(N_ants)}\n",
    "# prop_tree_dict = [[[],[],[],[]] for a in N_ants]\n",
    "# prop_tree_dict[0][0] = prop_tree[0][1]\n",
    "# prop_tree_dict\n",
    "\n",
    "# with open('data/propagation_trees_data.pkl', 'rb') as f:\n",
    "#     prop_tree = pickle.load(f)\n",
    "# prop_tree\n"
   ]
  },
  {
   "cell_type": "markdown",
   "id": "7222afa7",
   "metadata": {},
   "source": [
    "# Connectivity Dataframe (Gcc_df)"
   ]
  },
  {
   "cell_type": "code",
   "execution_count": null,
   "id": "d45b9003",
   "metadata": {
    "scrolled": true
   },
   "outputs": [
    {
     "name": "stdout",
     "output_type": "stream",
     "text": [
      "EG_NTM_s13_DEHa.myrmidon\n"
     ]
    },
    {
     "name": "stderr",
     "output_type": "stream",
     "text": [
      "/tmp/ipykernel_23904/3396144109.py:54: FutureWarning: The frame.append method is deprecated and will be removed from pandas in a future version. Use pandas.concat instead.\n",
      "  Gcc_df = Gcc_df.append({'rep': int(myrm_file[8:10]), 'exp': myrm_file[11:15], 'Gcc': Gcc}, ignore_index=True)\n"
     ]
    },
    {
     "name": "stdout",
     "output_type": "stream",
     "text": [
      "EG_NTM_s13_DEHb.myrmidon\n"
     ]
    },
    {
     "name": "stderr",
     "output_type": "stream",
     "text": [
      "/tmp/ipykernel_23904/3396144109.py:54: FutureWarning: The frame.append method is deprecated and will be removed from pandas in a future version. Use pandas.concat instead.\n",
      "  Gcc_df = Gcc_df.append({'rep': int(myrm_file[8:10]), 'exp': myrm_file[11:15], 'Gcc': Gcc}, ignore_index=True)\n"
     ]
    },
    {
     "name": "stdout",
     "output_type": "stream",
     "text": [
      "EG_NTM_s14_MODa.myrmidon\n"
     ]
    },
    {
     "name": "stderr",
     "output_type": "stream",
     "text": [
      "/tmp/ipykernel_23904/3396144109.py:54: FutureWarning: The frame.append method is deprecated and will be removed from pandas in a future version. Use pandas.concat instead.\n",
      "  Gcc_df = Gcc_df.append({'rep': int(myrm_file[8:10]), 'exp': myrm_file[11:15], 'Gcc': Gcc}, ignore_index=True)\n"
     ]
    },
    {
     "name": "stdout",
     "output_type": "stream",
     "text": [
      "EG_NTM_s14_MODb.myrmidon\n"
     ]
    },
    {
     "name": "stderr",
     "output_type": "stream",
     "text": [
      "/tmp/ipykernel_23904/3396144109.py:54: FutureWarning: The frame.append method is deprecated and will be removed from pandas in a future version. Use pandas.concat instead.\n",
      "  Gcc_df = Gcc_df.append({'rep': int(myrm_file[8:10]), 'exp': myrm_file[11:15], 'Gcc': Gcc}, ignore_index=True)\n"
     ]
    },
    {
     "name": "stdout",
     "output_type": "stream",
     "text": [
      "EG_NTM_s15_DENa.myrmidon\n"
     ]
    },
    {
     "name": "stderr",
     "output_type": "stream",
     "text": [
      "/tmp/ipykernel_23904/3396144109.py:54: FutureWarning: The frame.append method is deprecated and will be removed from pandas in a future version. Use pandas.concat instead.\n",
      "  Gcc_df = Gcc_df.append({'rep': int(myrm_file[8:10]), 'exp': myrm_file[11:15], 'Gcc': Gcc}, ignore_index=True)\n"
     ]
    },
    {
     "name": "stdout",
     "output_type": "stream",
     "text": [
      "EG_NTM_s15_DENb.myrmidon\n"
     ]
    },
    {
     "name": "stderr",
     "output_type": "stream",
     "text": [
      "/tmp/ipykernel_23904/3396144109.py:54: FutureWarning: The frame.append method is deprecated and will be removed from pandas in a future version. Use pandas.concat instead.\n",
      "  Gcc_df = Gcc_df.append({'rep': int(myrm_file[8:10]), 'exp': myrm_file[11:15], 'Gcc': Gcc}, ignore_index=True)\n"
     ]
    },
    {
     "name": "stdout",
     "output_type": "stream",
     "text": [
      "EG_NTM_s16_DIAa.myrmidon\n"
     ]
    },
    {
     "name": "stderr",
     "output_type": "stream",
     "text": [
      "/tmp/ipykernel_23904/3396144109.py:54: FutureWarning: The frame.append method is deprecated and will be removed from pandas in a future version. Use pandas.concat instead.\n",
      "  Gcc_df = Gcc_df.append({'rep': int(myrm_file[8:10]), 'exp': myrm_file[11:15], 'Gcc': Gcc}, ignore_index=True)\n"
     ]
    },
    {
     "name": "stdout",
     "output_type": "stream",
     "text": [
      "EG_NTM_s16_DIAb.myrmidon\n"
     ]
    },
    {
     "name": "stderr",
     "output_type": "stream",
     "text": [
      "/tmp/ipykernel_23904/3396144109.py:54: FutureWarning: The frame.append method is deprecated and will be removed from pandas in a future version. Use pandas.concat instead.\n",
      "  Gcc_df = Gcc_df.append({'rep': int(myrm_file[8:10]), 'exp': myrm_file[11:15], 'Gcc': Gcc}, ignore_index=True)\n"
     ]
    },
    {
     "name": "stdout",
     "output_type": "stream",
     "text": [
      "EG_NTM_s17_MODa.myrmidon\n"
     ]
    },
    {
     "name": "stderr",
     "output_type": "stream",
     "text": [
      "/tmp/ipykernel_23904/3396144109.py:54: FutureWarning: The frame.append method is deprecated and will be removed from pandas in a future version. Use pandas.concat instead.\n",
      "  Gcc_df = Gcc_df.append({'rep': int(myrm_file[8:10]), 'exp': myrm_file[11:15], 'Gcc': Gcc}, ignore_index=True)\n"
     ]
    },
    {
     "name": "stdout",
     "output_type": "stream",
     "text": [
      "EG_NTM_s17_MODb.myrmidon\n"
     ]
    },
    {
     "name": "stderr",
     "output_type": "stream",
     "text": [
      "/tmp/ipykernel_23904/3396144109.py:54: FutureWarning: The frame.append method is deprecated and will be removed from pandas in a future version. Use pandas.concat instead.\n",
      "  Gcc_df = Gcc_df.append({'rep': int(myrm_file[8:10]), 'exp': myrm_file[11:15], 'Gcc': Gcc}, ignore_index=True)\n"
     ]
    },
    {
     "name": "stdout",
     "output_type": "stream",
     "text": [
      "EG_NTM_s18_DENa.myrmidon\n"
     ]
    },
    {
     "name": "stderr",
     "output_type": "stream",
     "text": [
      "/tmp/ipykernel_23904/3396144109.py:54: FutureWarning: The frame.append method is deprecated and will be removed from pandas in a future version. Use pandas.concat instead.\n",
      "  Gcc_df = Gcc_df.append({'rep': int(myrm_file[8:10]), 'exp': myrm_file[11:15], 'Gcc': Gcc}, ignore_index=True)\n"
     ]
    },
    {
     "name": "stdout",
     "output_type": "stream",
     "text": [
      "EG_NTM_s18_DENb.myrmidon\n"
     ]
    },
    {
     "name": "stderr",
     "output_type": "stream",
     "text": [
      "/tmp/ipykernel_23904/3396144109.py:54: FutureWarning: The frame.append method is deprecated and will be removed from pandas in a future version. Use pandas.concat instead.\n",
      "  Gcc_df = Gcc_df.append({'rep': int(myrm_file[8:10]), 'exp': myrm_file[11:15], 'Gcc': Gcc}, ignore_index=True)\n"
     ]
    },
    {
     "name": "stdout",
     "output_type": "stream",
     "text": [
      "EG_NTM_s19_DIAa.myrmidon\n"
     ]
    },
    {
     "name": "stderr",
     "output_type": "stream",
     "text": [
      "/tmp/ipykernel_23904/3396144109.py:54: FutureWarning: The frame.append method is deprecated and will be removed from pandas in a future version. Use pandas.concat instead.\n",
      "  Gcc_df = Gcc_df.append({'rep': int(myrm_file[8:10]), 'exp': myrm_file[11:15], 'Gcc': Gcc}, ignore_index=True)\n"
     ]
    },
    {
     "name": "stdout",
     "output_type": "stream",
     "text": [
      "EG_NTM_s19_DIAb.myrmidon\n"
     ]
    },
    {
     "name": "stderr",
     "output_type": "stream",
     "text": [
      "/tmp/ipykernel_23904/3396144109.py:54: FutureWarning: The frame.append method is deprecated and will be removed from pandas in a future version. Use pandas.concat instead.\n",
      "  Gcc_df = Gcc_df.append({'rep': int(myrm_file[8:10]), 'exp': myrm_file[11:15], 'Gcc': Gcc}, ignore_index=True)\n"
     ]
    },
    {
     "name": "stdout",
     "output_type": "stream",
     "text": [
      "EG_NTM_s20_DEHa.myrmidon\n"
     ]
    },
    {
     "name": "stderr",
     "output_type": "stream",
     "text": [
      "/tmp/ipykernel_23904/3396144109.py:54: FutureWarning: The frame.append method is deprecated and will be removed from pandas in a future version. Use pandas.concat instead.\n",
      "  Gcc_df = Gcc_df.append({'rep': int(myrm_file[8:10]), 'exp': myrm_file[11:15], 'Gcc': Gcc}, ignore_index=True)\n"
     ]
    },
    {
     "name": "stdout",
     "output_type": "stream",
     "text": [
      "EG_NTM_s20_DEHb.myrmidon\n"
     ]
    },
    {
     "name": "stderr",
     "output_type": "stream",
     "text": [
      "/tmp/ipykernel_23904/3396144109.py:54: FutureWarning: The frame.append method is deprecated and will be removed from pandas in a future version. Use pandas.concat instead.\n",
      "  Gcc_df = Gcc_df.append({'rep': int(myrm_file[8:10]), 'exp': myrm_file[11:15], 'Gcc': Gcc}, ignore_index=True)\n"
     ]
    },
    {
     "name": "stdout",
     "output_type": "stream",
     "text": [
      "EG_NTM_s21_DIAa.myrmidon\n"
     ]
    },
    {
     "name": "stderr",
     "output_type": "stream",
     "text": [
      "/tmp/ipykernel_23904/3396144109.py:54: FutureWarning: The frame.append method is deprecated and will be removed from pandas in a future version. Use pandas.concat instead.\n",
      "  Gcc_df = Gcc_df.append({'rep': int(myrm_file[8:10]), 'exp': myrm_file[11:15], 'Gcc': Gcc}, ignore_index=True)\n"
     ]
    },
    {
     "name": "stdout",
     "output_type": "stream",
     "text": [
      "EG_NTM_s21_DIAb.myrmidon\n"
     ]
    },
    {
     "name": "stderr",
     "output_type": "stream",
     "text": [
      "/tmp/ipykernel_23904/3396144109.py:54: FutureWarning: The frame.append method is deprecated and will be removed from pandas in a future version. Use pandas.concat instead.\n",
      "  Gcc_df = Gcc_df.append({'rep': int(myrm_file[8:10]), 'exp': myrm_file[11:15], 'Gcc': Gcc}, ignore_index=True)\n"
     ]
    },
    {
     "name": "stdout",
     "output_type": "stream",
     "text": [
      "EG_NTM_s22_MODa.myrmidon\n"
     ]
    },
    {
     "name": "stderr",
     "output_type": "stream",
     "text": [
      "/tmp/ipykernel_23904/3396144109.py:54: FutureWarning: The frame.append method is deprecated and will be removed from pandas in a future version. Use pandas.concat instead.\n",
      "  Gcc_df = Gcc_df.append({'rep': int(myrm_file[8:10]), 'exp': myrm_file[11:15], 'Gcc': Gcc}, ignore_index=True)\n"
     ]
    },
    {
     "name": "stdout",
     "output_type": "stream",
     "text": [
      "EG_NTM_s22_MODb.myrmidon\n"
     ]
    },
    {
     "name": "stderr",
     "output_type": "stream",
     "text": [
      "/tmp/ipykernel_23904/3396144109.py:54: FutureWarning: The frame.append method is deprecated and will be removed from pandas in a future version. Use pandas.concat instead.\n",
      "  Gcc_df = Gcc_df.append({'rep': int(myrm_file[8:10]), 'exp': myrm_file[11:15], 'Gcc': Gcc}, ignore_index=True)\n"
     ]
    },
    {
     "name": "stdout",
     "output_type": "stream",
     "text": [
      "EG_NTM_s23_DENa.myrmidon\n"
     ]
    },
    {
     "name": "stderr",
     "output_type": "stream",
     "text": [
      "/tmp/ipykernel_23904/3396144109.py:54: FutureWarning: The frame.append method is deprecated and will be removed from pandas in a future version. Use pandas.concat instead.\n",
      "  Gcc_df = Gcc_df.append({'rep': int(myrm_file[8:10]), 'exp': myrm_file[11:15], 'Gcc': Gcc}, ignore_index=True)\n"
     ]
    },
    {
     "name": "stdout",
     "output_type": "stream",
     "text": [
      "EG_NTM_s23_DENb.myrmidon\n"
     ]
    },
    {
     "name": "stderr",
     "output_type": "stream",
     "text": [
      "/tmp/ipykernel_23904/3396144109.py:54: FutureWarning: The frame.append method is deprecated and will be removed from pandas in a future version. Use pandas.concat instead.\n",
      "  Gcc_df = Gcc_df.append({'rep': int(myrm_file[8:10]), 'exp': myrm_file[11:15], 'Gcc': Gcc}, ignore_index=True)\n"
     ]
    },
    {
     "name": "stdout",
     "output_type": "stream",
     "text": [
      "EG_NTM_s24_DEHa.myrmidon\n"
     ]
    },
    {
     "name": "stderr",
     "output_type": "stream",
     "text": [
      "/tmp/ipykernel_23904/3396144109.py:54: FutureWarning: The frame.append method is deprecated and will be removed from pandas in a future version. Use pandas.concat instead.\n",
      "  Gcc_df = Gcc_df.append({'rep': int(myrm_file[8:10]), 'exp': myrm_file[11:15], 'Gcc': Gcc}, ignore_index=True)\n"
     ]
    },
    {
     "name": "stdout",
     "output_type": "stream",
     "text": [
      "EG_NTM_s24_DEHb.myrmidon\n"
     ]
    },
    {
     "name": "stderr",
     "output_type": "stream",
     "text": [
      "/tmp/ipykernel_23904/3396144109.py:54: FutureWarning: The frame.append method is deprecated and will be removed from pandas in a future version. Use pandas.concat instead.\n",
      "  Gcc_df = Gcc_df.append({'rep': int(myrm_file[8:10]), 'exp': myrm_file[11:15], 'Gcc': Gcc}, ignore_index=True)\n"
     ]
    },
    {
     "name": "stdout",
     "output_type": "stream",
     "text": [
      "EG_NTM_s25_DEHa.myrmidon\n"
     ]
    },
    {
     "name": "stderr",
     "output_type": "stream",
     "text": [
      "/tmp/ipykernel_23904/3396144109.py:54: FutureWarning: The frame.append method is deprecated and will be removed from pandas in a future version. Use pandas.concat instead.\n",
      "  Gcc_df = Gcc_df.append({'rep': int(myrm_file[8:10]), 'exp': myrm_file[11:15], 'Gcc': Gcc}, ignore_index=True)\n"
     ]
    },
    {
     "name": "stdout",
     "output_type": "stream",
     "text": [
      "EG_NTM_s25_DEHb.myrmidon\n"
     ]
    },
    {
     "name": "stderr",
     "output_type": "stream",
     "text": [
      "/tmp/ipykernel_23904/3396144109.py:54: FutureWarning: The frame.append method is deprecated and will be removed from pandas in a future version. Use pandas.concat instead.\n",
      "  Gcc_df = Gcc_df.append({'rep': int(myrm_file[8:10]), 'exp': myrm_file[11:15], 'Gcc': Gcc}, ignore_index=True)\n"
     ]
    },
    {
     "name": "stdout",
     "output_type": "stream",
     "text": [
      "EG_NTM_s26_DENa.myrmidon\n"
     ]
    },
    {
     "name": "stderr",
     "output_type": "stream",
     "text": [
      "/tmp/ipykernel_23904/3396144109.py:54: FutureWarning: The frame.append method is deprecated and will be removed from pandas in a future version. Use pandas.concat instead.\n",
      "  Gcc_df = Gcc_df.append({'rep': int(myrm_file[8:10]), 'exp': myrm_file[11:15], 'Gcc': Gcc}, ignore_index=True)\n"
     ]
    },
    {
     "name": "stdout",
     "output_type": "stream",
     "text": [
      "EG_NTM_s26_DENb.myrmidon\n"
     ]
    },
    {
     "name": "stderr",
     "output_type": "stream",
     "text": [
      "/tmp/ipykernel_23904/3396144109.py:54: FutureWarning: The frame.append method is deprecated and will be removed from pandas in a future version. Use pandas.concat instead.\n",
      "  Gcc_df = Gcc_df.append({'rep': int(myrm_file[8:10]), 'exp': myrm_file[11:15], 'Gcc': Gcc}, ignore_index=True)\n"
     ]
    },
    {
     "name": "stdout",
     "output_type": "stream",
     "text": [
      "EG_NTM_s27_MODa.myrmidon\n"
     ]
    },
    {
     "name": "stderr",
     "output_type": "stream",
     "text": [
      "/tmp/ipykernel_23904/3396144109.py:54: FutureWarning: The frame.append method is deprecated and will be removed from pandas in a future version. Use pandas.concat instead.\n",
      "  Gcc_df = Gcc_df.append({'rep': int(myrm_file[8:10]), 'exp': myrm_file[11:15], 'Gcc': Gcc}, ignore_index=True)\n"
     ]
    },
    {
     "name": "stdout",
     "output_type": "stream",
     "text": [
      "EG_NTM_s27_MODb.myrmidon\n"
     ]
    },
    {
     "name": "stderr",
     "output_type": "stream",
     "text": [
      "/tmp/ipykernel_23904/3396144109.py:54: FutureWarning: The frame.append method is deprecated and will be removed from pandas in a future version. Use pandas.concat instead.\n",
      "  Gcc_df = Gcc_df.append({'rep': int(myrm_file[8:10]), 'exp': myrm_file[11:15], 'Gcc': Gcc}, ignore_index=True)\n"
     ]
    },
    {
     "name": "stdout",
     "output_type": "stream",
     "text": [
      "EG_NTM_s28_DIAa.myrmidon\n"
     ]
    },
    {
     "name": "stderr",
     "output_type": "stream",
     "text": [
      "/tmp/ipykernel_23904/3396144109.py:54: FutureWarning: The frame.append method is deprecated and will be removed from pandas in a future version. Use pandas.concat instead.\n",
      "  Gcc_df = Gcc_df.append({'rep': int(myrm_file[8:10]), 'exp': myrm_file[11:15], 'Gcc': Gcc}, ignore_index=True)\n"
     ]
    },
    {
     "name": "stdout",
     "output_type": "stream",
     "text": [
      "EG_NTM_s28_DIAb.myrmidon\n"
     ]
    },
    {
     "name": "stderr",
     "output_type": "stream",
     "text": [
      "/tmp/ipykernel_23904/3396144109.py:54: FutureWarning: The frame.append method is deprecated and will be removed from pandas in a future version. Use pandas.concat instead.\n",
      "  Gcc_df = Gcc_df.append({'rep': int(myrm_file[8:10]), 'exp': myrm_file[11:15], 'Gcc': Gcc}, ignore_index=True)\n"
     ]
    },
    {
     "name": "stdout",
     "output_type": "stream",
     "text": [
      "EG_NTM_s29_DENa.myrmidon\n"
     ]
    },
    {
     "name": "stderr",
     "output_type": "stream",
     "text": [
      "/tmp/ipykernel_23904/3396144109.py:54: FutureWarning: The frame.append method is deprecated and will be removed from pandas in a future version. Use pandas.concat instead.\n",
      "  Gcc_df = Gcc_df.append({'rep': int(myrm_file[8:10]), 'exp': myrm_file[11:15], 'Gcc': Gcc}, ignore_index=True)\n"
     ]
    },
    {
     "name": "stdout",
     "output_type": "stream",
     "text": [
      "EG_NTM_s29_DENb.myrmidon\n"
     ]
    },
    {
     "name": "stderr",
     "output_type": "stream",
     "text": [
      "/tmp/ipykernel_23904/3396144109.py:54: FutureWarning: The frame.append method is deprecated and will be removed from pandas in a future version. Use pandas.concat instead.\n",
      "  Gcc_df = Gcc_df.append({'rep': int(myrm_file[8:10]), 'exp': myrm_file[11:15], 'Gcc': Gcc}, ignore_index=True)\n"
     ]
    },
    {
     "name": "stdout",
     "output_type": "stream",
     "text": [
      "EG_NTM_s30_MODa.myrmidon\n"
     ]
    },
    {
     "name": "stderr",
     "output_type": "stream",
     "text": [
      "/tmp/ipykernel_23904/3396144109.py:54: FutureWarning: The frame.append method is deprecated and will be removed from pandas in a future version. Use pandas.concat instead.\n",
      "  Gcc_df = Gcc_df.append({'rep': int(myrm_file[8:10]), 'exp': myrm_file[11:15], 'Gcc': Gcc}, ignore_index=True)\n"
     ]
    },
    {
     "name": "stdout",
     "output_type": "stream",
     "text": [
      "EG_NTM_s30_MODb.myrmidon\n"
     ]
    },
    {
     "name": "stderr",
     "output_type": "stream",
     "text": [
      "/tmp/ipykernel_23904/3396144109.py:54: FutureWarning: The frame.append method is deprecated and will be removed from pandas in a future version. Use pandas.concat instead.\n",
      "  Gcc_df = Gcc_df.append({'rep': int(myrm_file[8:10]), 'exp': myrm_file[11:15], 'Gcc': Gcc}, ignore_index=True)\n"
     ]
    },
    {
     "name": "stdout",
     "output_type": "stream",
     "text": [
      "EG_NTM_s31_DEHa.myrmidon\n"
     ]
    },
    {
     "name": "stderr",
     "output_type": "stream",
     "text": [
      "/tmp/ipykernel_23904/3396144109.py:54: FutureWarning: The frame.append method is deprecated and will be removed from pandas in a future version. Use pandas.concat instead.\n",
      "  Gcc_df = Gcc_df.append({'rep': int(myrm_file[8:10]), 'exp': myrm_file[11:15], 'Gcc': Gcc}, ignore_index=True)\n"
     ]
    },
    {
     "name": "stdout",
     "output_type": "stream",
     "text": [
      "EG_NTM_s31_DEHb.myrmidon\n"
     ]
    },
    {
     "name": "stderr",
     "output_type": "stream",
     "text": [
      "/tmp/ipykernel_23904/3396144109.py:54: FutureWarning: The frame.append method is deprecated and will be removed from pandas in a future version. Use pandas.concat instead.\n",
      "  Gcc_df = Gcc_df.append({'rep': int(myrm_file[8:10]), 'exp': myrm_file[11:15], 'Gcc': Gcc}, ignore_index=True)\n"
     ]
    },
    {
     "name": "stdout",
     "output_type": "stream",
     "text": [
      "EG_NTM_s32_DIAa.myrmidon\n"
     ]
    },
    {
     "name": "stderr",
     "output_type": "stream",
     "text": [
      "/tmp/ipykernel_23904/3396144109.py:54: FutureWarning: The frame.append method is deprecated and will be removed from pandas in a future version. Use pandas.concat instead.\n",
      "  Gcc_df = Gcc_df.append({'rep': int(myrm_file[8:10]), 'exp': myrm_file[11:15], 'Gcc': Gcc}, ignore_index=True)\n"
     ]
    },
    {
     "name": "stdout",
     "output_type": "stream",
     "text": [
      "EG_NTM_s32_DIAb.myrmidon\n"
     ]
    },
    {
     "name": "stderr",
     "output_type": "stream",
     "text": [
      "/tmp/ipykernel_23904/3396144109.py:54: FutureWarning: The frame.append method is deprecated and will be removed from pandas in a future version. Use pandas.concat instead.\n",
      "  Gcc_df = Gcc_df.append({'rep': int(myrm_file[8:10]), 'exp': myrm_file[11:15], 'Gcc': Gcc}, ignore_index=True)\n"
     ]
    },
    {
     "name": "stdout",
     "output_type": "stream",
     "text": [
      "EG_NTM_s33_MODa.myrmidon\n"
     ]
    },
    {
     "name": "stderr",
     "output_type": "stream",
     "text": [
      "/tmp/ipykernel_23904/3396144109.py:54: FutureWarning: The frame.append method is deprecated and will be removed from pandas in a future version. Use pandas.concat instead.\n",
      "  Gcc_df = Gcc_df.append({'rep': int(myrm_file[8:10]), 'exp': myrm_file[11:15], 'Gcc': Gcc}, ignore_index=True)\n"
     ]
    },
    {
     "name": "stdout",
     "output_type": "stream",
     "text": [
      "EG_NTM_s33_MODb.myrmidon\n"
     ]
    },
    {
     "name": "stderr",
     "output_type": "stream",
     "text": [
      "/tmp/ipykernel_23904/3396144109.py:54: FutureWarning: The frame.append method is deprecated and will be removed from pandas in a future version. Use pandas.concat instead.\n",
      "  Gcc_df = Gcc_df.append({'rep': int(myrm_file[8:10]), 'exp': myrm_file[11:15], 'Gcc': Gcc}, ignore_index=True)\n"
     ]
    },
    {
     "name": "stdout",
     "output_type": "stream",
     "text": [
      "EG_NTM_s34_DEHa.myrmidon\n"
     ]
    },
    {
     "name": "stderr",
     "output_type": "stream",
     "text": [
      "/tmp/ipykernel_23904/3396144109.py:54: FutureWarning: The frame.append method is deprecated and will be removed from pandas in a future version. Use pandas.concat instead.\n",
      "  Gcc_df = Gcc_df.append({'rep': int(myrm_file[8:10]), 'exp': myrm_file[11:15], 'Gcc': Gcc}, ignore_index=True)\n"
     ]
    },
    {
     "name": "stdout",
     "output_type": "stream",
     "text": [
      "EG_NTM_s34_DEHb.myrmidon\n"
     ]
    },
    {
     "name": "stderr",
     "output_type": "stream",
     "text": [
      "/tmp/ipykernel_23904/3396144109.py:54: FutureWarning: The frame.append method is deprecated and will be removed from pandas in a future version. Use pandas.concat instead.\n",
      "  Gcc_df = Gcc_df.append({'rep': int(myrm_file[8:10]), 'exp': myrm_file[11:15], 'Gcc': Gcc}, ignore_index=True)\n"
     ]
    },
    {
     "name": "stdout",
     "output_type": "stream",
     "text": [
      "EG_NTM_s35_DIAa.myrmidon\n"
     ]
    },
    {
     "name": "stderr",
     "output_type": "stream",
     "text": [
      "/tmp/ipykernel_23904/3396144109.py:54: FutureWarning: The frame.append method is deprecated and will be removed from pandas in a future version. Use pandas.concat instead.\n",
      "  Gcc_df = Gcc_df.append({'rep': int(myrm_file[8:10]), 'exp': myrm_file[11:15], 'Gcc': Gcc}, ignore_index=True)\n"
     ]
    },
    {
     "name": "stdout",
     "output_type": "stream",
     "text": [
      "EG_NTM_s35_DIAb.myrmidon\n"
     ]
    },
    {
     "name": "stderr",
     "output_type": "stream",
     "text": [
      "/tmp/ipykernel_23904/3396144109.py:54: FutureWarning: The frame.append method is deprecated and will be removed from pandas in a future version. Use pandas.concat instead.\n",
      "  Gcc_df = Gcc_df.append({'rep': int(myrm_file[8:10]), 'exp': myrm_file[11:15], 'Gcc': Gcc}, ignore_index=True)\n"
     ]
    },
    {
     "name": "stdout",
     "output_type": "stream",
     "text": [
      "EG_NTM_s36_DENa.myrmidon\n"
     ]
    },
    {
     "name": "stderr",
     "output_type": "stream",
     "text": [
      "/tmp/ipykernel_23904/3396144109.py:54: FutureWarning: The frame.append method is deprecated and will be removed from pandas in a future version. Use pandas.concat instead.\n",
      "  Gcc_df = Gcc_df.append({'rep': int(myrm_file[8:10]), 'exp': myrm_file[11:15], 'Gcc': Gcc}, ignore_index=True)\n"
     ]
    },
    {
     "name": "stdout",
     "output_type": "stream",
     "text": [
      "EG_NTM_s36_DENb.myrmidon\n"
     ]
    },
    {
     "name": "stderr",
     "output_type": "stream",
     "text": [
      "/tmp/ipykernel_23904/3396144109.py:54: FutureWarning: The frame.append method is deprecated and will be removed from pandas in a future version. Use pandas.concat instead.\n",
      "  Gcc_df = Gcc_df.append({'rep': int(myrm_file[8:10]), 'exp': myrm_file[11:15], 'Gcc': Gcc}, ignore_index=True)\n"
     ]
    },
    {
     "name": "stdout",
     "output_type": "stream",
     "text": [
      "EG_NTM_s37_DIAa.myrmidon\n"
     ]
    },
    {
     "name": "stderr",
     "output_type": "stream",
     "text": [
      "/tmp/ipykernel_23904/3396144109.py:54: FutureWarning: The frame.append method is deprecated and will be removed from pandas in a future version. Use pandas.concat instead.\n",
      "  Gcc_df = Gcc_df.append({'rep': int(myrm_file[8:10]), 'exp': myrm_file[11:15], 'Gcc': Gcc}, ignore_index=True)\n"
     ]
    },
    {
     "name": "stdout",
     "output_type": "stream",
     "text": [
      "EG_NTM_s37_DIAb.myrmidon\n"
     ]
    },
    {
     "name": "stderr",
     "output_type": "stream",
     "text": [
      "/tmp/ipykernel_23904/3396144109.py:54: FutureWarning: The frame.append method is deprecated and will be removed from pandas in a future version. Use pandas.concat instead.\n",
      "  Gcc_df = Gcc_df.append({'rep': int(myrm_file[8:10]), 'exp': myrm_file[11:15], 'Gcc': Gcc}, ignore_index=True)\n"
     ]
    },
    {
     "name": "stdout",
     "output_type": "stream",
     "text": [
      "EG_NTM_s38_DEHa.myrmidon\n"
     ]
    },
    {
     "name": "stderr",
     "output_type": "stream",
     "text": [
      "/tmp/ipykernel_23904/3396144109.py:54: FutureWarning: The frame.append method is deprecated and will be removed from pandas in a future version. Use pandas.concat instead.\n",
      "  Gcc_df = Gcc_df.append({'rep': int(myrm_file[8:10]), 'exp': myrm_file[11:15], 'Gcc': Gcc}, ignore_index=True)\n"
     ]
    },
    {
     "name": "stdout",
     "output_type": "stream",
     "text": [
      "EG_NTM_s38_DEHb.myrmidon\n"
     ]
    },
    {
     "name": "stderr",
     "output_type": "stream",
     "text": [
      "/tmp/ipykernel_23904/3396144109.py:54: FutureWarning: The frame.append method is deprecated and will be removed from pandas in a future version. Use pandas.concat instead.\n",
      "  Gcc_df = Gcc_df.append({'rep': int(myrm_file[8:10]), 'exp': myrm_file[11:15], 'Gcc': Gcc}, ignore_index=True)\n"
     ]
    },
    {
     "name": "stdout",
     "output_type": "stream",
     "text": [
      "EG_NTM_s39_DENa.myrmidon\n"
     ]
    },
    {
     "name": "stderr",
     "output_type": "stream",
     "text": [
      "/tmp/ipykernel_23904/3396144109.py:54: FutureWarning: The frame.append method is deprecated and will be removed from pandas in a future version. Use pandas.concat instead.\n",
      "  Gcc_df = Gcc_df.append({'rep': int(myrm_file[8:10]), 'exp': myrm_file[11:15], 'Gcc': Gcc}, ignore_index=True)\n"
     ]
    },
    {
     "name": "stdout",
     "output_type": "stream",
     "text": [
      "EG_NTM_s39_DENb.myrmidon\n"
     ]
    },
    {
     "name": "stderr",
     "output_type": "stream",
     "text": [
      "/tmp/ipykernel_23904/3396144109.py:54: FutureWarning: The frame.append method is deprecated and will be removed from pandas in a future version. Use pandas.concat instead.\n",
      "  Gcc_df = Gcc_df.append({'rep': int(myrm_file[8:10]), 'exp': myrm_file[11:15], 'Gcc': Gcc}, ignore_index=True)\n"
     ]
    },
    {
     "name": "stdout",
     "output_type": "stream",
     "text": [
      "EG_NTM_s40_MODa.myrmidon\n"
     ]
    },
    {
     "name": "stderr",
     "output_type": "stream",
     "text": [
      "/tmp/ipykernel_23904/3396144109.py:54: FutureWarning: The frame.append method is deprecated and will be removed from pandas in a future version. Use pandas.concat instead.\n",
      "  Gcc_df = Gcc_df.append({'rep': int(myrm_file[8:10]), 'exp': myrm_file[11:15], 'Gcc': Gcc}, ignore_index=True)\n"
     ]
    },
    {
     "name": "stdout",
     "output_type": "stream",
     "text": [
      "EG_NTM_s40_MODb.myrmidon\n"
     ]
    },
    {
     "name": "stderr",
     "output_type": "stream",
     "text": [
      "/tmp/ipykernel_23904/3396144109.py:54: FutureWarning: The frame.append method is deprecated and will be removed from pandas in a future version. Use pandas.concat instead.\n",
      "  Gcc_df = Gcc_df.append({'rep': int(myrm_file[8:10]), 'exp': myrm_file[11:15], 'Gcc': Gcc}, ignore_index=True)\n"
     ]
    },
    {
     "name": "stdout",
     "output_type": "stream",
     "text": [
      "EG_NTM_s42_DIAa.myrmidon\n"
     ]
    },
    {
     "name": "stderr",
     "output_type": "stream",
     "text": [
      "/tmp/ipykernel_23904/3396144109.py:54: FutureWarning: The frame.append method is deprecated and will be removed from pandas in a future version. Use pandas.concat instead.\n",
      "  Gcc_df = Gcc_df.append({'rep': int(myrm_file[8:10]), 'exp': myrm_file[11:15], 'Gcc': Gcc}, ignore_index=True)\n"
     ]
    },
    {
     "name": "stdout",
     "output_type": "stream",
     "text": [
      "EG_NTM_s42_DIAb.myrmidon\n"
     ]
    },
    {
     "name": "stderr",
     "output_type": "stream",
     "text": [
      "/tmp/ipykernel_23904/3396144109.py:54: FutureWarning: The frame.append method is deprecated and will be removed from pandas in a future version. Use pandas.concat instead.\n",
      "  Gcc_df = Gcc_df.append({'rep': int(myrm_file[8:10]), 'exp': myrm_file[11:15], 'Gcc': Gcc}, ignore_index=True)\n"
     ]
    },
    {
     "name": "stdout",
     "output_type": "stream",
     "text": [
      "EG_NTM_s43_DENa.myrmidon\n"
     ]
    },
    {
     "name": "stderr",
     "output_type": "stream",
     "text": [
      "/tmp/ipykernel_23904/3396144109.py:54: FutureWarning: The frame.append method is deprecated and will be removed from pandas in a future version. Use pandas.concat instead.\n",
      "  Gcc_df = Gcc_df.append({'rep': int(myrm_file[8:10]), 'exp': myrm_file[11:15], 'Gcc': Gcc}, ignore_index=True)\n"
     ]
    },
    {
     "name": "stdout",
     "output_type": "stream",
     "text": [
      "EG_NTM_s43_DENb.myrmidon\n"
     ]
    },
    {
     "name": "stderr",
     "output_type": "stream",
     "text": [
      "/tmp/ipykernel_23904/3396144109.py:54: FutureWarning: The frame.append method is deprecated and will be removed from pandas in a future version. Use pandas.concat instead.\n",
      "  Gcc_df = Gcc_df.append({'rep': int(myrm_file[8:10]), 'exp': myrm_file[11:15], 'Gcc': Gcc}, ignore_index=True)\n"
     ]
    },
    {
     "name": "stdout",
     "output_type": "stream",
     "text": [
      "EG_NTM_s44_MODa.myrmidon\n"
     ]
    },
    {
     "name": "stderr",
     "output_type": "stream",
     "text": [
      "/tmp/ipykernel_23904/3396144109.py:54: FutureWarning: The frame.append method is deprecated and will be removed from pandas in a future version. Use pandas.concat instead.\n",
      "  Gcc_df = Gcc_df.append({'rep': int(myrm_file[8:10]), 'exp': myrm_file[11:15], 'Gcc': Gcc}, ignore_index=True)\n"
     ]
    },
    {
     "name": "stdout",
     "output_type": "stream",
     "text": [
      "EG_NTM_s44_MODb.myrmidon\n"
     ]
    },
    {
     "name": "stderr",
     "output_type": "stream",
     "text": [
      "/tmp/ipykernel_23904/3396144109.py:54: FutureWarning: The frame.append method is deprecated and will be removed from pandas in a future version. Use pandas.concat instead.\n",
      "  Gcc_df = Gcc_df.append({'rep': int(myrm_file[8:10]), 'exp': myrm_file[11:15], 'Gcc': Gcc}, ignore_index=True)\n"
     ]
    },
    {
     "name": "stdout",
     "output_type": "stream",
     "text": [
      "EG_NTM_s45_DENa.myrmidon\n"
     ]
    },
    {
     "name": "stderr",
     "output_type": "stream",
     "text": [
      "/tmp/ipykernel_23904/3396144109.py:54: FutureWarning: The frame.append method is deprecated and will be removed from pandas in a future version. Use pandas.concat instead.\n",
      "  Gcc_df = Gcc_df.append({'rep': int(myrm_file[8:10]), 'exp': myrm_file[11:15], 'Gcc': Gcc}, ignore_index=True)\n"
     ]
    },
    {
     "name": "stdout",
     "output_type": "stream",
     "text": [
      "EG_NTM_s45_DENb.myrmidon\n"
     ]
    },
    {
     "name": "stderr",
     "output_type": "stream",
     "text": [
      "/tmp/ipykernel_23904/3396144109.py:54: FutureWarning: The frame.append method is deprecated and will be removed from pandas in a future version. Use pandas.concat instead.\n",
      "  Gcc_df = Gcc_df.append({'rep': int(myrm_file[8:10]), 'exp': myrm_file[11:15], 'Gcc': Gcc}, ignore_index=True)\n"
     ]
    },
    {
     "name": "stdout",
     "output_type": "stream",
     "text": [
      "EG_NTM_s46_DIAa.myrmidon\n"
     ]
    },
    {
     "name": "stderr",
     "output_type": "stream",
     "text": [
      "/tmp/ipykernel_23904/3396144109.py:54: FutureWarning: The frame.append method is deprecated and will be removed from pandas in a future version. Use pandas.concat instead.\n",
      "  Gcc_df = Gcc_df.append({'rep': int(myrm_file[8:10]), 'exp': myrm_file[11:15], 'Gcc': Gcc}, ignore_index=True)\n"
     ]
    },
    {
     "name": "stdout",
     "output_type": "stream",
     "text": [
      "EG_NTM_s46_DIAb.myrmidon\n"
     ]
    },
    {
     "name": "stderr",
     "output_type": "stream",
     "text": [
      "/tmp/ipykernel_23904/3396144109.py:54: FutureWarning: The frame.append method is deprecated and will be removed from pandas in a future version. Use pandas.concat instead.\n",
      "  Gcc_df = Gcc_df.append({'rep': int(myrm_file[8:10]), 'exp': myrm_file[11:15], 'Gcc': Gcc}, ignore_index=True)\n"
     ]
    },
    {
     "name": "stdout",
     "output_type": "stream",
     "text": [
      "EG_NTM_s47_DEHa.myrmidon\n"
     ]
    },
    {
     "name": "stderr",
     "output_type": "stream",
     "text": [
      "/tmp/ipykernel_23904/3396144109.py:54: FutureWarning: The frame.append method is deprecated and will be removed from pandas in a future version. Use pandas.concat instead.\n",
      "  Gcc_df = Gcc_df.append({'rep': int(myrm_file[8:10]), 'exp': myrm_file[11:15], 'Gcc': Gcc}, ignore_index=True)\n"
     ]
    },
    {
     "name": "stdout",
     "output_type": "stream",
     "text": [
      "EG_NTM_s47_DEHb.myrmidon\n"
     ]
    },
    {
     "name": "stderr",
     "output_type": "stream",
     "text": [
      "/tmp/ipykernel_23904/3396144109.py:54: FutureWarning: The frame.append method is deprecated and will be removed from pandas in a future version. Use pandas.concat instead.\n",
      "  Gcc_df = Gcc_df.append({'rep': int(myrm_file[8:10]), 'exp': myrm_file[11:15], 'Gcc': Gcc}, ignore_index=True)\n"
     ]
    },
    {
     "name": "stdout",
     "output_type": "stream",
     "text": [
      "EG_NTM_s48_MODa.myrmidon\n"
     ]
    },
    {
     "name": "stderr",
     "output_type": "stream",
     "text": [
      "/tmp/ipykernel_23904/3396144109.py:54: FutureWarning: The frame.append method is deprecated and will be removed from pandas in a future version. Use pandas.concat instead.\n",
      "  Gcc_df = Gcc_df.append({'rep': int(myrm_file[8:10]), 'exp': myrm_file[11:15], 'Gcc': Gcc}, ignore_index=True)\n"
     ]
    },
    {
     "name": "stdout",
     "output_type": "stream",
     "text": [
      "EG_NTM_s48_MODb.myrmidon\n"
     ]
    },
    {
     "name": "stderr",
     "output_type": "stream",
     "text": [
      "/tmp/ipykernel_23904/3396144109.py:54: FutureWarning: The frame.append method is deprecated and will be removed from pandas in a future version. Use pandas.concat instead.\n",
      "  Gcc_df = Gcc_df.append({'rep': int(myrm_file[8:10]), 'exp': myrm_file[11:15], 'Gcc': Gcc}, ignore_index=True)\n"
     ]
    },
    {
     "name": "stdout",
     "output_type": "stream",
     "text": [
      "EG_NTM_s49_MODa.myrmidon\n"
     ]
    },
    {
     "name": "stderr",
     "output_type": "stream",
     "text": [
      "/tmp/ipykernel_23904/3396144109.py:54: FutureWarning: The frame.append method is deprecated and will be removed from pandas in a future version. Use pandas.concat instead.\n",
      "  Gcc_df = Gcc_df.append({'rep': int(myrm_file[8:10]), 'exp': myrm_file[11:15], 'Gcc': Gcc}, ignore_index=True)\n"
     ]
    },
    {
     "name": "stdout",
     "output_type": "stream",
     "text": [
      "EG_NTM_s49_MODb.myrmidon\n"
     ]
    },
    {
     "name": "stderr",
     "output_type": "stream",
     "text": [
      "/tmp/ipykernel_23904/3396144109.py:54: FutureWarning: The frame.append method is deprecated and will be removed from pandas in a future version. Use pandas.concat instead.\n",
      "  Gcc_df = Gcc_df.append({'rep': int(myrm_file[8:10]), 'exp': myrm_file[11:15], 'Gcc': Gcc}, ignore_index=True)\n"
     ]
    },
    {
     "name": "stdout",
     "output_type": "stream",
     "text": [
      "EG_NTM_s50_DIAa.myrmidon\n"
     ]
    }
   ],
   "source": [
    "# Time vs Connectivity\n",
    "\n",
    "def compute_Gcc(exp, start, end):\n",
    "    \n",
    "    # Number of ants\n",
    "    N_ants = len(exp.Ants)    \n",
    "\n",
    "    # initialise adj-matrix\n",
    "    adj_mat = np.zeros((N_ants, N_ants))\n",
    "    \n",
    "    Gcc = [[sorted(nx.connected_components(nx.Graph(adj_mat)), key=len, reverse=True)],\n",
    "           [0]]\n",
    "\n",
    "    # Populate network\n",
    "    for i in fm.Query.ComputeAntInteractions(exp,start=start,end=end,maximumGap=fm.Duration(max_gap*10**9),\n",
    "                                            reportFullTrajectories= False)[1]:\n",
    "        # Focus on Nest zone (id=1)\n",
    "        if (1 in i.Trajectories[1].Zones) & (adj_mat[i.IDs[0]-1, i.IDs[1]-1] == 0):\n",
    "            \n",
    "            adj_mat[i.IDs[0]-1, i.IDs[1]-1] = 1           \n",
    "         \n",
    "            if i.Start.After(start.Add(fm.Duration((Gcc[1][-1] + 1) * 10**9))):\n",
    "    \n",
    "                Gcc[0].append(sorted(nx.connected_components(nx.Graph(adj_mat)), key=len, reverse=True))\n",
    "                Gcc[1].append(Gcc[1][-1] + 1)\n",
    "                    \n",
    "    # network build\n",
    "    return   Gcc\n",
    "\n",
    "\n",
    "\n",
    "## ============= LOOP =============== \n",
    "\n",
    "Gcc_df = pd.DataFrame(columns=['rep', 'exp', 'Gcc'])\n",
    "max_gap = 10\n",
    "for myrm_file in myrm_list[20:]:\n",
    "\n",
    "    if int(myrm_file[8:10])==41: \n",
    "        continue\n",
    "\n",
    "    print(myrm_file)\n",
    "\n",
    "    # Open experiment file\n",
    "    exp = fm.Experiment.Open(working_dir + myrm_file)\n",
    "\n",
    "    ## ------ Time window ------ \n",
    "    start_date = (fm.Time.ToDateTime(fm.Query.GetDataInformations(exp).End) +\n",
    "                 timedelta(days = -1)).strftime(\"%Y-%m-%d\")\n",
    "\n",
    "    start_time = fm.Time(datetime.fromisoformat(start_date + 'T09:00:00'))  \n",
    "    \n",
    "    Gcc = compute_Gcc(exp,start_time,start_time.Add(fm.Duration(12 * 60 * 60 * 10**9)))\n",
    "    \n",
    "    Gcc_df = Gcc_df.append({'rep': int(myrm_file[8:10]), 'exp': myrm_file[11:15], 'Gcc': Gcc}, ignore_index=True)\n",
    "\n",
    "    \n",
    "# Save\n",
    "a_file = open(\"data/Gcc_NEST.pkl\", \"wb\")\n",
    "pickle.dump(Gcc_df, a_file)\n",
    "a_file.close()\n"
   ]
  }
 ],
 "metadata": {
  "kernelspec": {
   "display_name": "Python 3 (ipykernel)",
   "language": "python",
   "name": "python3"
  },
  "language_info": {
   "codemirror_mode": {
    "name": "ipython",
    "version": 3
   },
   "file_extension": ".py",
   "mimetype": "text/x-python",
   "name": "python",
   "nbconvert_exporter": "python",
   "pygments_lexer": "ipython3",
   "version": "3.8.12"
  }
 },
 "nbformat": 4,
 "nbformat_minor": 5
}
