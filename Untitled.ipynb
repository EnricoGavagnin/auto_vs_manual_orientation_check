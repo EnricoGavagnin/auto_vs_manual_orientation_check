{
 "cells": [
  {
   "cell_type": "code",
   "execution_count": 1,
   "id": "83db6be7",
   "metadata": {},
   "outputs": [],
   "source": [
    "import numpy as np\n",
    "import pandas as pd\n",
    "import matplotlib.pylab as plt\n",
    "import seaborn as sns\n",
    "import py_fort_myrmidon as fm\n",
    "import datetime\n",
    "import networkx as nx\n",
    "import community\n",
    "import statistics\n",
    "import scipy.stats as stats\n",
    "from os import listdir\n",
    "from datetime import datetime, date, timedelta\n",
    "import pickle\n",
    "\n",
    "working_dir = '/media/eg15396/EG_DATA-7/NTM/'\n",
    "myrm_list = sorted([ s for s in listdir(working_dir) if s[15:17] == '.m'])"
   ]
  },
  {
   "cell_type": "code",
   "execution_count": null,
   "id": "0f507b89",
   "metadata": {},
   "outputs": [],
   "source": [
    "def compute_G(exp, start, end, min_cum_duration, frm_rate, link_type):\n",
    "    \n",
    "    # Number of ants\n",
    "    N_ants = len(exp.Ants)    \n",
    "\n",
    "    # initialise adj-matrix\n",
    "    adj_mat = np.zeros((N_ants, N_ants))\n",
    "\n",
    "    # Dictionary to convert timestamp of frame into corresponding frame number starting from 1 (with frame#1 at 'start' time)\n",
    "    TimeToFrame = {fm.Time.ToTimestamp(frm[0].FrameTime): i + 1 for i,frm in enumerate(fm.Query.CollideFrames(exp,start=start,end=end))}\n",
    "\n",
    "    # Populate network\n",
    "    for i in fm.Query.ComputeAntInteractions(exp,start=start,end=end,maximumGap=fm.Duration(max_gap*10**9),\n",
    "                                            reportFullTrajectories= False)[1]:"
   ]
  },
  {
   "cell_type": "code",
   "execution_count": 14,
   "id": "274ccc32",
   "metadata": {},
   "outputs": [
    {
     "name": "stdout",
     "output_type": "stream",
     "text": [
      "EG_NTM_s13_DEHa.myrmidon\n",
      "EG_NTM_s13_DEHb.myrmidon\n",
      "EG_NTM_s14_MODa.myrmidon\n",
      "EG_NTM_s14_MODb.myrmidon\n",
      "EG_NTM_s15_DENa.myrmidon\n",
      "EG_NTM_s15_DENb.myrmidon\n",
      "EG_NTM_s16_DIAa.myrmidon\n",
      "EG_NTM_s16_DIAb.myrmidon\n",
      "EG_NTM_s17_MODa.myrmidon\n",
      "EG_NTM_s17_MODb.myrmidon\n",
      "EG_NTM_s18_DENa.myrmidon\n",
      "EG_NTM_s18_DENb.myrmidon\n",
      "EG_NTM_s19_DIAa.myrmidon\n",
      "EG_NTM_s19_DIAb.myrmidon\n",
      "EG_NTM_s20_DEHa.myrmidon\n",
      "EG_NTM_s20_DEHb.myrmidon\n",
      "EG_NTM_s21_DIAa.myrmidon\n",
      "EG_NTM_s21_DIAb.myrmidon\n",
      "EG_NTM_s22_MODa.myrmidon\n",
      "EG_NTM_s22_MODb.myrmidon\n",
      "EG_NTM_s23_DENa.myrmidon\n",
      "EG_NTM_s23_DENb.myrmidon\n",
      "EG_NTM_s24_DEHa.myrmidon\n",
      "EG_NTM_s24_DEHb.myrmidon\n",
      "EG_NTM_s25_DEHa.myrmidon\n",
      "EG_NTM_s25_DEHb.myrmidon\n",
      "EG_NTM_s26_DENa.myrmidon\n",
      "EG_NTM_s26_DENb.myrmidon\n",
      "EG_NTM_s27_MODa.myrmidon\n",
      "EG_NTM_s27_MODb.myrmidon\n",
      "EG_NTM_s28_DIAa.myrmidon\n",
      "EG_NTM_s28_DIAb.myrmidon\n",
      "EG_NTM_s29_DENa.myrmidon\n",
      "EG_NTM_s29_DENb.myrmidon\n",
      "EG_NTM_s30_MODa.myrmidon\n",
      "EG_NTM_s30_MODb.myrmidon\n",
      "EG_NTM_s31_DEHa.myrmidon\n",
      "EG_NTM_s31_DEHb.myrmidon\n",
      "EG_NTM_s32_DIAa.myrmidon\n",
      "EG_NTM_s32_DIAb.myrmidon\n",
      "EG_NTM_s33_MODa.myrmidon\n",
      "EG_NTM_s33_MODb.myrmidon\n",
      "EG_NTM_s34_DEHa.myrmidon\n",
      "EG_NTM_s34_DEHb.myrmidon\n",
      "EG_NTM_s35_DIAa.myrmidon\n",
      "EG_NTM_s35_DIAb.myrmidon\n",
      "EG_NTM_s36_DENa.myrmidon\n",
      "EG_NTM_s36_DENb.myrmidon\n",
      "EG_NTM_s37_DIAa.myrmidon\n",
      "EG_NTM_s37_DIAb.myrmidon\n",
      "EG_NTM_s38_DEHa.myrmidon\n",
      "EG_NTM_s38_DEHb.myrmidon\n",
      "EG_NTM_s39_DENa.myrmidon\n",
      "EG_NTM_s39_DENb.myrmidon\n",
      "EG_NTM_s40_MODa.myrmidon\n",
      "EG_NTM_s40_MODb.myrmidon\n",
      "EG_NTM_s42_DIAa.myrmidon\n",
      "EG_NTM_s42_DIAb.myrmidon\n",
      "EG_NTM_s43_DENa.myrmidon\n",
      "EG_NTM_s43_DENb.myrmidon\n",
      "EG_NTM_s44_MODa.myrmidon\n",
      "EG_NTM_s44_MODb.myrmidon\n",
      "EG_NTM_s45_DENa.myrmidon\n",
      "EG_NTM_s45_DENb.myrmidon\n",
      "EG_NTM_s46_DIAa.myrmidon\n",
      "EG_NTM_s46_DIAb.myrmidon\n",
      "EG_NTM_s47_DEHa.myrmidon\n",
      "EG_NTM_s47_DEHb.myrmidon\n",
      "EG_NTM_s48_MODa.myrmidon\n",
      "EG_NTM_s48_MODb.myrmidon\n",
      "EG_NTM_s49_MODa.myrmidon\n",
      "EG_NTM_s49_MODb.myrmidon\n",
      "EG_NTM_s50_DIAa.myrmidon\n",
      "EG_NTM_s50_DIAb.myrmidon\n",
      "EG_NTM_s51_DEHa.myrmidon\n",
      "EG_NTM_s51_DEHb.myrmidon\n",
      "EG_NTM_s52_DENa.myrmidon\n",
      "EG_NTM_s52_DENb.myrmidon\n",
      "EG_NTM_s53_DIAa.myrmidon\n",
      "EG_NTM_s53_DIAb.myrmidon\n",
      "EG_NTM_s54_MODa.myrmidon\n",
      "EG_NTM_s54_MODb.myrmidon\n",
      "EG_NTM_s55_DEHa.myrmidon\n",
      "EG_NTM_s55_DEHb.myrmidon\n",
      "EG_NTM_s56_DENa.myrmidon\n",
      "EG_NTM_s56_DENb.myrmidon\n"
     ]
    }
   ],
   "source": [
    "l_time = []\n",
    "for myrm_file in myrm_list[20:]:\n",
    "        \n",
    "        if int(myrm_file[8:10])==41: \n",
    "            continue\n",
    "\n",
    "        print(myrm_file)\n",
    "\n",
    "        # Open experiment file\n",
    "        exp = fm.Experiment.Open(working_dir + myrm_file)\n",
    "\n",
    "        ## ------ Time window ------ \n",
    "        # define time window of cumulative network\n",
    "        start_date = (fm.Time.ToDateTime(fm.Query.GetDataInformations(exp).End)).strftime(\"%Y-%m-%d-%HH-%MM\")\n",
    "        l_time.append([int(start_date[-7:-5]),int(start_date[-3:-1])])"
   ]
  },
  {
   "cell_type": "code",
   "execution_count": 17,
   "id": "7a5fa27f",
   "metadata": {},
   "outputs": [
    {
     "data": {
      "text/plain": [
       "<AxesSubplot:ylabel='Count'>"
      ]
     },
     "execution_count": 17,
     "metadata": {},
     "output_type": "execute_result"
    },
    {
     "data": {
      "image/png": "[encoded data removed]",
      "text/plain": [
       "<Figure size 432x288 with 1 Axes>"
      ]
     },
     "metadata": {
      "needs_background": "light"
     },
     "output_type": "display_data"
    }
   ],
   "source": [
    "sns.histplot([l_time[i][1] for i in range(len(l_time))])"
   ]
  },
  {
   "cell_type": "code",
   "execution_count": 5,
   "id": "4205bf87",
   "metadata": {},
   "outputs": [
    {
     "data": {
      "text/plain": [
       "[1]"
      ]
     },
     "execution_count": 5,
     "metadata": {},
     "output_type": "execute_result"
    }
   ],
   "source": [
    "l_time"
   ]
  },
  {
   "cell_type": "code",
   "execution_count": null,
   "id": "08607b41",
   "metadata": {},
   "outputs": [],
   "source": []
  }
 ],
 "metadata": {
  "kernelspec": {
   "display_name": "Python 3 (ipykernel)",
   "language": "python",
   "name": "python3"
  },
  "language_info": {
   "codemirror_mode": {
    "name": "ipython",
    "version": 3
   },
   "file_extension": ".py",
   "mimetype": "text/x-python",
   "name": "python",
   "nbconvert_exporter": "python",
   "pygments_lexer": "ipython3",
   "version": "3.8.12"
  }
 },
 "nbformat": 4,
 "nbformat_minor": 5
}
