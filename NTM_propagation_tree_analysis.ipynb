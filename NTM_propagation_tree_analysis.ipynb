{
 "cells": [
  {
   "cell_type": "markdown",
   "id": "2225020f",
   "metadata": {},
   "source": [
    "# NTM - propagation tree analysis\n",
    "\n",
    "### Enrico Gavagnin\n",
    "\n",
    "\n",
    "\n",
    "## To Do\n",
    "\n",
    "- exclude from distribution of coefficient all ants that have *at least* one NaN in either nests\n",
    "- run the statistics with the data before averaging across different time windows \n"
   ]
  },
  {
   "cell_type": "code",
   "execution_count": 19,
   "id": "00af7421",
   "metadata": {},
   "outputs": [],
   "source": [
    "import pandas as pd\n",
    "import matplotlib.pyplot as plt\n",
    "import numpy as np\n",
    "import seaborn as sns\n",
    "import matplotlib.pyplot as plt\n",
    "plt.rcParams['figure.figsize'] = [15, 9]\n",
    "import rpy2.robjects as robjects\n",
    "\n",
    "from rpy2.robjects.packages import importr\n",
    "%load_ext rpy2.ipython"
   ]
  },
  {
   "cell_type": "code",
   "execution_count": 23,
   "id": "8c8689f1",
   "metadata": {},
   "outputs": [],
   "source": [
    "%%R \n",
    "# -o prop_list -o pv_adj \n",
    "rm(list=ls())\n",
    "library(lme4)\n",
    "library(car)\n",
    "\n",
    "\n",
    "stats_R <- function() {\n",
    "\n",
    "    prop_list <- c('mean', 'std')\n",
    "    dat <- read.csv(\"NTM_df_stats.csv\", header=T, stringsAsFactors = F)\n",
    "    # list of properties for the LMER test\n",
    "    pv_list <- integer(0)\n",
    "    \n",
    "    rf <- ' ~ exp +(1|rep)'\n",
    "    for (prop in prop_list){\n",
    "        model <- lmer(formula(paste(prop,rf)), data = dat)\n",
    "        #print(summary(model))\n",
    "        pv_list <- c(pv_list, as.numeric(Anova(model)[\"exp\",\"Pr(>Chisq)\"]))\n",
    "    }\n",
    "\n",
    "    pv_adj <- p.adjust(pv_list, method=\"BH\")\n",
    "    names(pv_adj) <- prop_list\n",
    "  return(pv_adj)\n",
    "}"
   ]
  },
  {
   "cell_type": "markdown",
   "id": "3d64b02b",
   "metadata": {},
   "source": [
    "## Propagation Tree Fit"
   ]
  },
  {
   "cell_type": "code",
   "execution_count": 15,
   "id": "ce20c444",
   "metadata": {},
   "outputs": [
    {
     "name": "stdout",
     "output_type": "stream",
     "text": [
      "s13_DEHa\n"
     ]
    },
    {
     "name": "stderr",
     "output_type": "stream",
     "text": [
      "/home/eg15396/miniconda3/envs/fort-env/lib/python3.8/site-packages/scipy/optimize/minpack.py:833: OptimizeWarning: Covariance of the parameters could not be estimated\n",
      "  warnings.warn('Covariance of the parameters could not be estimated',\n",
      "/tmp/ipykernel_541/625428848.py:48: RuntimeWarning: Mean of empty slice\n",
      "  prop_coef[myrm_file][focal_ant] = np.nanmean(prop_coef[myrm_file][focal_ant])\n",
      "/tmp/ipykernel_541/625428848.py:10: RuntimeWarning: overflow encountered in exp\n",
      "  return m * np.exp(t * (x - t0))\n"
     ]
    },
    {
     "name": "stdout",
     "output_type": "stream",
     "text": [
      "s13_DEHb\n"
     ]
    },
    {
     "name": "stderr",
     "output_type": "stream",
     "text": [
      "/tmp/ipykernel_541/625428848.py:10: RuntimeWarning: overflow encountered in exp\n",
      "  return m * np.exp(t * (x - t0))\n",
      "/home/eg15396/miniconda3/envs/fort-env/lib/python3.8/site-packages/scipy/optimize/minpack.py:833: OptimizeWarning: Covariance of the parameters could not be estimated\n",
      "  warnings.warn('Covariance of the parameters could not be estimated',\n",
      "/tmp/ipykernel_541/625428848.py:48: RuntimeWarning: Mean of empty slice\n",
      "  prop_coef[myrm_file][focal_ant] = np.nanmean(prop_coef[myrm_file][focal_ant])\n"
     ]
    },
    {
     "name": "stdout",
     "output_type": "stream",
     "text": [
      "s14_MODa\n"
     ]
    },
    {
     "name": "stderr",
     "output_type": "stream",
     "text": [
      "/home/eg15396/miniconda3/envs/fort-env/lib/python3.8/site-packages/scipy/optimize/minpack.py:833: OptimizeWarning: Covariance of the parameters could not be estimated\n",
      "  warnings.warn('Covariance of the parameters could not be estimated',\n",
      "/tmp/ipykernel_541/625428848.py:10: RuntimeWarning: overflow encountered in exp\n",
      "  return m * np.exp(t * (x - t0))\n",
      "/tmp/ipykernel_541/625428848.py:48: RuntimeWarning: Mean of empty slice\n",
      "  prop_coef[myrm_file][focal_ant] = np.nanmean(prop_coef[myrm_file][focal_ant])\n"
     ]
    },
    {
     "name": "stdout",
     "output_type": "stream",
     "text": [
      "s14_MODb\n"
     ]
    },
    {
     "name": "stderr",
     "output_type": "stream",
     "text": [
      "/home/eg15396/miniconda3/envs/fort-env/lib/python3.8/site-packages/scipy/optimize/minpack.py:833: OptimizeWarning: Covariance of the parameters could not be estimated\n",
      "  warnings.warn('Covariance of the parameters could not be estimated',\n",
      "/tmp/ipykernel_541/625428848.py:48: RuntimeWarning: Mean of empty slice\n",
      "  prop_coef[myrm_file][focal_ant] = np.nanmean(prop_coef[myrm_file][focal_ant])\n",
      "/tmp/ipykernel_541/625428848.py:10: RuntimeWarning: overflow encountered in exp\n",
      "  return m * np.exp(t * (x - t0))\n"
     ]
    },
    {
     "name": "stdout",
     "output_type": "stream",
     "text": [
      "s15_DENa\n"
     ]
    },
    {
     "name": "stderr",
     "output_type": "stream",
     "text": [
      "/home/eg15396/miniconda3/envs/fort-env/lib/python3.8/site-packages/scipy/optimize/minpack.py:833: OptimizeWarning: Covariance of the parameters could not be estimated\n",
      "  warnings.warn('Covariance of the parameters could not be estimated',\n",
      "/tmp/ipykernel_541/625428848.py:10: RuntimeWarning: overflow encountered in exp\n",
      "  return m * np.exp(t * (x - t0))\n",
      "/tmp/ipykernel_541/625428848.py:48: RuntimeWarning: Mean of empty slice\n",
      "  prop_coef[myrm_file][focal_ant] = np.nanmean(prop_coef[myrm_file][focal_ant])\n",
      "/tmp/ipykernel_541/625428848.py:10: RuntimeWarning: overflow encountered in multiply\n",
      "  return m * np.exp(t * (x - t0))\n"
     ]
    },
    {
     "name": "stdout",
     "output_type": "stream",
     "text": [
      "s15_DENb\n"
     ]
    },
    {
     "name": "stderr",
     "output_type": "stream",
     "text": [
      "/tmp/ipykernel_541/625428848.py:10: RuntimeWarning: overflow encountered in exp\n",
      "  return m * np.exp(t * (x - t0))\n",
      "/home/eg15396/miniconda3/envs/fort-env/lib/python3.8/site-packages/scipy/optimize/minpack.py:833: OptimizeWarning: Covariance of the parameters could not be estimated\n",
      "  warnings.warn('Covariance of the parameters could not be estimated',\n",
      "/tmp/ipykernel_541/625428848.py:48: RuntimeWarning: Mean of empty slice\n",
      "  prop_coef[myrm_file][focal_ant] = np.nanmean(prop_coef[myrm_file][focal_ant])\n"
     ]
    },
    {
     "name": "stdout",
     "output_type": "stream",
     "text": [
      "s16_DIAa\n"
     ]
    },
    {
     "name": "stderr",
     "output_type": "stream",
     "text": [
      "/tmp/ipykernel_541/625428848.py:48: RuntimeWarning: Mean of empty slice\n",
      "  prop_coef[myrm_file][focal_ant] = np.nanmean(prop_coef[myrm_file][focal_ant])\n",
      "/home/eg15396/miniconda3/envs/fort-env/lib/python3.8/site-packages/scipy/optimize/minpack.py:833: OptimizeWarning: Covariance of the parameters could not be estimated\n",
      "  warnings.warn('Covariance of the parameters could not be estimated',\n",
      "/tmp/ipykernel_541/625428848.py:10: RuntimeWarning: overflow encountered in exp\n",
      "  return m * np.exp(t * (x - t0))\n"
     ]
    },
    {
     "name": "stdout",
     "output_type": "stream",
     "text": [
      "s16_DIAb\n"
     ]
    },
    {
     "name": "stderr",
     "output_type": "stream",
     "text": [
      "/home/eg15396/miniconda3/envs/fort-env/lib/python3.8/site-packages/scipy/optimize/minpack.py:833: OptimizeWarning: Covariance of the parameters could not be estimated\n",
      "  warnings.warn('Covariance of the parameters could not be estimated',\n",
      "/tmp/ipykernel_541/625428848.py:10: RuntimeWarning: overflow encountered in exp\n",
      "  return m * np.exp(t * (x - t0))\n",
      "/tmp/ipykernel_541/625428848.py:48: RuntimeWarning: Mean of empty slice\n",
      "  prop_coef[myrm_file][focal_ant] = np.nanmean(prop_coef[myrm_file][focal_ant])\n"
     ]
    },
    {
     "name": "stdout",
     "output_type": "stream",
     "text": [
      "s17_MODa\n"
     ]
    },
    {
     "name": "stderr",
     "output_type": "stream",
     "text": [
      "/home/eg15396/miniconda3/envs/fort-env/lib/python3.8/site-packages/scipy/optimize/minpack.py:833: OptimizeWarning: Covariance of the parameters could not be estimated\n",
      "  warnings.warn('Covariance of the parameters could not be estimated',\n",
      "/tmp/ipykernel_541/625428848.py:48: RuntimeWarning: Mean of empty slice\n",
      "  prop_coef[myrm_file][focal_ant] = np.nanmean(prop_coef[myrm_file][focal_ant])\n",
      "/tmp/ipykernel_541/625428848.py:10: RuntimeWarning: overflow encountered in exp\n",
      "  return m * np.exp(t * (x - t0))\n",
      "/tmp/ipykernel_541/625428848.py:10: RuntimeWarning: overflow encountered in multiply\n",
      "  return m * np.exp(t * (x - t0))\n",
      "/tmp/ipykernel_541/625428848.py:10: RuntimeWarning: overflow encountered in exp\n",
      "  return m * np.exp(t * (x - t0))\n",
      "/tmp/ipykernel_541/625428848.py:10: RuntimeWarning: overflow encountered in multiply\n",
      "  return m * np.exp(t * (x - t0))\n",
      "/tmp/ipykernel_541/625428848.py:48: RuntimeWarning: Mean of empty slice\n",
      "  prop_coef[myrm_file][focal_ant] = np.nanmean(prop_coef[myrm_file][focal_ant])\n",
      "/home/eg15396/miniconda3/envs/fort-env/lib/python3.8/site-packages/scipy/optimize/minpack.py:833: OptimizeWarning: Covariance of the parameters could not be estimated\n",
      "  warnings.warn('Covariance of the parameters could not be estimated',\n"
     ]
    },
    {
     "name": "stdout",
     "output_type": "stream",
     "text": [
      "s17_MODb\n",
      "s18_DENa\n"
     ]
    },
    {
     "name": "stderr",
     "output_type": "stream",
     "text": [
      "/home/eg15396/miniconda3/envs/fort-env/lib/python3.8/site-packages/scipy/optimize/minpack.py:833: OptimizeWarning: Covariance of the parameters could not be estimated\n",
      "  warnings.warn('Covariance of the parameters could not be estimated',\n",
      "/tmp/ipykernel_541/625428848.py:10: RuntimeWarning: overflow encountered in exp\n",
      "  return m * np.exp(t * (x - t0))\n",
      "/tmp/ipykernel_541/625428848.py:48: RuntimeWarning: Mean of empty slice\n",
      "  prop_coef[myrm_file][focal_ant] = np.nanmean(prop_coef[myrm_file][focal_ant])\n",
      "/tmp/ipykernel_541/625428848.py:10: RuntimeWarning: overflow encountered in exp\n",
      "  return m * np.exp(t * (x - t0))\n",
      "/home/eg15396/miniconda3/envs/fort-env/lib/python3.8/site-packages/scipy/optimize/minpack.py:833: OptimizeWarning: Covariance of the parameters could not be estimated\n",
      "  warnings.warn('Covariance of the parameters could not be estimated',\n"
     ]
    },
    {
     "name": "stdout",
     "output_type": "stream",
     "text": [
      "s18_DENb\n"
     ]
    },
    {
     "name": "stderr",
     "output_type": "stream",
     "text": [
      "/tmp/ipykernel_541/625428848.py:10: RuntimeWarning: overflow encountered in multiply\n",
      "  return m * np.exp(t * (x - t0))\n",
      "/tmp/ipykernel_541/625428848.py:48: RuntimeWarning: Mean of empty slice\n",
      "  prop_coef[myrm_file][focal_ant] = np.nanmean(prop_coef[myrm_file][focal_ant])\n",
      "/home/eg15396/miniconda3/envs/fort-env/lib/python3.8/site-packages/scipy/optimize/minpack.py:833: OptimizeWarning: Covariance of the parameters could not be estimated\n",
      "  warnings.warn('Covariance of the parameters could not be estimated',\n",
      "/tmp/ipykernel_541/625428848.py:48: RuntimeWarning: Mean of empty slice\n",
      "  prop_coef[myrm_file][focal_ant] = np.nanmean(prop_coef[myrm_file][focal_ant])\n"
     ]
    },
    {
     "name": "stdout",
     "output_type": "stream",
     "text": [
      "s19_DIAa\n"
     ]
    },
    {
     "name": "stderr",
     "output_type": "stream",
     "text": [
      "/tmp/ipykernel_541/625428848.py:10: RuntimeWarning: overflow encountered in exp\n",
      "  return m * np.exp(t * (x - t0))\n"
     ]
    },
    {
     "name": "stdout",
     "output_type": "stream",
     "text": [
      "s19_DIAb\n"
     ]
    },
    {
     "name": "stderr",
     "output_type": "stream",
     "text": [
      "/home/eg15396/miniconda3/envs/fort-env/lib/python3.8/site-packages/scipy/optimize/minpack.py:833: OptimizeWarning: Covariance of the parameters could not be estimated\n",
      "  warnings.warn('Covariance of the parameters could not be estimated',\n",
      "/tmp/ipykernel_541/625428848.py:10: RuntimeWarning: overflow encountered in exp\n",
      "  return m * np.exp(t * (x - t0))\n",
      "/tmp/ipykernel_541/625428848.py:48: RuntimeWarning: Mean of empty slice\n",
      "  prop_coef[myrm_file][focal_ant] = np.nanmean(prop_coef[myrm_file][focal_ant])\n",
      "/tmp/ipykernel_541/625428848.py:10: RuntimeWarning: overflow encountered in multiply\n",
      "  return m * np.exp(t * (x - t0))\n"
     ]
    },
    {
     "name": "stdout",
     "output_type": "stream",
     "text": [
      "s20_DEHa\n"
     ]
    },
    {
     "name": "stderr",
     "output_type": "stream",
     "text": [
      "/home/eg15396/miniconda3/envs/fort-env/lib/python3.8/site-packages/scipy/optimize/minpack.py:833: OptimizeWarning: Covariance of the parameters could not be estimated\n",
      "  warnings.warn('Covariance of the parameters could not be estimated',\n",
      "/tmp/ipykernel_541/625428848.py:10: RuntimeWarning: overflow encountered in exp\n",
      "  return m * np.exp(t * (x - t0))\n",
      "/tmp/ipykernel_541/625428848.py:48: RuntimeWarning: Mean of empty slice\n",
      "  prop_coef[myrm_file][focal_ant] = np.nanmean(prop_coef[myrm_file][focal_ant])\n",
      "/tmp/ipykernel_541/625428848.py:10: RuntimeWarning: overflow encountered in multiply\n",
      "  return m * np.exp(t * (x - t0))\n",
      "/tmp/ipykernel_541/625428848.py:10: RuntimeWarning: overflow encountered in exp\n",
      "  return m * np.exp(t * (x - t0))\n",
      "/home/eg15396/miniconda3/envs/fort-env/lib/python3.8/site-packages/scipy/optimize/minpack.py:833: OptimizeWarning: Covariance of the parameters could not be estimated\n",
      "  warnings.warn('Covariance of the parameters could not be estimated',\n",
      "/tmp/ipykernel_541/625428848.py:48: RuntimeWarning: Mean of empty slice\n",
      "  prop_coef[myrm_file][focal_ant] = np.nanmean(prop_coef[myrm_file][focal_ant])\n"
     ]
    },
    {
     "name": "stdout",
     "output_type": "stream",
     "text": [
      "s20_DEHb\n",
      "s21_DIAa\n"
     ]
    },
    {
     "name": "stderr",
     "output_type": "stream",
     "text": [
      "/home/eg15396/miniconda3/envs/fort-env/lib/python3.8/site-packages/scipy/optimize/minpack.py:833: OptimizeWarning: Covariance of the parameters could not be estimated\n",
      "  warnings.warn('Covariance of the parameters could not be estimated',\n",
      "/tmp/ipykernel_541/625428848.py:10: RuntimeWarning: overflow encountered in exp\n",
      "  return m * np.exp(t * (x - t0))\n",
      "/tmp/ipykernel_541/625428848.py:48: RuntimeWarning: Mean of empty slice\n",
      "  prop_coef[myrm_file][focal_ant] = np.nanmean(prop_coef[myrm_file][focal_ant])\n"
     ]
    },
    {
     "name": "stdout",
     "output_type": "stream",
     "text": [
      "s21_DIAb\n"
     ]
    },
    {
     "name": "stderr",
     "output_type": "stream",
     "text": [
      "/home/eg15396/miniconda3/envs/fort-env/lib/python3.8/site-packages/scipy/optimize/minpack.py:833: OptimizeWarning: Covariance of the parameters could not be estimated\n",
      "  warnings.warn('Covariance of the parameters could not be estimated',\n",
      "/tmp/ipykernel_541/625428848.py:48: RuntimeWarning: Mean of empty slice\n",
      "  prop_coef[myrm_file][focal_ant] = np.nanmean(prop_coef[myrm_file][focal_ant])\n",
      "/tmp/ipykernel_541/625428848.py:10: RuntimeWarning: overflow encountered in exp\n",
      "  return m * np.exp(t * (x - t0))\n"
     ]
    },
    {
     "name": "stdout",
     "output_type": "stream",
     "text": [
      "s22_MODa\n"
     ]
    },
    {
     "name": "stderr",
     "output_type": "stream",
     "text": [
      "/home/eg15396/miniconda3/envs/fort-env/lib/python3.8/site-packages/scipy/optimize/minpack.py:833: OptimizeWarning: Covariance of the parameters could not be estimated\n",
      "  warnings.warn('Covariance of the parameters could not be estimated',\n",
      "/tmp/ipykernel_541/625428848.py:10: RuntimeWarning: overflow encountered in exp\n",
      "  return m * np.exp(t * (x - t0))\n",
      "/tmp/ipykernel_541/625428848.py:48: RuntimeWarning: Mean of empty slice\n",
      "  prop_coef[myrm_file][focal_ant] = np.nanmean(prop_coef[myrm_file][focal_ant])\n"
     ]
    },
    {
     "name": "stdout",
     "output_type": "stream",
     "text": [
      "s22_MODb\n"
     ]
    },
    {
     "name": "stderr",
     "output_type": "stream",
     "text": [
      "/home/eg15396/miniconda3/envs/fort-env/lib/python3.8/site-packages/scipy/optimize/minpack.py:833: OptimizeWarning: Covariance of the parameters could not be estimated\n",
      "  warnings.warn('Covariance of the parameters could not be estimated',\n",
      "/tmp/ipykernel_541/625428848.py:48: RuntimeWarning: Mean of empty slice\n",
      "  prop_coef[myrm_file][focal_ant] = np.nanmean(prop_coef[myrm_file][focal_ant])\n",
      "/tmp/ipykernel_541/625428848.py:10: RuntimeWarning: overflow encountered in exp\n",
      "  return m * np.exp(t * (x - t0))\n"
     ]
    },
    {
     "name": "stdout",
     "output_type": "stream",
     "text": [
      "s23_DENa\n"
     ]
    },
    {
     "name": "stderr",
     "output_type": "stream",
     "text": [
      "/tmp/ipykernel_541/625428848.py:10: RuntimeWarning: overflow encountered in exp\n",
      "  return m * np.exp(t * (x - t0))\n",
      "/home/eg15396/miniconda3/envs/fort-env/lib/python3.8/site-packages/scipy/optimize/minpack.py:833: OptimizeWarning: Covariance of the parameters could not be estimated\n",
      "  warnings.warn('Covariance of the parameters could not be estimated',\n",
      "/tmp/ipykernel_541/625428848.py:48: RuntimeWarning: Mean of empty slice\n",
      "  prop_coef[myrm_file][focal_ant] = np.nanmean(prop_coef[myrm_file][focal_ant])\n",
      "/tmp/ipykernel_541/625428848.py:10: RuntimeWarning: overflow encountered in multiply\n",
      "  return m * np.exp(t * (x - t0))\n"
     ]
    },
    {
     "name": "stdout",
     "output_type": "stream",
     "text": [
      "s23_DENb\n"
     ]
    },
    {
     "name": "stderr",
     "output_type": "stream",
     "text": [
      "/home/eg15396/miniconda3/envs/fort-env/lib/python3.8/site-packages/scipy/optimize/minpack.py:833: OptimizeWarning: Covariance of the parameters could not be estimated\n",
      "  warnings.warn('Covariance of the parameters could not be estimated',\n",
      "/tmp/ipykernel_541/625428848.py:48: RuntimeWarning: Mean of empty slice\n",
      "  prop_coef[myrm_file][focal_ant] = np.nanmean(prop_coef[myrm_file][focal_ant])\n",
      "/tmp/ipykernel_541/625428848.py:10: RuntimeWarning: overflow encountered in exp\n",
      "  return m * np.exp(t * (x - t0))\n"
     ]
    },
    {
     "name": "stdout",
     "output_type": "stream",
     "text": [
      "s24_DEHa\n"
     ]
    },
    {
     "name": "stderr",
     "output_type": "stream",
     "text": [
      "/home/eg15396/miniconda3/envs/fort-env/lib/python3.8/site-packages/scipy/optimize/minpack.py:833: OptimizeWarning: Covariance of the parameters could not be estimated\n",
      "  warnings.warn('Covariance of the parameters could not be estimated',\n",
      "/tmp/ipykernel_541/625428848.py:10: RuntimeWarning: overflow encountered in exp\n",
      "  return m * np.exp(t * (x - t0))\n",
      "/tmp/ipykernel_541/625428848.py:48: RuntimeWarning: Mean of empty slice\n",
      "  prop_coef[myrm_file][focal_ant] = np.nanmean(prop_coef[myrm_file][focal_ant])\n",
      "/tmp/ipykernel_541/625428848.py:10: RuntimeWarning: overflow encountered in multiply\n",
      "  return m * np.exp(t * (x - t0))\n"
     ]
    },
    {
     "name": "stdout",
     "output_type": "stream",
     "text": [
      "s24_DEHb\n"
     ]
    },
    {
     "name": "stderr",
     "output_type": "stream",
     "text": [
      "/home/eg15396/miniconda3/envs/fort-env/lib/python3.8/site-packages/scipy/optimize/minpack.py:833: OptimizeWarning: Covariance of the parameters could not be estimated\n",
      "  warnings.warn('Covariance of the parameters could not be estimated',\n",
      "/tmp/ipykernel_541/625428848.py:10: RuntimeWarning: overflow encountered in exp\n",
      "  return m * np.exp(t * (x - t0))\n",
      "/tmp/ipykernel_541/625428848.py:48: RuntimeWarning: Mean of empty slice\n",
      "  prop_coef[myrm_file][focal_ant] = np.nanmean(prop_coef[myrm_file][focal_ant])\n",
      "/tmp/ipykernel_541/625428848.py:10: RuntimeWarning: overflow encountered in multiply\n",
      "  return m * np.exp(t * (x - t0))\n"
     ]
    },
    {
     "name": "stdout",
     "output_type": "stream",
     "text": [
      "s25_DEHa\n"
     ]
    },
    {
     "name": "stderr",
     "output_type": "stream",
     "text": [
      "/tmp/ipykernel_541/625428848.py:10: RuntimeWarning: overflow encountered in exp\n",
      "  return m * np.exp(t * (x - t0))\n",
      "/home/eg15396/miniconda3/envs/fort-env/lib/python3.8/site-packages/scipy/optimize/minpack.py:833: OptimizeWarning: Covariance of the parameters could not be estimated\n",
      "  warnings.warn('Covariance of the parameters could not be estimated',\n",
      "/tmp/ipykernel_541/625428848.py:48: RuntimeWarning: Mean of empty slice\n",
      "  prop_coef[myrm_file][focal_ant] = np.nanmean(prop_coef[myrm_file][focal_ant])\n",
      "/tmp/ipykernel_541/625428848.py:10: RuntimeWarning: overflow encountered in multiply\n",
      "  return m * np.exp(t * (x - t0))\n"
     ]
    },
    {
     "name": "stdout",
     "output_type": "stream",
     "text": [
      "s25_DEHb\n"
     ]
    },
    {
     "name": "stderr",
     "output_type": "stream",
     "text": [
      "/tmp/ipykernel_541/625428848.py:48: RuntimeWarning: Mean of empty slice\n",
      "  prop_coef[myrm_file][focal_ant] = np.nanmean(prop_coef[myrm_file][focal_ant])\n",
      "/tmp/ipykernel_541/625428848.py:10: RuntimeWarning: overflow encountered in exp\n",
      "  return m * np.exp(t * (x - t0))\n",
      "/home/eg15396/miniconda3/envs/fort-env/lib/python3.8/site-packages/scipy/optimize/minpack.py:833: OptimizeWarning: Covariance of the parameters could not be estimated\n",
      "  warnings.warn('Covariance of the parameters could not be estimated',\n",
      "/tmp/ipykernel_541/625428848.py:10: RuntimeWarning: overflow encountered in multiply\n",
      "  return m * np.exp(t * (x - t0))\n"
     ]
    },
    {
     "name": "stdout",
     "output_type": "stream",
     "text": [
      "s26_DENa\n"
     ]
    },
    {
     "name": "stderr",
     "output_type": "stream",
     "text": [
      "/tmp/ipykernel_541/625428848.py:48: RuntimeWarning: Mean of empty slice\n",
      "  prop_coef[myrm_file][focal_ant] = np.nanmean(prop_coef[myrm_file][focal_ant])\n",
      "/tmp/ipykernel_541/625428848.py:10: RuntimeWarning: overflow encountered in exp\n",
      "  return m * np.exp(t * (x - t0))\n",
      "/home/eg15396/miniconda3/envs/fort-env/lib/python3.8/site-packages/scipy/optimize/minpack.py:833: OptimizeWarning: Covariance of the parameters could not be estimated\n",
      "  warnings.warn('Covariance of the parameters could not be estimated',\n",
      "/tmp/ipykernel_541/625428848.py:10: RuntimeWarning: overflow encountered in multiply\n",
      "  return m * np.exp(t * (x - t0))\n"
     ]
    },
    {
     "name": "stdout",
     "output_type": "stream",
     "text": [
      "s26_DENb\n"
     ]
    },
    {
     "name": "stderr",
     "output_type": "stream",
     "text": [
      "/home/eg15396/miniconda3/envs/fort-env/lib/python3.8/site-packages/scipy/optimize/minpack.py:833: OptimizeWarning: Covariance of the parameters could not be estimated\n",
      "  warnings.warn('Covariance of the parameters could not be estimated',\n",
      "/tmp/ipykernel_541/625428848.py:10: RuntimeWarning: overflow encountered in exp\n",
      "  return m * np.exp(t * (x - t0))\n",
      "/tmp/ipykernel_541/625428848.py:48: RuntimeWarning: Mean of empty slice\n",
      "  prop_coef[myrm_file][focal_ant] = np.nanmean(prop_coef[myrm_file][focal_ant])\n"
     ]
    },
    {
     "name": "stdout",
     "output_type": "stream",
     "text": [
      "s27_MODa\n"
     ]
    },
    {
     "name": "stderr",
     "output_type": "stream",
     "text": [
      "/home/eg15396/miniconda3/envs/fort-env/lib/python3.8/site-packages/scipy/optimize/minpack.py:833: OptimizeWarning: Covariance of the parameters could not be estimated\n",
      "  warnings.warn('Covariance of the parameters could not be estimated',\n",
      "/tmp/ipykernel_541/625428848.py:10: RuntimeWarning: overflow encountered in exp\n",
      "  return m * np.exp(t * (x - t0))\n",
      "/tmp/ipykernel_541/625428848.py:48: RuntimeWarning: Mean of empty slice\n",
      "  prop_coef[myrm_file][focal_ant] = np.nanmean(prop_coef[myrm_file][focal_ant])\n",
      "/tmp/ipykernel_541/625428848.py:10: RuntimeWarning: overflow encountered in multiply\n",
      "  return m * np.exp(t * (x - t0))\n"
     ]
    },
    {
     "name": "stdout",
     "output_type": "stream",
     "text": [
      "s27_MODb\n"
     ]
    },
    {
     "name": "stderr",
     "output_type": "stream",
     "text": [
      "/home/eg15396/miniconda3/envs/fort-env/lib/python3.8/site-packages/scipy/optimize/minpack.py:833: OptimizeWarning: Covariance of the parameters could not be estimated\n",
      "  warnings.warn('Covariance of the parameters could not be estimated',\n",
      "/tmp/ipykernel_541/625428848.py:10: RuntimeWarning: overflow encountered in exp\n",
      "  return m * np.exp(t * (x - t0))\n",
      "/tmp/ipykernel_541/625428848.py:48: RuntimeWarning: Mean of empty slice\n",
      "  prop_coef[myrm_file][focal_ant] = np.nanmean(prop_coef[myrm_file][focal_ant])\n",
      "/tmp/ipykernel_541/625428848.py:10: RuntimeWarning: overflow encountered in multiply\n",
      "  return m * np.exp(t * (x - t0))\n"
     ]
    },
    {
     "name": "stdout",
     "output_type": "stream",
     "text": [
      "s28_DIAa\n"
     ]
    },
    {
     "name": "stderr",
     "output_type": "stream",
     "text": [
      "/home/eg15396/miniconda3/envs/fort-env/lib/python3.8/site-packages/scipy/optimize/minpack.py:833: OptimizeWarning: Covariance of the parameters could not be estimated\n",
      "  warnings.warn('Covariance of the parameters could not be estimated',\n",
      "/tmp/ipykernel_541/625428848.py:10: RuntimeWarning: overflow encountered in exp\n",
      "  return m * np.exp(t * (x - t0))\n",
      "/tmp/ipykernel_541/625428848.py:48: RuntimeWarning: Mean of empty slice\n",
      "  prop_coef[myrm_file][focal_ant] = np.nanmean(prop_coef[myrm_file][focal_ant])\n",
      "/tmp/ipykernel_541/625428848.py:10: RuntimeWarning: overflow encountered in multiply\n",
      "  return m * np.exp(t * (x - t0))\n"
     ]
    },
    {
     "name": "stdout",
     "output_type": "stream",
     "text": [
      "s28_DIAb\n"
     ]
    },
    {
     "name": "stderr",
     "output_type": "stream",
     "text": [
      "/home/eg15396/miniconda3/envs/fort-env/lib/python3.8/site-packages/scipy/optimize/minpack.py:833: OptimizeWarning: Covariance of the parameters could not be estimated\n",
      "  warnings.warn('Covariance of the parameters could not be estimated',\n",
      "/tmp/ipykernel_541/625428848.py:48: RuntimeWarning: Mean of empty slice\n",
      "  prop_coef[myrm_file][focal_ant] = np.nanmean(prop_coef[myrm_file][focal_ant])\n",
      "/tmp/ipykernel_541/625428848.py:10: RuntimeWarning: overflow encountered in exp\n",
      "  return m * np.exp(t * (x - t0))\n",
      "/tmp/ipykernel_541/625428848.py:10: RuntimeWarning: overflow encountered in multiply\n",
      "  return m * np.exp(t * (x - t0))\n"
     ]
    },
    {
     "name": "stdout",
     "output_type": "stream",
     "text": [
      "s29_DENa\n"
     ]
    },
    {
     "name": "stderr",
     "output_type": "stream",
     "text": [
      "/home/eg15396/miniconda3/envs/fort-env/lib/python3.8/site-packages/scipy/optimize/minpack.py:833: OptimizeWarning: Covariance of the parameters could not be estimated\n",
      "  warnings.warn('Covariance of the parameters could not be estimated',\n",
      "/tmp/ipykernel_541/625428848.py:10: RuntimeWarning: overflow encountered in exp\n",
      "  return m * np.exp(t * (x - t0))\n",
      "/tmp/ipykernel_541/625428848.py:48: RuntimeWarning: Mean of empty slice\n",
      "  prop_coef[myrm_file][focal_ant] = np.nanmean(prop_coef[myrm_file][focal_ant])\n",
      "/tmp/ipykernel_541/625428848.py:10: RuntimeWarning: overflow encountered in multiply\n",
      "  return m * np.exp(t * (x - t0))\n"
     ]
    },
    {
     "name": "stdout",
     "output_type": "stream",
     "text": [
      "s29_DENb\n"
     ]
    },
    {
     "name": "stderr",
     "output_type": "stream",
     "text": [
      "/home/eg15396/miniconda3/envs/fort-env/lib/python3.8/site-packages/scipy/optimize/minpack.py:833: OptimizeWarning: Covariance of the parameters could not be estimated\n",
      "  warnings.warn('Covariance of the parameters could not be estimated',\n",
      "/tmp/ipykernel_541/625428848.py:10: RuntimeWarning: overflow encountered in exp\n",
      "  return m * np.exp(t * (x - t0))\n",
      "/tmp/ipykernel_541/625428848.py:10: RuntimeWarning: overflow encountered in multiply\n",
      "  return m * np.exp(t * (x - t0))\n",
      "/tmp/ipykernel_541/625428848.py:48: RuntimeWarning: Mean of empty slice\n",
      "  prop_coef[myrm_file][focal_ant] = np.nanmean(prop_coef[myrm_file][focal_ant])\n"
     ]
    },
    {
     "name": "stdout",
     "output_type": "stream",
     "text": [
      "s30_MODa\n"
     ]
    },
    {
     "name": "stderr",
     "output_type": "stream",
     "text": [
      "/home/eg15396/miniconda3/envs/fort-env/lib/python3.8/site-packages/scipy/optimize/minpack.py:833: OptimizeWarning: Covariance of the parameters could not be estimated\n",
      "  warnings.warn('Covariance of the parameters could not be estimated',\n",
      "/tmp/ipykernel_541/625428848.py:48: RuntimeWarning: Mean of empty slice\n",
      "  prop_coef[myrm_file][focal_ant] = np.nanmean(prop_coef[myrm_file][focal_ant])\n",
      "/tmp/ipykernel_541/625428848.py:10: RuntimeWarning: overflow encountered in exp\n",
      "  return m * np.exp(t * (x - t0))\n"
     ]
    },
    {
     "name": "stdout",
     "output_type": "stream",
     "text": [
      "s30_MODb\n"
     ]
    },
    {
     "name": "stderr",
     "output_type": "stream",
     "text": [
      "/home/eg15396/miniconda3/envs/fort-env/lib/python3.8/site-packages/scipy/optimize/minpack.py:833: OptimizeWarning: Covariance of the parameters could not be estimated\n",
      "  warnings.warn('Covariance of the parameters could not be estimated',\n",
      "/tmp/ipykernel_541/625428848.py:48: RuntimeWarning: Mean of empty slice\n",
      "  prop_coef[myrm_file][focal_ant] = np.nanmean(prop_coef[myrm_file][focal_ant])\n",
      "/tmp/ipykernel_541/625428848.py:10: RuntimeWarning: overflow encountered in exp\n",
      "  return m * np.exp(t * (x - t0))\n"
     ]
    },
    {
     "name": "stdout",
     "output_type": "stream",
     "text": [
      "s31_DEHa\n"
     ]
    },
    {
     "name": "stderr",
     "output_type": "stream",
     "text": [
      "/home/eg15396/miniconda3/envs/fort-env/lib/python3.8/site-packages/scipy/optimize/minpack.py:833: OptimizeWarning: Covariance of the parameters could not be estimated\n",
      "  warnings.warn('Covariance of the parameters could not be estimated',\n",
      "/tmp/ipykernel_541/625428848.py:48: RuntimeWarning: Mean of empty slice\n",
      "  prop_coef[myrm_file][focal_ant] = np.nanmean(prop_coef[myrm_file][focal_ant])\n",
      "/tmp/ipykernel_541/625428848.py:10: RuntimeWarning: overflow encountered in exp\n",
      "  return m * np.exp(t * (x - t0))\n"
     ]
    },
    {
     "name": "stdout",
     "output_type": "stream",
     "text": [
      "s31_DEHb\n"
     ]
    },
    {
     "name": "stderr",
     "output_type": "stream",
     "text": [
      "/home/eg15396/miniconda3/envs/fort-env/lib/python3.8/site-packages/scipy/optimize/minpack.py:833: OptimizeWarning: Covariance of the parameters could not be estimated\n",
      "  warnings.warn('Covariance of the parameters could not be estimated',\n",
      "/tmp/ipykernel_541/625428848.py:10: RuntimeWarning: overflow encountered in exp\n",
      "  return m * np.exp(t * (x - t0))\n",
      "/tmp/ipykernel_541/625428848.py:48: RuntimeWarning: Mean of empty slice\n",
      "  prop_coef[myrm_file][focal_ant] = np.nanmean(prop_coef[myrm_file][focal_ant])\n"
     ]
    },
    {
     "name": "stdout",
     "output_type": "stream",
     "text": [
      "s32_DIAa\n"
     ]
    },
    {
     "name": "stderr",
     "output_type": "stream",
     "text": [
      "/home/eg15396/miniconda3/envs/fort-env/lib/python3.8/site-packages/scipy/optimize/minpack.py:833: OptimizeWarning: Covariance of the parameters could not be estimated\n",
      "  warnings.warn('Covariance of the parameters could not be estimated',\n",
      "/tmp/ipykernel_541/625428848.py:10: RuntimeWarning: overflow encountered in exp\n",
      "  return m * np.exp(t * (x - t0))\n",
      "/tmp/ipykernel_541/625428848.py:48: RuntimeWarning: Mean of empty slice\n",
      "  prop_coef[myrm_file][focal_ant] = np.nanmean(prop_coef[myrm_file][focal_ant])\n"
     ]
    },
    {
     "name": "stdout",
     "output_type": "stream",
     "text": [
      "s32_DIAb\n"
     ]
    },
    {
     "name": "stderr",
     "output_type": "stream",
     "text": [
      "/home/eg15396/miniconda3/envs/fort-env/lib/python3.8/site-packages/scipy/optimize/minpack.py:833: OptimizeWarning: Covariance of the parameters could not be estimated\n",
      "  warnings.warn('Covariance of the parameters could not be estimated',\n",
      "/tmp/ipykernel_541/625428848.py:48: RuntimeWarning: Mean of empty slice\n",
      "  prop_coef[myrm_file][focal_ant] = np.nanmean(prop_coef[myrm_file][focal_ant])\n",
      "/tmp/ipykernel_541/625428848.py:10: RuntimeWarning: overflow encountered in exp\n",
      "  return m * np.exp(t * (x - t0))\n"
     ]
    },
    {
     "name": "stdout",
     "output_type": "stream",
     "text": [
      "s33_MODa\n"
     ]
    },
    {
     "name": "stderr",
     "output_type": "stream",
     "text": [
      "/tmp/ipykernel_541/625428848.py:48: RuntimeWarning: Mean of empty slice\n",
      "  prop_coef[myrm_file][focal_ant] = np.nanmean(prop_coef[myrm_file][focal_ant])\n",
      "/tmp/ipykernel_541/625428848.py:10: RuntimeWarning: overflow encountered in exp\n",
      "  return m * np.exp(t * (x - t0))\n",
      "/home/eg15396/miniconda3/envs/fort-env/lib/python3.8/site-packages/scipy/optimize/minpack.py:833: OptimizeWarning: Covariance of the parameters could not be estimated\n",
      "  warnings.warn('Covariance of the parameters could not be estimated',\n"
     ]
    },
    {
     "name": "stdout",
     "output_type": "stream",
     "text": [
      "s33_MODb\n"
     ]
    },
    {
     "name": "stderr",
     "output_type": "stream",
     "text": [
      "/tmp/ipykernel_541/625428848.py:10: RuntimeWarning: overflow encountered in exp\n",
      "  return m * np.exp(t * (x - t0))\n",
      "/tmp/ipykernel_541/625428848.py:48: RuntimeWarning: Mean of empty slice\n",
      "  prop_coef[myrm_file][focal_ant] = np.nanmean(prop_coef[myrm_file][focal_ant])\n",
      "/home/eg15396/miniconda3/envs/fort-env/lib/python3.8/site-packages/scipy/optimize/minpack.py:833: OptimizeWarning: Covariance of the parameters could not be estimated\n",
      "  warnings.warn('Covariance of the parameters could not be estimated',\n"
     ]
    },
    {
     "name": "stdout",
     "output_type": "stream",
     "text": [
      "s34_DEHa\n"
     ]
    },
    {
     "name": "stderr",
     "output_type": "stream",
     "text": [
      "/home/eg15396/miniconda3/envs/fort-env/lib/python3.8/site-packages/scipy/optimize/minpack.py:833: OptimizeWarning: Covariance of the parameters could not be estimated\n",
      "  warnings.warn('Covariance of the parameters could not be estimated',\n",
      "/tmp/ipykernel_541/625428848.py:10: RuntimeWarning: overflow encountered in exp\n",
      "  return m * np.exp(t * (x - t0))\n",
      "/tmp/ipykernel_541/625428848.py:48: RuntimeWarning: Mean of empty slice\n",
      "  prop_coef[myrm_file][focal_ant] = np.nanmean(prop_coef[myrm_file][focal_ant])\n",
      "/tmp/ipykernel_541/625428848.py:10: RuntimeWarning: overflow encountered in multiply\n",
      "  return m * np.exp(t * (x - t0))\n"
     ]
    },
    {
     "name": "stdout",
     "output_type": "stream",
     "text": [
      "s34_DEHb\n"
     ]
    },
    {
     "name": "stderr",
     "output_type": "stream",
     "text": [
      "/home/eg15396/miniconda3/envs/fort-env/lib/python3.8/site-packages/scipy/optimize/minpack.py:833: OptimizeWarning: Covariance of the parameters could not be estimated\n",
      "  warnings.warn('Covariance of the parameters could not be estimated',\n",
      "/tmp/ipykernel_541/625428848.py:10: RuntimeWarning: overflow encountered in exp\n",
      "  return m * np.exp(t * (x - t0))\n",
      "/tmp/ipykernel_541/625428848.py:10: RuntimeWarning: overflow encountered in multiply\n",
      "  return m * np.exp(t * (x - t0))\n",
      "/tmp/ipykernel_541/625428848.py:48: RuntimeWarning: Mean of empty slice\n",
      "  prop_coef[myrm_file][focal_ant] = np.nanmean(prop_coef[myrm_file][focal_ant])\n"
     ]
    },
    {
     "name": "stdout",
     "output_type": "stream",
     "text": [
      "s35_DIAa\n"
     ]
    },
    {
     "name": "stderr",
     "output_type": "stream",
     "text": [
      "/tmp/ipykernel_541/625428848.py:48: RuntimeWarning: Mean of empty slice\n",
      "  prop_coef[myrm_file][focal_ant] = np.nanmean(prop_coef[myrm_file][focal_ant])\n",
      "/home/eg15396/miniconda3/envs/fort-env/lib/python3.8/site-packages/scipy/optimize/minpack.py:833: OptimizeWarning: Covariance of the parameters could not be estimated\n",
      "  warnings.warn('Covariance of the parameters could not be estimated',\n",
      "/tmp/ipykernel_541/625428848.py:10: RuntimeWarning: overflow encountered in exp\n",
      "  return m * np.exp(t * (x - t0))\n",
      "/tmp/ipykernel_541/625428848.py:10: RuntimeWarning: overflow encountered in multiply\n",
      "  return m * np.exp(t * (x - t0))\n"
     ]
    },
    {
     "name": "stdout",
     "output_type": "stream",
     "text": [
      "s35_DIAb\n"
     ]
    },
    {
     "name": "stderr",
     "output_type": "stream",
     "text": [
      "/home/eg15396/miniconda3/envs/fort-env/lib/python3.8/site-packages/scipy/optimize/minpack.py:833: OptimizeWarning: Covariance of the parameters could not be estimated\n",
      "  warnings.warn('Covariance of the parameters could not be estimated',\n",
      "/tmp/ipykernel_541/625428848.py:48: RuntimeWarning: Mean of empty slice\n",
      "  prop_coef[myrm_file][focal_ant] = np.nanmean(prop_coef[myrm_file][focal_ant])\n",
      "/tmp/ipykernel_541/625428848.py:10: RuntimeWarning: overflow encountered in exp\n",
      "  return m * np.exp(t * (x - t0))\n",
      "/tmp/ipykernel_541/625428848.py:10: RuntimeWarning: overflow encountered in multiply\n",
      "  return m * np.exp(t * (x - t0))\n"
     ]
    },
    {
     "name": "stdout",
     "output_type": "stream",
     "text": [
      "s36_DENa\n"
     ]
    },
    {
     "name": "stderr",
     "output_type": "stream",
     "text": [
      "/home/eg15396/miniconda3/envs/fort-env/lib/python3.8/site-packages/scipy/optimize/minpack.py:833: OptimizeWarning: Covariance of the parameters could not be estimated\n",
      "  warnings.warn('Covariance of the parameters could not be estimated',\n",
      "/tmp/ipykernel_541/625428848.py:10: RuntimeWarning: overflow encountered in exp\n",
      "  return m * np.exp(t * (x - t0))\n",
      "/tmp/ipykernel_541/625428848.py:48: RuntimeWarning: Mean of empty slice\n",
      "  prop_coef[myrm_file][focal_ant] = np.nanmean(prop_coef[myrm_file][focal_ant])\n"
     ]
    },
    {
     "name": "stdout",
     "output_type": "stream",
     "text": [
      "s36_DENb\n"
     ]
    },
    {
     "name": "stderr",
     "output_type": "stream",
     "text": [
      "/home/eg15396/miniconda3/envs/fort-env/lib/python3.8/site-packages/scipy/optimize/minpack.py:833: OptimizeWarning: Covariance of the parameters could not be estimated\n",
      "  warnings.warn('Covariance of the parameters could not be estimated',\n",
      "/tmp/ipykernel_541/625428848.py:10: RuntimeWarning: overflow encountered in exp\n",
      "  return m * np.exp(t * (x - t0))\n",
      "/tmp/ipykernel_541/625428848.py:10: RuntimeWarning: overflow encountered in multiply\n",
      "  return m * np.exp(t * (x - t0))\n",
      "/tmp/ipykernel_541/625428848.py:48: RuntimeWarning: Mean of empty slice\n",
      "  prop_coef[myrm_file][focal_ant] = np.nanmean(prop_coef[myrm_file][focal_ant])\n"
     ]
    },
    {
     "name": "stdout",
     "output_type": "stream",
     "text": [
      "s37_DIAa\n"
     ]
    },
    {
     "name": "stderr",
     "output_type": "stream",
     "text": [
      "/home/eg15396/miniconda3/envs/fort-env/lib/python3.8/site-packages/scipy/optimize/minpack.py:833: OptimizeWarning: Covariance of the parameters could not be estimated\n",
      "  warnings.warn('Covariance of the parameters could not be estimated',\n",
      "/tmp/ipykernel_541/625428848.py:10: RuntimeWarning: overflow encountered in exp\n",
      "  return m * np.exp(t * (x - t0))\n",
      "/tmp/ipykernel_541/625428848.py:48: RuntimeWarning: Mean of empty slice\n",
      "  prop_coef[myrm_file][focal_ant] = np.nanmean(prop_coef[myrm_file][focal_ant])\n"
     ]
    },
    {
     "name": "stdout",
     "output_type": "stream",
     "text": [
      "s37_DIAb\n"
     ]
    },
    {
     "name": "stderr",
     "output_type": "stream",
     "text": [
      "/home/eg15396/miniconda3/envs/fort-env/lib/python3.8/site-packages/scipy/optimize/minpack.py:833: OptimizeWarning: Covariance of the parameters could not be estimated\n",
      "  warnings.warn('Covariance of the parameters could not be estimated',\n",
      "/tmp/ipykernel_541/625428848.py:10: RuntimeWarning: overflow encountered in exp\n",
      "  return m * np.exp(t * (x - t0))\n",
      "/tmp/ipykernel_541/625428848.py:48: RuntimeWarning: Mean of empty slice\n",
      "  prop_coef[myrm_file][focal_ant] = np.nanmean(prop_coef[myrm_file][focal_ant])\n",
      "/tmp/ipykernel_541/625428848.py:10: RuntimeWarning: overflow encountered in multiply\n",
      "  return m * np.exp(t * (x - t0))\n"
     ]
    },
    {
     "name": "stdout",
     "output_type": "stream",
     "text": [
      "s38_DEHa\n"
     ]
    },
    {
     "name": "stderr",
     "output_type": "stream",
     "text": [
      "/tmp/ipykernel_541/625428848.py:10: RuntimeWarning: overflow encountered in exp\n",
      "  return m * np.exp(t * (x - t0))\n",
      "/home/eg15396/miniconda3/envs/fort-env/lib/python3.8/site-packages/scipy/optimize/minpack.py:833: OptimizeWarning: Covariance of the parameters could not be estimated\n",
      "  warnings.warn('Covariance of the parameters could not be estimated',\n",
      "/tmp/ipykernel_541/625428848.py:48: RuntimeWarning: Mean of empty slice\n",
      "  prop_coef[myrm_file][focal_ant] = np.nanmean(prop_coef[myrm_file][focal_ant])\n",
      "/tmp/ipykernel_541/625428848.py:10: RuntimeWarning: overflow encountered in multiply\n",
      "  return m * np.exp(t * (x - t0))\n"
     ]
    },
    {
     "name": "stdout",
     "output_type": "stream",
     "text": [
      "s38_DEHb\n"
     ]
    },
    {
     "name": "stderr",
     "output_type": "stream",
     "text": [
      "/home/eg15396/miniconda3/envs/fort-env/lib/python3.8/site-packages/scipy/optimize/minpack.py:833: OptimizeWarning: Covariance of the parameters could not be estimated\n",
      "  warnings.warn('Covariance of the parameters could not be estimated',\n",
      "/tmp/ipykernel_541/625428848.py:10: RuntimeWarning: overflow encountered in exp\n",
      "  return m * np.exp(t * (x - t0))\n",
      "/tmp/ipykernel_541/625428848.py:48: RuntimeWarning: Mean of empty slice\n",
      "  prop_coef[myrm_file][focal_ant] = np.nanmean(prop_coef[myrm_file][focal_ant])\n",
      "/tmp/ipykernel_541/625428848.py:10: RuntimeWarning: overflow encountered in multiply\n",
      "  return m * np.exp(t * (x - t0))\n"
     ]
    },
    {
     "name": "stdout",
     "output_type": "stream",
     "text": [
      "s39_DENa\n"
     ]
    },
    {
     "name": "stderr",
     "output_type": "stream",
     "text": [
      "/home/eg15396/miniconda3/envs/fort-env/lib/python3.8/site-packages/scipy/optimize/minpack.py:833: OptimizeWarning: Covariance of the parameters could not be estimated\n",
      "  warnings.warn('Covariance of the parameters could not be estimated',\n",
      "/tmp/ipykernel_541/625428848.py:10: RuntimeWarning: overflow encountered in exp\n",
      "  return m * np.exp(t * (x - t0))\n",
      "/tmp/ipykernel_541/625428848.py:48: RuntimeWarning: Mean of empty slice\n",
      "  prop_coef[myrm_file][focal_ant] = np.nanmean(prop_coef[myrm_file][focal_ant])\n"
     ]
    },
    {
     "name": "stdout",
     "output_type": "stream",
     "text": [
      "s39_DENb\n"
     ]
    },
    {
     "name": "stderr",
     "output_type": "stream",
     "text": [
      "/tmp/ipykernel_541/625428848.py:10: RuntimeWarning: overflow encountered in exp\n",
      "  return m * np.exp(t * (x - t0))\n",
      "/home/eg15396/miniconda3/envs/fort-env/lib/python3.8/site-packages/scipy/optimize/minpack.py:833: OptimizeWarning: Covariance of the parameters could not be estimated\n",
      "  warnings.warn('Covariance of the parameters could not be estimated',\n",
      "/tmp/ipykernel_541/625428848.py:48: RuntimeWarning: Mean of empty slice\n",
      "  prop_coef[myrm_file][focal_ant] = np.nanmean(prop_coef[myrm_file][focal_ant])\n"
     ]
    },
    {
     "name": "stdout",
     "output_type": "stream",
     "text": [
      "s40_MODa\n"
     ]
    },
    {
     "name": "stderr",
     "output_type": "stream",
     "text": [
      "/home/eg15396/miniconda3/envs/fort-env/lib/python3.8/site-packages/scipy/optimize/minpack.py:833: OptimizeWarning: Covariance of the parameters could not be estimated\n",
      "  warnings.warn('Covariance of the parameters could not be estimated',\n",
      "/tmp/ipykernel_541/625428848.py:10: RuntimeWarning: overflow encountered in exp\n",
      "  return m * np.exp(t * (x - t0))\n",
      "/tmp/ipykernel_541/625428848.py:48: RuntimeWarning: Mean of empty slice\n",
      "  prop_coef[myrm_file][focal_ant] = np.nanmean(prop_coef[myrm_file][focal_ant])\n",
      "/tmp/ipykernel_541/625428848.py:10: RuntimeWarning: overflow encountered in multiply\n",
      "  return m * np.exp(t * (x - t0))\n"
     ]
    },
    {
     "name": "stdout",
     "output_type": "stream",
     "text": [
      "s40_MODb\n"
     ]
    },
    {
     "name": "stderr",
     "output_type": "stream",
     "text": [
      "/home/eg15396/miniconda3/envs/fort-env/lib/python3.8/site-packages/scipy/optimize/minpack.py:833: OptimizeWarning: Covariance of the parameters could not be estimated\n",
      "  warnings.warn('Covariance of the parameters could not be estimated',\n",
      "/tmp/ipykernel_541/625428848.py:48: RuntimeWarning: Mean of empty slice\n",
      "  prop_coef[myrm_file][focal_ant] = np.nanmean(prop_coef[myrm_file][focal_ant])\n",
      "/tmp/ipykernel_541/625428848.py:10: RuntimeWarning: overflow encountered in exp\n",
      "  return m * np.exp(t * (x - t0))\n",
      "/tmp/ipykernel_541/625428848.py:10: RuntimeWarning: overflow encountered in multiply\n",
      "  return m * np.exp(t * (x - t0))\n"
     ]
    },
    {
     "name": "stdout",
     "output_type": "stream",
     "text": [
      "s42_DIAa\n"
     ]
    },
    {
     "name": "stderr",
     "output_type": "stream",
     "text": [
      "/tmp/ipykernel_541/625428848.py:10: RuntimeWarning: overflow encountered in exp\n",
      "  return m * np.exp(t * (x - t0))\n",
      "/home/eg15396/miniconda3/envs/fort-env/lib/python3.8/site-packages/scipy/optimize/minpack.py:833: OptimizeWarning: Covariance of the parameters could not be estimated\n",
      "  warnings.warn('Covariance of the parameters could not be estimated',\n",
      "/tmp/ipykernel_541/625428848.py:48: RuntimeWarning: Mean of empty slice\n",
      "  prop_coef[myrm_file][focal_ant] = np.nanmean(prop_coef[myrm_file][focal_ant])\n",
      "/tmp/ipykernel_541/625428848.py:10: RuntimeWarning: overflow encountered in multiply\n",
      "  return m * np.exp(t * (x - t0))\n",
      "/home/eg15396/miniconda3/envs/fort-env/lib/python3.8/site-packages/scipy/optimize/minpack.py:833: OptimizeWarning: Covariance of the parameters could not be estimated\n",
      "  warnings.warn('Covariance of the parameters could not be estimated',\n",
      "/tmp/ipykernel_541/625428848.py:10: RuntimeWarning: overflow encountered in exp\n",
      "  return m * np.exp(t * (x - t0))\n",
      "/tmp/ipykernel_541/625428848.py:48: RuntimeWarning: Mean of empty slice\n",
      "  prop_coef[myrm_file][focal_ant] = np.nanmean(prop_coef[myrm_file][focal_ant])\n",
      "/tmp/ipykernel_541/625428848.py:10: RuntimeWarning: overflow encountered in multiply\n",
      "  return m * np.exp(t * (x - t0))\n"
     ]
    },
    {
     "name": "stdout",
     "output_type": "stream",
     "text": [
      "s42_DIAb\n",
      "s43_DENa\n"
     ]
    },
    {
     "name": "stderr",
     "output_type": "stream",
     "text": [
      "/tmp/ipykernel_541/625428848.py:10: RuntimeWarning: overflow encountered in exp\n",
      "  return m * np.exp(t * (x - t0))\n",
      "/home/eg15396/miniconda3/envs/fort-env/lib/python3.8/site-packages/scipy/optimize/minpack.py:833: OptimizeWarning: Covariance of the parameters could not be estimated\n",
      "  warnings.warn('Covariance of the parameters could not be estimated',\n",
      "/tmp/ipykernel_541/625428848.py:10: RuntimeWarning: overflow encountered in multiply\n",
      "  return m * np.exp(t * (x - t0))\n",
      "/tmp/ipykernel_541/625428848.py:48: RuntimeWarning: Mean of empty slice\n",
      "  prop_coef[myrm_file][focal_ant] = np.nanmean(prop_coef[myrm_file][focal_ant])\n"
     ]
    },
    {
     "name": "stdout",
     "output_type": "stream",
     "text": [
      "s43_DENb\n"
     ]
    },
    {
     "name": "stderr",
     "output_type": "stream",
     "text": [
      "/home/eg15396/miniconda3/envs/fort-env/lib/python3.8/site-packages/scipy/optimize/minpack.py:833: OptimizeWarning: Covariance of the parameters could not be estimated\n",
      "  warnings.warn('Covariance of the parameters could not be estimated',\n",
      "/tmp/ipykernel_541/625428848.py:10: RuntimeWarning: overflow encountered in exp\n",
      "  return m * np.exp(t * (x - t0))\n",
      "/tmp/ipykernel_541/625428848.py:10: RuntimeWarning: overflow encountered in multiply\n",
      "  return m * np.exp(t * (x - t0))\n",
      "/tmp/ipykernel_541/625428848.py:48: RuntimeWarning: Mean of empty slice\n",
      "  prop_coef[myrm_file][focal_ant] = np.nanmean(prop_coef[myrm_file][focal_ant])\n"
     ]
    },
    {
     "name": "stdout",
     "output_type": "stream",
     "text": [
      "s44_MODa\n"
     ]
    },
    {
     "name": "stderr",
     "output_type": "stream",
     "text": [
      "/tmp/ipykernel_541/625428848.py:10: RuntimeWarning: overflow encountered in exp\n",
      "  return m * np.exp(t * (x - t0))\n",
      "/home/eg15396/miniconda3/envs/fort-env/lib/python3.8/site-packages/scipy/optimize/minpack.py:833: OptimizeWarning: Covariance of the parameters could not be estimated\n",
      "  warnings.warn('Covariance of the parameters could not be estimated',\n",
      "/tmp/ipykernel_541/625428848.py:48: RuntimeWarning: Mean of empty slice\n",
      "  prop_coef[myrm_file][focal_ant] = np.nanmean(prop_coef[myrm_file][focal_ant])\n",
      "/tmp/ipykernel_541/625428848.py:10: RuntimeWarning: overflow encountered in multiply\n",
      "  return m * np.exp(t * (x - t0))\n"
     ]
    },
    {
     "name": "stdout",
     "output_type": "stream",
     "text": [
      "s44_MODb\n"
     ]
    },
    {
     "name": "stderr",
     "output_type": "stream",
     "text": [
      "/tmp/ipykernel_541/625428848.py:48: RuntimeWarning: Mean of empty slice\n",
      "  prop_coef[myrm_file][focal_ant] = np.nanmean(prop_coef[myrm_file][focal_ant])\n",
      "/home/eg15396/miniconda3/envs/fort-env/lib/python3.8/site-packages/scipy/optimize/minpack.py:833: OptimizeWarning: Covariance of the parameters could not be estimated\n",
      "  warnings.warn('Covariance of the parameters could not be estimated',\n",
      "/tmp/ipykernel_541/625428848.py:10: RuntimeWarning: overflow encountered in exp\n",
      "  return m * np.exp(t * (x - t0))\n"
     ]
    },
    {
     "name": "stdout",
     "output_type": "stream",
     "text": [
      "s45_DENa\n"
     ]
    },
    {
     "name": "stderr",
     "output_type": "stream",
     "text": [
      "/home/eg15396/miniconda3/envs/fort-env/lib/python3.8/site-packages/scipy/optimize/minpack.py:833: OptimizeWarning: Covariance of the parameters could not be estimated\n",
      "  warnings.warn('Covariance of the parameters could not be estimated',\n",
      "/tmp/ipykernel_541/625428848.py:10: RuntimeWarning: overflow encountered in exp\n",
      "  return m * np.exp(t * (x - t0))\n",
      "/tmp/ipykernel_541/625428848.py:48: RuntimeWarning: Mean of empty slice\n",
      "  prop_coef[myrm_file][focal_ant] = np.nanmean(prop_coef[myrm_file][focal_ant])\n",
      "/tmp/ipykernel_541/625428848.py:10: RuntimeWarning: overflow encountered in multiply\n",
      "  return m * np.exp(t * (x - t0))\n"
     ]
    },
    {
     "name": "stdout",
     "output_type": "stream",
     "text": [
      "s45_DENb\n"
     ]
    },
    {
     "name": "stderr",
     "output_type": "stream",
     "text": [
      "/home/eg15396/miniconda3/envs/fort-env/lib/python3.8/site-packages/scipy/optimize/minpack.py:833: OptimizeWarning: Covariance of the parameters could not be estimated\n",
      "  warnings.warn('Covariance of the parameters could not be estimated',\n",
      "/tmp/ipykernel_541/625428848.py:10: RuntimeWarning: overflow encountered in exp\n",
      "  return m * np.exp(t * (x - t0))\n",
      "/tmp/ipykernel_541/625428848.py:48: RuntimeWarning: Mean of empty slice\n",
      "  prop_coef[myrm_file][focal_ant] = np.nanmean(prop_coef[myrm_file][focal_ant])\n"
     ]
    },
    {
     "name": "stdout",
     "output_type": "stream",
     "text": [
      "s46_DIAa\n"
     ]
    },
    {
     "name": "stderr",
     "output_type": "stream",
     "text": [
      "/home/eg15396/miniconda3/envs/fort-env/lib/python3.8/site-packages/scipy/optimize/minpack.py:833: OptimizeWarning: Covariance of the parameters could not be estimated\n",
      "  warnings.warn('Covariance of the parameters could not be estimated',\n",
      "/tmp/ipykernel_541/625428848.py:10: RuntimeWarning: overflow encountered in exp\n",
      "  return m * np.exp(t * (x - t0))\n",
      "/tmp/ipykernel_541/625428848.py:48: RuntimeWarning: Mean of empty slice\n",
      "  prop_coef[myrm_file][focal_ant] = np.nanmean(prop_coef[myrm_file][focal_ant])\n",
      "/tmp/ipykernel_541/625428848.py:10: RuntimeWarning: overflow encountered in multiply\n",
      "  return m * np.exp(t * (x - t0))\n"
     ]
    },
    {
     "name": "stdout",
     "output_type": "stream",
     "text": [
      "s46_DIAb\n"
     ]
    },
    {
     "name": "stderr",
     "output_type": "stream",
     "text": [
      "/home/eg15396/miniconda3/envs/fort-env/lib/python3.8/site-packages/scipy/optimize/minpack.py:833: OptimizeWarning: Covariance of the parameters could not be estimated\n",
      "  warnings.warn('Covariance of the parameters could not be estimated',\n",
      "/tmp/ipykernel_541/625428848.py:10: RuntimeWarning: overflow encountered in exp\n",
      "  return m * np.exp(t * (x - t0))\n",
      "/tmp/ipykernel_541/625428848.py:48: RuntimeWarning: Mean of empty slice\n",
      "  prop_coef[myrm_file][focal_ant] = np.nanmean(prop_coef[myrm_file][focal_ant])\n",
      "/tmp/ipykernel_541/625428848.py:10: RuntimeWarning: overflow encountered in multiply\n",
      "  return m * np.exp(t * (x - t0))\n"
     ]
    },
    {
     "name": "stdout",
     "output_type": "stream",
     "text": [
      "s47_DEHa\n"
     ]
    },
    {
     "name": "stderr",
     "output_type": "stream",
     "text": [
      "/home/eg15396/miniconda3/envs/fort-env/lib/python3.8/site-packages/scipy/optimize/minpack.py:833: OptimizeWarning: Covariance of the parameters could not be estimated\n",
      "  warnings.warn('Covariance of the parameters could not be estimated',\n",
      "/tmp/ipykernel_541/625428848.py:10: RuntimeWarning: overflow encountered in exp\n",
      "  return m * np.exp(t * (x - t0))\n",
      "/tmp/ipykernel_541/625428848.py:48: RuntimeWarning: Mean of empty slice\n",
      "  prop_coef[myrm_file][focal_ant] = np.nanmean(prop_coef[myrm_file][focal_ant])\n"
     ]
    },
    {
     "name": "stdout",
     "output_type": "stream",
     "text": [
      "s47_DEHb\n"
     ]
    },
    {
     "name": "stderr",
     "output_type": "stream",
     "text": [
      "/home/eg15396/miniconda3/envs/fort-env/lib/python3.8/site-packages/scipy/optimize/minpack.py:833: OptimizeWarning: Covariance of the parameters could not be estimated\n",
      "  warnings.warn('Covariance of the parameters could not be estimated',\n",
      "/tmp/ipykernel_541/625428848.py:10: RuntimeWarning: overflow encountered in exp\n",
      "  return m * np.exp(t * (x - t0))\n",
      "/tmp/ipykernel_541/625428848.py:48: RuntimeWarning: Mean of empty slice\n",
      "  prop_coef[myrm_file][focal_ant] = np.nanmean(prop_coef[myrm_file][focal_ant])\n",
      "/tmp/ipykernel_541/625428848.py:10: RuntimeWarning: overflow encountered in multiply\n",
      "  return m * np.exp(t * (x - t0))\n"
     ]
    },
    {
     "name": "stdout",
     "output_type": "stream",
     "text": [
      "s48_MODa\n"
     ]
    },
    {
     "name": "stderr",
     "output_type": "stream",
     "text": [
      "/home/eg15396/miniconda3/envs/fort-env/lib/python3.8/site-packages/scipy/optimize/minpack.py:833: OptimizeWarning: Covariance of the parameters could not be estimated\n",
      "  warnings.warn('Covariance of the parameters could not be estimated',\n",
      "/tmp/ipykernel_541/625428848.py:48: RuntimeWarning: Mean of empty slice\n",
      "  prop_coef[myrm_file][focal_ant] = np.nanmean(prop_coef[myrm_file][focal_ant])\n",
      "/tmp/ipykernel_541/625428848.py:10: RuntimeWarning: overflow encountered in exp\n",
      "  return m * np.exp(t * (x - t0))\n"
     ]
    },
    {
     "name": "stdout",
     "output_type": "stream",
     "text": [
      "s48_MODb\n"
     ]
    },
    {
     "name": "stderr",
     "output_type": "stream",
     "text": [
      "/home/eg15396/miniconda3/envs/fort-env/lib/python3.8/site-packages/scipy/optimize/minpack.py:833: OptimizeWarning: Covariance of the parameters could not be estimated\n",
      "  warnings.warn('Covariance of the parameters could not be estimated',\n",
      "/tmp/ipykernel_541/625428848.py:10: RuntimeWarning: overflow encountered in exp\n",
      "  return m * np.exp(t * (x - t0))\n",
      "/tmp/ipykernel_541/625428848.py:48: RuntimeWarning: Mean of empty slice\n",
      "  prop_coef[myrm_file][focal_ant] = np.nanmean(prop_coef[myrm_file][focal_ant])\n"
     ]
    },
    {
     "name": "stdout",
     "output_type": "stream",
     "text": [
      "s49_MODa\n"
     ]
    },
    {
     "name": "stderr",
     "output_type": "stream",
     "text": [
      "/tmp/ipykernel_541/625428848.py:10: RuntimeWarning: overflow encountered in exp\n",
      "  return m * np.exp(t * (x - t0))\n",
      "/home/eg15396/miniconda3/envs/fort-env/lib/python3.8/site-packages/scipy/optimize/minpack.py:833: OptimizeWarning: Covariance of the parameters could not be estimated\n",
      "  warnings.warn('Covariance of the parameters could not be estimated',\n",
      "/tmp/ipykernel_541/625428848.py:48: RuntimeWarning: Mean of empty slice\n",
      "  prop_coef[myrm_file][focal_ant] = np.nanmean(prop_coef[myrm_file][focal_ant])\n",
      "/tmp/ipykernel_541/625428848.py:10: RuntimeWarning: overflow encountered in multiply\n",
      "  return m * np.exp(t * (x - t0))\n"
     ]
    },
    {
     "name": "stdout",
     "output_type": "stream",
     "text": [
      "s49_MODb\n"
     ]
    },
    {
     "name": "stderr",
     "output_type": "stream",
     "text": [
      "/home/eg15396/miniconda3/envs/fort-env/lib/python3.8/site-packages/scipy/optimize/minpack.py:833: OptimizeWarning: Covariance of the parameters could not be estimated\n",
      "  warnings.warn('Covariance of the parameters could not be estimated',\n",
      "/tmp/ipykernel_541/625428848.py:10: RuntimeWarning: overflow encountered in exp\n",
      "  return m * np.exp(t * (x - t0))\n",
      "/tmp/ipykernel_541/625428848.py:48: RuntimeWarning: Mean of empty slice\n",
      "  prop_coef[myrm_file][focal_ant] = np.nanmean(prop_coef[myrm_file][focal_ant])\n",
      "/tmp/ipykernel_541/625428848.py:10: RuntimeWarning: overflow encountered in multiply\n",
      "  return m * np.exp(t * (x - t0))\n"
     ]
    },
    {
     "name": "stdout",
     "output_type": "stream",
     "text": [
      "s50_DIAa\n"
     ]
    },
    {
     "name": "stderr",
     "output_type": "stream",
     "text": [
      "/home/eg15396/miniconda3/envs/fort-env/lib/python3.8/site-packages/scipy/optimize/minpack.py:833: OptimizeWarning: Covariance of the parameters could not be estimated\n",
      "  warnings.warn('Covariance of the parameters could not be estimated',\n",
      "/tmp/ipykernel_541/625428848.py:48: RuntimeWarning: Mean of empty slice\n",
      "  prop_coef[myrm_file][focal_ant] = np.nanmean(prop_coef[myrm_file][focal_ant])\n",
      "/tmp/ipykernel_541/625428848.py:10: RuntimeWarning: overflow encountered in exp\n",
      "  return m * np.exp(t * (x - t0))\n"
     ]
    },
    {
     "name": "stdout",
     "output_type": "stream",
     "text": [
      "s50_DIAb\n"
     ]
    },
    {
     "name": "stderr",
     "output_type": "stream",
     "text": [
      "/home/eg15396/miniconda3/envs/fort-env/lib/python3.8/site-packages/scipy/optimize/minpack.py:833: OptimizeWarning: Covariance of the parameters could not be estimated\n",
      "  warnings.warn('Covariance of the parameters could not be estimated',\n",
      "/tmp/ipykernel_541/625428848.py:48: RuntimeWarning: Mean of empty slice\n",
      "  prop_coef[myrm_file][focal_ant] = np.nanmean(prop_coef[myrm_file][focal_ant])\n",
      "/tmp/ipykernel_541/625428848.py:10: RuntimeWarning: overflow encountered in exp\n",
      "  return m * np.exp(t * (x - t0))\n",
      "/tmp/ipykernel_541/625428848.py:10: RuntimeWarning: overflow encountered in multiply\n",
      "  return m * np.exp(t * (x - t0))\n",
      "/tmp/ipykernel_541/625428848.py:10: RuntimeWarning: overflow encountered in exp\n",
      "  return m * np.exp(t * (x - t0))\n",
      "/home/eg15396/miniconda3/envs/fort-env/lib/python3.8/site-packages/scipy/optimize/minpack.py:833: OptimizeWarning: Covariance of the parameters could not be estimated\n",
      "  warnings.warn('Covariance of the parameters could not be estimated',\n",
      "/tmp/ipykernel_541/625428848.py:48: RuntimeWarning: Mean of empty slice\n",
      "  prop_coef[myrm_file][focal_ant] = np.nanmean(prop_coef[myrm_file][focal_ant])\n"
     ]
    },
    {
     "name": "stdout",
     "output_type": "stream",
     "text": [
      "s51_DEHa\n",
      "s51_DEHb\n"
     ]
    },
    {
     "name": "stderr",
     "output_type": "stream",
     "text": [
      "/tmp/ipykernel_541/625428848.py:10: RuntimeWarning: overflow encountered in exp\n",
      "  return m * np.exp(t * (x - t0))\n",
      "/home/eg15396/miniconda3/envs/fort-env/lib/python3.8/site-packages/scipy/optimize/minpack.py:833: OptimizeWarning: Covariance of the parameters could not be estimated\n",
      "  warnings.warn('Covariance of the parameters could not be estimated',\n",
      "/tmp/ipykernel_541/625428848.py:48: RuntimeWarning: Mean of empty slice\n",
      "  prop_coef[myrm_file][focal_ant] = np.nanmean(prop_coef[myrm_file][focal_ant])\n",
      "/tmp/ipykernel_541/625428848.py:10: RuntimeWarning: overflow encountered in multiply\n",
      "  return m * np.exp(t * (x - t0))\n"
     ]
    },
    {
     "name": "stdout",
     "output_type": "stream",
     "text": [
      "s52_DENa\n"
     ]
    },
    {
     "name": "stderr",
     "output_type": "stream",
     "text": [
      "/home/eg15396/miniconda3/envs/fort-env/lib/python3.8/site-packages/scipy/optimize/minpack.py:833: OptimizeWarning: Covariance of the parameters could not be estimated\n",
      "  warnings.warn('Covariance of the parameters could not be estimated',\n",
      "/tmp/ipykernel_541/625428848.py:10: RuntimeWarning: overflow encountered in exp\n",
      "  return m * np.exp(t * (x - t0))\n",
      "/tmp/ipykernel_541/625428848.py:48: RuntimeWarning: Mean of empty slice\n",
      "  prop_coef[myrm_file][focal_ant] = np.nanmean(prop_coef[myrm_file][focal_ant])\n",
      "/tmp/ipykernel_541/625428848.py:10: RuntimeWarning: overflow encountered in multiply\n",
      "  return m * np.exp(t * (x - t0))\n"
     ]
    },
    {
     "name": "stdout",
     "output_type": "stream",
     "text": [
      "s52_DENb\n"
     ]
    },
    {
     "name": "stderr",
     "output_type": "stream",
     "text": [
      "/home/eg15396/miniconda3/envs/fort-env/lib/python3.8/site-packages/scipy/optimize/minpack.py:833: OptimizeWarning: Covariance of the parameters could not be estimated\n",
      "  warnings.warn('Covariance of the parameters could not be estimated',\n",
      "/tmp/ipykernel_541/625428848.py:10: RuntimeWarning: overflow encountered in exp\n",
      "  return m * np.exp(t * (x - t0))\n",
      "/tmp/ipykernel_541/625428848.py:48: RuntimeWarning: Mean of empty slice\n",
      "  prop_coef[myrm_file][focal_ant] = np.nanmean(prop_coef[myrm_file][focal_ant])\n"
     ]
    },
    {
     "name": "stdout",
     "output_type": "stream",
     "text": [
      "s53_DIAa\n"
     ]
    },
    {
     "name": "stderr",
     "output_type": "stream",
     "text": [
      "/home/eg15396/miniconda3/envs/fort-env/lib/python3.8/site-packages/scipy/optimize/minpack.py:833: OptimizeWarning: Covariance of the parameters could not be estimated\n",
      "  warnings.warn('Covariance of the parameters could not be estimated',\n",
      "/tmp/ipykernel_541/625428848.py:10: RuntimeWarning: overflow encountered in exp\n",
      "  return m * np.exp(t * (x - t0))\n",
      "/tmp/ipykernel_541/625428848.py:48: RuntimeWarning: Mean of empty slice\n",
      "  prop_coef[myrm_file][focal_ant] = np.nanmean(prop_coef[myrm_file][focal_ant])\n"
     ]
    },
    {
     "name": "stdout",
     "output_type": "stream",
     "text": [
      "s53_DIAb\n"
     ]
    },
    {
     "name": "stderr",
     "output_type": "stream",
     "text": [
      "/home/eg15396/miniconda3/envs/fort-env/lib/python3.8/site-packages/scipy/optimize/minpack.py:833: OptimizeWarning: Covariance of the parameters could not be estimated\n",
      "  warnings.warn('Covariance of the parameters could not be estimated',\n",
      "/tmp/ipykernel_541/625428848.py:48: RuntimeWarning: Mean of empty slice\n",
      "  prop_coef[myrm_file][focal_ant] = np.nanmean(prop_coef[myrm_file][focal_ant])\n",
      "/tmp/ipykernel_541/625428848.py:10: RuntimeWarning: overflow encountered in exp\n",
      "  return m * np.exp(t * (x - t0))\n",
      "/tmp/ipykernel_541/625428848.py:10: RuntimeWarning: overflow encountered in multiply\n",
      "  return m * np.exp(t * (x - t0))\n",
      "/home/eg15396/miniconda3/envs/fort-env/lib/python3.8/site-packages/scipy/optimize/minpack.py:833: OptimizeWarning: Covariance of the parameters could not be estimated\n",
      "  warnings.warn('Covariance of the parameters could not be estimated',\n",
      "/tmp/ipykernel_541/625428848.py:48: RuntimeWarning: Mean of empty slice\n",
      "  prop_coef[myrm_file][focal_ant] = np.nanmean(prop_coef[myrm_file][focal_ant])\n",
      "/tmp/ipykernel_541/625428848.py:10: RuntimeWarning: overflow encountered in exp\n",
      "  return m * np.exp(t * (x - t0))\n"
     ]
    },
    {
     "name": "stdout",
     "output_type": "stream",
     "text": [
      "s54_MODa\n",
      "s54_MODb\n"
     ]
    },
    {
     "name": "stderr",
     "output_type": "stream",
     "text": [
      "/home/eg15396/miniconda3/envs/fort-env/lib/python3.8/site-packages/scipy/optimize/minpack.py:833: OptimizeWarning: Covariance of the parameters could not be estimated\n",
      "  warnings.warn('Covariance of the parameters could not be estimated',\n",
      "/tmp/ipykernel_541/625428848.py:10: RuntimeWarning: overflow encountered in exp\n",
      "  return m * np.exp(t * (x - t0))\n",
      "/tmp/ipykernel_541/625428848.py:48: RuntimeWarning: Mean of empty slice\n",
      "  prop_coef[myrm_file][focal_ant] = np.nanmean(prop_coef[myrm_file][focal_ant])\n"
     ]
    },
    {
     "name": "stdout",
     "output_type": "stream",
     "text": [
      "s55_DEHa\n"
     ]
    },
    {
     "name": "stderr",
     "output_type": "stream",
     "text": [
      "/home/eg15396/miniconda3/envs/fort-env/lib/python3.8/site-packages/scipy/optimize/minpack.py:833: OptimizeWarning: Covariance of the parameters could not be estimated\n",
      "  warnings.warn('Covariance of the parameters could not be estimated',\n",
      "/tmp/ipykernel_541/625428848.py:10: RuntimeWarning: overflow encountered in exp\n",
      "  return m * np.exp(t * (x - t0))\n",
      "/tmp/ipykernel_541/625428848.py:48: RuntimeWarning: Mean of empty slice\n",
      "  prop_coef[myrm_file][focal_ant] = np.nanmean(prop_coef[myrm_file][focal_ant])\n",
      "/tmp/ipykernel_541/625428848.py:10: RuntimeWarning: overflow encountered in multiply\n",
      "  return m * np.exp(t * (x - t0))\n"
     ]
    },
    {
     "name": "stdout",
     "output_type": "stream",
     "text": [
      "s55_DEHb\n"
     ]
    },
    {
     "name": "stderr",
     "output_type": "stream",
     "text": [
      "/home/eg15396/miniconda3/envs/fort-env/lib/python3.8/site-packages/scipy/optimize/minpack.py:833: OptimizeWarning: Covariance of the parameters could not be estimated\n",
      "  warnings.warn('Covariance of the parameters could not be estimated',\n",
      "/tmp/ipykernel_541/625428848.py:48: RuntimeWarning: Mean of empty slice\n",
      "  prop_coef[myrm_file][focal_ant] = np.nanmean(prop_coef[myrm_file][focal_ant])\n",
      "/tmp/ipykernel_541/625428848.py:10: RuntimeWarning: overflow encountered in exp\n",
      "  return m * np.exp(t * (x - t0))\n",
      "/tmp/ipykernel_541/625428848.py:10: RuntimeWarning: overflow encountered in multiply\n",
      "  return m * np.exp(t * (x - t0))\n"
     ]
    },
    {
     "name": "stdout",
     "output_type": "stream",
     "text": [
      "s56_DENa\n"
     ]
    },
    {
     "name": "stderr",
     "output_type": "stream",
     "text": [
      "/home/eg15396/miniconda3/envs/fort-env/lib/python3.8/site-packages/scipy/optimize/minpack.py:833: OptimizeWarning: Covariance of the parameters could not be estimated\n",
      "  warnings.warn('Covariance of the parameters could not be estimated',\n",
      "/tmp/ipykernel_541/625428848.py:10: RuntimeWarning: overflow encountered in exp\n",
      "  return m * np.exp(t * (x - t0))\n",
      "/tmp/ipykernel_541/625428848.py:10: RuntimeWarning: overflow encountered in multiply\n",
      "  return m * np.exp(t * (x - t0))\n",
      "/tmp/ipykernel_541/625428848.py:48: RuntimeWarning: Mean of empty slice\n",
      "  prop_coef[myrm_file][focal_ant] = np.nanmean(prop_coef[myrm_file][focal_ant])\n"
     ]
    },
    {
     "name": "stdout",
     "output_type": "stream",
     "text": [
      "s56_DENb\n"
     ]
    },
    {
     "name": "stderr",
     "output_type": "stream",
     "text": [
      "/tmp/ipykernel_541/625428848.py:10: RuntimeWarning: overflow encountered in exp\n",
      "  return m * np.exp(t * (x - t0))\n",
      "/tmp/ipykernel_541/625428848.py:48: RuntimeWarning: Mean of empty slice\n",
      "  prop_coef[myrm_file][focal_ant] = np.nanmean(prop_coef[myrm_file][focal_ant])\n",
      "/home/eg15396/miniconda3/envs/fort-env/lib/python3.8/site-packages/scipy/optimize/minpack.py:833: OptimizeWarning: Covariance of the parameters could not be estimated\n",
      "  warnings.warn('Covariance of the parameters could not be estimated',\n"
     ]
    },
    {
     "name": "stdout",
     "output_type": "stream",
     "text": [
      "   rep   exp      mean       std\n",
      "0   13  DEHa  0.003824  0.000827\n",
      "1   13  DEHb  0.004387   0.00082\n",
      "2   14  MODa  0.003576  0.001015\n",
      "3   14  MODb  0.003808  0.000896\n",
      "4   15  DENa    0.0035  0.000946\n",
      "..  ..   ...       ...       ...\n",
      "81  54  MODb  0.003361  0.000891\n",
      "82  55  DEHa  0.004039  0.001037\n",
      "83  55  DEHb  0.004756  0.000809\n",
      "84  56  DENa   0.00278  0.000608\n",
      "85  56  DENb  0.003571  0.000714\n",
      "\n",
      "[86 rows x 4 columns]\n"
     ]
    }
   ],
   "source": [
    "import scipy.optimize as opt\n",
    "with open('data/propagation_trees_data.pkl', 'rb') as f:\n",
    "    prop_tree = pickle.load(f)\n",
    "\n",
    "    \n",
    "\n",
    "prop_coef_df = pd.DataFrame(columns=['rep', 'exp', 'mean', 'std'])\n",
    "prop_coef = {}\n",
    "def monoExp(x, m, t, t0):\n",
    "    return m * np.exp(t * (x - t0))\n",
    "\n",
    "for myrm_file in prop_tree.keys():\n",
    "    print(myrm_file)\n",
    "    prop_coef[myrm_file] = {}\n",
    "\n",
    "    for focal_ant in prop_tree[myrm_file].keys():\n",
    "\n",
    "        prop_coef[myrm_file][focal_ant] = [np.nan] * 4\n",
    "\n",
    "        for tw in range(4):\n",
    "\n",
    "\n",
    "            # percentage influence for exp fit\n",
    "            perc_exp_fit = 20 #%\n",
    "            x_cut = int(len(prop_tree[myrm_file][focal_ant][tw]) * perc_exp_fit / 100)\n",
    "\n",
    "            x = np.array(prop_tree[myrm_file][focal_ant][tw][1:x_cut])\n",
    "\n",
    "            y = np.array(range(len(x))) + 2\n",
    "\n",
    "            if len(x) == x_cut - 1 & len(x) > 2:\n",
    "                x = x - x[0]\n",
    "                # perform the fit\n",
    "                p0 = (1.39, 0.0041, 325) # start with values near those we expect\n",
    "                bounds = ()\n",
    "                params, cv = opt.curve_fit(monoExp, x, y, p0, maxfev=100000)\n",
    "                m, t, t0 = params\n",
    "                # Rsquared error\n",
    "                r2 = np.sum([(y[i] - monoExp(x[i], m, t, t0))**2 for i in range(len(x))])\n",
    "                if r2 < x_cut * 3:\n",
    "                    prop_coef[myrm_file][focal_ant][tw] = t\n",
    "        #             plt.plot(x/(6*60), y, '.')\n",
    "        #             plt.plot(x[:-1]/(6*60), monoExp(x, m, t, t0)[:-1], '--', label=\"fitted\")\n",
    "        #             plt.title('ant:'+ str(focal_ant) + ', exp_rate: {:f} \\n square_error: {:f}'.format(t, r2))\n",
    "        #             plt.xlabel('time (min)')\n",
    "        #             plt.ylabel('size propagation tree (ants)')\n",
    "\n",
    "        prop_coef[myrm_file][focal_ant] = np.nanmean(prop_coef[myrm_file][focal_ant])\n",
    "    myrm_dict = {}        \n",
    "    myrm_dict['rep'] = int(myrm_file[1:3])\n",
    "    myrm_dict['exp'] = myrm_file[4:8]\n",
    "    myrm_dict['mean'] = np.nanmean(list(prop_coef[myrm_file].values()))\n",
    "    myrm_dict['std'] = np.nanstd(list(prop_coef[myrm_file].values()))\n",
    "   \n",
    "    prop_coef_df = pd.concat([prop_coef_df, pd.DataFrame(myrm_dict, index=[0])], ignore_index=True)\n",
    "print(prop_coef_df)\n",
    "\n"
   ]
  },
  {
   "cell_type": "code",
   "execution_count": 29,
   "id": "7c674f3f",
   "metadata": {},
   "outputs": [
    {
     "name": "stderr",
     "output_type": "stream",
     "text": [
      "R[write to console]: boundary (singular) fit: see ?isSingular\n",
      "\n"
     ]
    }
   ],
   "source": [
    "reps_discarded = [20,41]\n",
    "plot_fld_path = 'plots/prop_tree_analysis/'\n",
    "\n",
    "\n",
    "for exp in ['MOD', 'DIA', 'DEH', 'DEN']:\n",
    "\n",
    "    df_filt = prop_coef_df.loc[(prop_coef_df.exp.isin([exp+'a',exp+'b'])) & (~prop_coef_df.rep.isin(reps_discarded))]\n",
    "    df_filt = df_filt.sort_values(['rep'])\n",
    "\n",
    "    # Export dataframe for stats\n",
    "    df_filt.to_csv('NTM_df_stats.csv')\n",
    "\n",
    "\n",
    "    # ============ STATISTICS ============\n",
    "    %R -o pv_adj pv_adj <- stats_R()\n",
    "    prop_list = ['mean', 'std']\n",
    "\n",
    "\n",
    "    # ============= PLOTTING =============\n",
    "\n",
    "    pv_dict = {prop_list[i]: pv_adj[i] for i in range(len(pv_adj))}\n",
    "    pv_dict\n",
    "    prop_list = list(pv_dict.keys())\n",
    "\n",
    "\n",
    "\n",
    "    # Raw data specific property\n",
    "    fig, axs = plt.subplots(2, len(prop_list), \n",
    "                            gridspec_kw={'height_ratios': [2.5, 1]},\n",
    "                            figsize=(15,10))\n",
    "\n",
    "    effect_dict = {}\n",
    "    for idx_p, p in enumerate(prop_list):\n",
    "\n",
    "        # dataframe for a-b comparison\n",
    "        df_ab = pd.DataFrame()\n",
    "        df_ab.insert(0, 'A', list(df_filt[p].iloc[::2]))\n",
    "        df_ab.insert(1, 'B', list(df_filt[p].iloc[1::2]))\n",
    "        df_ab['A-B'] = df_ab.A-df_ab.B\n",
    "\n",
    "\n",
    "        # Plotting\n",
    "        vals, names, xs = [],[],[]\n",
    "        for i, col in enumerate(['A', 'B']):\n",
    "            vals.append(df_ab[col].values)\n",
    "            names.append(col)\n",
    "            xs.append(np.random.normal(i + 1, 0.04, df_ab[col].values.shape[0]))  # adds jitter to the data points - can be adjusted\n",
    "\n",
    "        # box plot\n",
    "        box_plot = axs[0,idx_p].boxplot(vals, labels=names, showmeans=True, widths=0.6)\n",
    "\n",
    "        # scatter plot\n",
    "        for x, val in zip(xs, vals):\n",
    "            axs[0, idx_p].scatter(x, val, alpha=0.4)\n",
    "\n",
    "        # step_line plot\n",
    "        for idx_step_line in range(len(df_ab)):\n",
    "            axs[0, idx_p].plot([1, 2], [df_ab.A.iloc[idx_step_line], df_ab.B.iloc[idx_step_line]], alpha=0.1,\n",
    "                               color = 'r' if df_ab['A-B'].iloc[idx_step_line]<0 else 'b')\n",
    "\n",
    "        means = df_ab.mean()\n",
    "        stds =  df_ab.std()\n",
    "        axs[0, idx_p].set_title(p)\n",
    "\n",
    "        # statistical annotation\n",
    "\n",
    "        if pv_dict[p]<=0.05:\n",
    "            stat_sign = '*' + int(pv_dict[p]<=0.01)*'*' + int(pv_dict[p]<=0.001)*'*' + int(pv_dict[p]<=0.0001)*'*'\n",
    "            x1, x2 = 1, 2   # columns 'Sat' and 'Sun' (first column: 0, see plt.xticks())\n",
    "            mm =np.max(df_ab.max())\n",
    "            y, h, col = 1.01*mm, 0.005*mm, 'k'\n",
    "            axs[0, idx_p].plot([x1, x1, x2, x2], [y, y+h, y+h, y], lw=1.5, c=col)\n",
    "            axs[0, idx_p].text((x1+x2)*.5, y+h, stat_sign, ha='center', va='bottom', color=col, fontsize=17)\n",
    "\n",
    "        # save effect \n",
    "        effect_dict[p] = df_ab['A-B'].mean() / df_ab['A-B'].std()\n",
    "\n",
    "        # Histogram of difference\n",
    "        axs[1, idx_p].hist(df_ab['A-B'],alpha=0.4, color = 'gray')\n",
    "        axs[1, idx_p].scatter(df_ab['A-B'], abs(np.random.normal(0, 1, df_ab['A-B'].values.shape[0])), color = 'gray', alpha = 0.5)\n",
    "        axs[1, idx_p].set_xlim([-1.1*np.max(abs(df_ab['A-B'])), 1.1*np.max(abs(df_ab['A-B']))])\n",
    "        axs[1, idx_p].plot([df_ab['A-B'].mean(), df_ab['A-B'].mean()], [0, axs[1, idx_p].get_ylim()[1]], color='r', alpha = 0.3)\n",
    "        plt.tight_layout()\n",
    "\n",
    "\n",
    "\n",
    "    title = 'Propagation tree analysis - exp: ' + exp \n",
    "    file_name = 'dist_comp_exp_' + exp\n",
    "\n",
    "    fig = plt.suptitle(title, fontweight=\"bold\")\n",
    "    plt.tight_layout()\n",
    "    plt.savefig(plot_fld_path + file_name + '.png', facecolor='white', transparent=False)\n",
    "    plt.close()\n"
   ]
  },
  {
   "cell_type": "code",
   "execution_count": 27,
   "id": "391b038f",
   "metadata": {},
   "outputs": [
    {
     "data": {
      "text/plain": [
       "{'mean': 0.4320247473788482, 'std': 0.4320247473788482}"
      ]
     },
     "execution_count": 27,
     "metadata": {},
     "output_type": "execute_result"
    }
   ],
   "source": [
    "pv_dict"
   ]
  },
  {
   "cell_type": "code",
   "execution_count": 97,
   "id": "6363babf",
   "metadata": {},
   "outputs": [
    {
     "data": {
      "text/plain": [
       "<AxesSubplot:ylabel='Count'>"
      ]
     },
     "execution_count": 97,
     "metadata": {},
     "output_type": "execute_result"
    },
    {
     "data": {
      "image/png": "[encoded data removed]",
      "text/plain": [
       "<Figure size 1080x648 with 1 Axes>"
      ]
     },
     "metadata": {
      "needs_background": "light"
     },
     "output_type": "display_data"
    }
   ],
   "source": [
    "bins = np.linspace(0.001,0.01,50)\n",
    "\n",
    "myr = 's49_MOD'\n",
    "sns.histplot(prop_coef[myr + 'a'], bins = bins, color = 'r')\n",
    "sns.histplot(prop_coef[myr + 'b'], bins = bins)"
   ]
  }
 ],
 "metadata": {
  "kernelspec": {
   "display_name": "Python 3 (ipykernel)",
   "language": "python",
   "name": "python3"
  },
  "language_info": {
   "codemirror_mode": {
    "name": "ipython",
    "version": 3
   },
   "file_extension": ".py",
   "mimetype": "text/x-python",
   "name": "python",
   "nbconvert_exporter": "python",
   "pygments_lexer": "ipython3",
   "version": "3.8.12"
  }
 },
 "nbformat": 4,
 "nbformat_minor": 5
}
