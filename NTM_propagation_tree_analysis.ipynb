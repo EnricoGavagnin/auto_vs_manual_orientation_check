{
 "cells": [
  {
   "cell_type": "markdown",
   "id": "2225020f",
   "metadata": {},
   "source": [
    "# NTM - propagation tree analysis\n",
    "\n",
    "### Enrico Gavagnin\n",
    "\n",
    "\n",
    "\n",
    "## To Do\n",
    "\n",
    "- exclude from distribution of coefficient all ants that have *at least* one NaN in either nests\n"
   ]
  },
  {
   "cell_type": "code",
   "execution_count": 1,
   "id": "00af7421",
   "metadata": {},
   "outputs": [],
   "source": [
    "import pandas as pd\n",
    "import matplotlib.pyplot as plt\n",
    "import numpy as np\n",
    "import seaborn as sns\n",
    "import matplotlib.pyplot as plt\n",
    "plt.rcParams['figure.figsize'] = [15, 9]\n",
    "import rpy2.robjects as robjects\n",
    "import pickle\n"
   ]
  },
  {
   "cell_type": "markdown",
   "id": "3d64b02b",
   "metadata": {},
   "source": [
    "## Propagation Tree Fit"
   ]
  },
  {
   "cell_type": "code",
   "execution_count": 133,
   "id": "ce20c444",
   "metadata": {},
   "outputs": [
    {
     "name": "stdout",
     "output_type": "stream",
     "text": [
      "s13_DEHa\n"
     ]
    },
    {
     "name": "stderr",
     "output_type": "stream",
     "text": [
      "/Users/eg558/opt/anaconda3/envs/NTM_analysis/lib/python3.8/site-packages/scipy/optimize/_minpack_py.py:833: OptimizeWarning: Covariance of the parameters could not be estimated\n",
      "  warnings.warn('Covariance of the parameters could not be estimated',\n",
      "/var/folders/ck/9rwyl45n1ybckdc_zm28rlgr0000gn/T/ipykernel_10436/482152296.py:48: RuntimeWarning: Mean of empty slice\n",
      "  prop_coef[myrm_file][focal_ant] = np.nanmean(prop_coef[myrm_file][focal_ant])\n",
      "/var/folders/ck/9rwyl45n1ybckdc_zm28rlgr0000gn/T/ipykernel_10436/482152296.py:10: RuntimeWarning: overflow encountered in exp\n",
      "  return m * np.exp(t * (x - t0))\n"
     ]
    },
    {
     "name": "stdout",
     "output_type": "stream",
     "text": [
      "s13_DEHb\n"
     ]
    },
    {
     "name": "stderr",
     "output_type": "stream",
     "text": [
      "/Users/eg558/opt/anaconda3/envs/NTM_analysis/lib/python3.8/site-packages/scipy/optimize/_minpack_py.py:833: OptimizeWarning: Covariance of the parameters could not be estimated\n",
      "  warnings.warn('Covariance of the parameters could not be estimated',\n",
      "/var/folders/ck/9rwyl45n1ybckdc_zm28rlgr0000gn/T/ipykernel_10436/482152296.py:10: RuntimeWarning: overflow encountered in exp\n",
      "  return m * np.exp(t * (x - t0))\n",
      "/var/folders/ck/9rwyl45n1ybckdc_zm28rlgr0000gn/T/ipykernel_10436/482152296.py:48: RuntimeWarning: Mean of empty slice\n",
      "  prop_coef[myrm_file][focal_ant] = np.nanmean(prop_coef[myrm_file][focal_ant])\n"
     ]
    },
    {
     "name": "stdout",
     "output_type": "stream",
     "text": [
      "s14_MODa\n"
     ]
    },
    {
     "name": "stderr",
     "output_type": "stream",
     "text": [
      "/Users/eg558/opt/anaconda3/envs/NTM_analysis/lib/python3.8/site-packages/scipy/optimize/_minpack_py.py:833: OptimizeWarning: Covariance of the parameters could not be estimated\n",
      "  warnings.warn('Covariance of the parameters could not be estimated',\n",
      "/var/folders/ck/9rwyl45n1ybckdc_zm28rlgr0000gn/T/ipykernel_10436/482152296.py:10: RuntimeWarning: overflow encountered in exp\n",
      "  return m * np.exp(t * (x - t0))\n",
      "/var/folders/ck/9rwyl45n1ybckdc_zm28rlgr0000gn/T/ipykernel_10436/482152296.py:48: RuntimeWarning: Mean of empty slice\n",
      "  prop_coef[myrm_file][focal_ant] = np.nanmean(prop_coef[myrm_file][focal_ant])\n"
     ]
    },
    {
     "name": "stdout",
     "output_type": "stream",
     "text": [
      "s14_MODb\n"
     ]
    },
    {
     "name": "stderr",
     "output_type": "stream",
     "text": [
      "/Users/eg558/opt/anaconda3/envs/NTM_analysis/lib/python3.8/site-packages/scipy/optimize/_minpack_py.py:833: OptimizeWarning: Covariance of the parameters could not be estimated\n",
      "  warnings.warn('Covariance of the parameters could not be estimated',\n",
      "/var/folders/ck/9rwyl45n1ybckdc_zm28rlgr0000gn/T/ipykernel_10436/482152296.py:48: RuntimeWarning: Mean of empty slice\n",
      "  prop_coef[myrm_file][focal_ant] = np.nanmean(prop_coef[myrm_file][focal_ant])\n",
      "/var/folders/ck/9rwyl45n1ybckdc_zm28rlgr0000gn/T/ipykernel_10436/482152296.py:10: RuntimeWarning: overflow encountered in exp\n",
      "  return m * np.exp(t * (x - t0))\n"
     ]
    },
    {
     "name": "stdout",
     "output_type": "stream",
     "text": [
      "s15_DENa\n"
     ]
    },
    {
     "name": "stderr",
     "output_type": "stream",
     "text": [
      "/Users/eg558/opt/anaconda3/envs/NTM_analysis/lib/python3.8/site-packages/scipy/optimize/_minpack_py.py:833: OptimizeWarning: Covariance of the parameters could not be estimated\n",
      "  warnings.warn('Covariance of the parameters could not be estimated',\n",
      "/var/folders/ck/9rwyl45n1ybckdc_zm28rlgr0000gn/T/ipykernel_10436/482152296.py:10: RuntimeWarning: overflow encountered in exp\n",
      "  return m * np.exp(t * (x - t0))\n",
      "/var/folders/ck/9rwyl45n1ybckdc_zm28rlgr0000gn/T/ipykernel_10436/482152296.py:48: RuntimeWarning: Mean of empty slice\n",
      "  prop_coef[myrm_file][focal_ant] = np.nanmean(prop_coef[myrm_file][focal_ant])\n",
      "/var/folders/ck/9rwyl45n1ybckdc_zm28rlgr0000gn/T/ipykernel_10436/482152296.py:10: RuntimeWarning: overflow encountered in multiply\n",
      "  return m * np.exp(t * (x - t0))\n"
     ]
    },
    {
     "name": "stdout",
     "output_type": "stream",
     "text": [
      "s15_DENb\n"
     ]
    },
    {
     "name": "stderr",
     "output_type": "stream",
     "text": [
      "/var/folders/ck/9rwyl45n1ybckdc_zm28rlgr0000gn/T/ipykernel_10436/482152296.py:10: RuntimeWarning: overflow encountered in exp\n",
      "  return m * np.exp(t * (x - t0))\n",
      "/Users/eg558/opt/anaconda3/envs/NTM_analysis/lib/python3.8/site-packages/scipy/optimize/_minpack_py.py:833: OptimizeWarning: Covariance of the parameters could not be estimated\n",
      "  warnings.warn('Covariance of the parameters could not be estimated',\n",
      "/var/folders/ck/9rwyl45n1ybckdc_zm28rlgr0000gn/T/ipykernel_10436/482152296.py:48: RuntimeWarning: Mean of empty slice\n",
      "  prop_coef[myrm_file][focal_ant] = np.nanmean(prop_coef[myrm_file][focal_ant])\n"
     ]
    },
    {
     "name": "stdout",
     "output_type": "stream",
     "text": [
      "s16_DIAa\n"
     ]
    },
    {
     "name": "stderr",
     "output_type": "stream",
     "text": [
      "/var/folders/ck/9rwyl45n1ybckdc_zm28rlgr0000gn/T/ipykernel_10436/482152296.py:48: RuntimeWarning: Mean of empty slice\n",
      "  prop_coef[myrm_file][focal_ant] = np.nanmean(prop_coef[myrm_file][focal_ant])\n",
      "/Users/eg558/opt/anaconda3/envs/NTM_analysis/lib/python3.8/site-packages/scipy/optimize/_minpack_py.py:833: OptimizeWarning: Covariance of the parameters could not be estimated\n",
      "  warnings.warn('Covariance of the parameters could not be estimated',\n",
      "/var/folders/ck/9rwyl45n1ybckdc_zm28rlgr0000gn/T/ipykernel_10436/482152296.py:10: RuntimeWarning: overflow encountered in exp\n",
      "  return m * np.exp(t * (x - t0))\n"
     ]
    },
    {
     "name": "stdout",
     "output_type": "stream",
     "text": [
      "s16_DIAb\n"
     ]
    },
    {
     "name": "stderr",
     "output_type": "stream",
     "text": [
      "/Users/eg558/opt/anaconda3/envs/NTM_analysis/lib/python3.8/site-packages/scipy/optimize/_minpack_py.py:833: OptimizeWarning: Covariance of the parameters could not be estimated\n",
      "  warnings.warn('Covariance of the parameters could not be estimated',\n",
      "/var/folders/ck/9rwyl45n1ybckdc_zm28rlgr0000gn/T/ipykernel_10436/482152296.py:10: RuntimeWarning: overflow encountered in exp\n",
      "  return m * np.exp(t * (x - t0))\n",
      "/var/folders/ck/9rwyl45n1ybckdc_zm28rlgr0000gn/T/ipykernel_10436/482152296.py:48: RuntimeWarning: Mean of empty slice\n",
      "  prop_coef[myrm_file][focal_ant] = np.nanmean(prop_coef[myrm_file][focal_ant])\n"
     ]
    },
    {
     "name": "stdout",
     "output_type": "stream",
     "text": [
      "s17_MODa\n"
     ]
    },
    {
     "name": "stderr",
     "output_type": "stream",
     "text": [
      "/Users/eg558/opt/anaconda3/envs/NTM_analysis/lib/python3.8/site-packages/scipy/optimize/_minpack_py.py:833: OptimizeWarning: Covariance of the parameters could not be estimated\n",
      "  warnings.warn('Covariance of the parameters could not be estimated',\n",
      "/var/folders/ck/9rwyl45n1ybckdc_zm28rlgr0000gn/T/ipykernel_10436/482152296.py:48: RuntimeWarning: Mean of empty slice\n",
      "  prop_coef[myrm_file][focal_ant] = np.nanmean(prop_coef[myrm_file][focal_ant])\n",
      "/var/folders/ck/9rwyl45n1ybckdc_zm28rlgr0000gn/T/ipykernel_10436/482152296.py:10: RuntimeWarning: overflow encountered in exp\n",
      "  return m * np.exp(t * (x - t0))\n",
      "/var/folders/ck/9rwyl45n1ybckdc_zm28rlgr0000gn/T/ipykernel_10436/482152296.py:10: RuntimeWarning: overflow encountered in multiply\n",
      "  return m * np.exp(t * (x - t0))\n",
      "/Users/eg558/opt/anaconda3/envs/NTM_analysis/lib/python3.8/site-packages/scipy/optimize/_minpack_py.py:833: OptimizeWarning: Covariance of the parameters could not be estimated\n",
      "  warnings.warn('Covariance of the parameters could not be estimated',\n",
      "/var/folders/ck/9rwyl45n1ybckdc_zm28rlgr0000gn/T/ipykernel_10436/482152296.py:10: RuntimeWarning: overflow encountered in exp\n",
      "  return m * np.exp(t * (x - t0))\n",
      "/var/folders/ck/9rwyl45n1ybckdc_zm28rlgr0000gn/T/ipykernel_10436/482152296.py:10: RuntimeWarning: overflow encountered in multiply\n",
      "  return m * np.exp(t * (x - t0))\n",
      "/var/folders/ck/9rwyl45n1ybckdc_zm28rlgr0000gn/T/ipykernel_10436/482152296.py:48: RuntimeWarning: Mean of empty slice\n",
      "  prop_coef[myrm_file][focal_ant] = np.nanmean(prop_coef[myrm_file][focal_ant])\n"
     ]
    },
    {
     "name": "stdout",
     "output_type": "stream",
     "text": [
      "s17_MODb\n",
      "s18_DENa\n"
     ]
    },
    {
     "name": "stderr",
     "output_type": "stream",
     "text": [
      "/Users/eg558/opt/anaconda3/envs/NTM_analysis/lib/python3.8/site-packages/scipy/optimize/_minpack_py.py:833: OptimizeWarning: Covariance of the parameters could not be estimated\n",
      "  warnings.warn('Covariance of the parameters could not be estimated',\n",
      "/var/folders/ck/9rwyl45n1ybckdc_zm28rlgr0000gn/T/ipykernel_10436/482152296.py:10: RuntimeWarning: overflow encountered in exp\n",
      "  return m * np.exp(t * (x - t0))\n",
      "/var/folders/ck/9rwyl45n1ybckdc_zm28rlgr0000gn/T/ipykernel_10436/482152296.py:48: RuntimeWarning: Mean of empty slice\n",
      "  prop_coef[myrm_file][focal_ant] = np.nanmean(prop_coef[myrm_file][focal_ant])\n",
      "/var/folders/ck/9rwyl45n1ybckdc_zm28rlgr0000gn/T/ipykernel_10436/482152296.py:10: RuntimeWarning: overflow encountered in exp\n",
      "  return m * np.exp(t * (x - t0))\n",
      "/Users/eg558/opt/anaconda3/envs/NTM_analysis/lib/python3.8/site-packages/scipy/optimize/_minpack_py.py:833: OptimizeWarning: Covariance of the parameters could not be estimated\n",
      "  warnings.warn('Covariance of the parameters could not be estimated',\n"
     ]
    },
    {
     "name": "stdout",
     "output_type": "stream",
     "text": [
      "s18_DENb\n"
     ]
    },
    {
     "name": "stderr",
     "output_type": "stream",
     "text": [
      "/var/folders/ck/9rwyl45n1ybckdc_zm28rlgr0000gn/T/ipykernel_10436/482152296.py:10: RuntimeWarning: overflow encountered in multiply\n",
      "  return m * np.exp(t * (x - t0))\n",
      "/var/folders/ck/9rwyl45n1ybckdc_zm28rlgr0000gn/T/ipykernel_10436/482152296.py:48: RuntimeWarning: Mean of empty slice\n",
      "  prop_coef[myrm_file][focal_ant] = np.nanmean(prop_coef[myrm_file][focal_ant])\n"
     ]
    },
    {
     "name": "stdout",
     "output_type": "stream",
     "text": [
      "s19_DIAa\n"
     ]
    },
    {
     "name": "stderr",
     "output_type": "stream",
     "text": [
      "/Users/eg558/opt/anaconda3/envs/NTM_analysis/lib/python3.8/site-packages/scipy/optimize/_minpack_py.py:833: OptimizeWarning: Covariance of the parameters could not be estimated\n",
      "  warnings.warn('Covariance of the parameters could not be estimated',\n",
      "/var/folders/ck/9rwyl45n1ybckdc_zm28rlgr0000gn/T/ipykernel_10436/482152296.py:48: RuntimeWarning: Mean of empty slice\n",
      "  prop_coef[myrm_file][focal_ant] = np.nanmean(prop_coef[myrm_file][focal_ant])\n",
      "/var/folders/ck/9rwyl45n1ybckdc_zm28rlgr0000gn/T/ipykernel_10436/482152296.py:10: RuntimeWarning: overflow encountered in exp\n",
      "  return m * np.exp(t * (x - t0))\n"
     ]
    },
    {
     "name": "stdout",
     "output_type": "stream",
     "text": [
      "s19_DIAb\n"
     ]
    },
    {
     "name": "stderr",
     "output_type": "stream",
     "text": [
      "/Users/eg558/opt/anaconda3/envs/NTM_analysis/lib/python3.8/site-packages/scipy/optimize/_minpack_py.py:833: OptimizeWarning: Covariance of the parameters could not be estimated\n",
      "  warnings.warn('Covariance of the parameters could not be estimated',\n",
      "/var/folders/ck/9rwyl45n1ybckdc_zm28rlgr0000gn/T/ipykernel_10436/482152296.py:10: RuntimeWarning: overflow encountered in exp\n",
      "  return m * np.exp(t * (x - t0))\n",
      "/var/folders/ck/9rwyl45n1ybckdc_zm28rlgr0000gn/T/ipykernel_10436/482152296.py:48: RuntimeWarning: Mean of empty slice\n",
      "  prop_coef[myrm_file][focal_ant] = np.nanmean(prop_coef[myrm_file][focal_ant])\n",
      "/var/folders/ck/9rwyl45n1ybckdc_zm28rlgr0000gn/T/ipykernel_10436/482152296.py:10: RuntimeWarning: overflow encountered in multiply\n",
      "  return m * np.exp(t * (x - t0))\n"
     ]
    },
    {
     "name": "stdout",
     "output_type": "stream",
     "text": [
      "s20_DEHa\n"
     ]
    },
    {
     "name": "stderr",
     "output_type": "stream",
     "text": [
      "/Users/eg558/opt/anaconda3/envs/NTM_analysis/lib/python3.8/site-packages/scipy/optimize/_minpack_py.py:833: OptimizeWarning: Covariance of the parameters could not be estimated\n",
      "  warnings.warn('Covariance of the parameters could not be estimated',\n",
      "/var/folders/ck/9rwyl45n1ybckdc_zm28rlgr0000gn/T/ipykernel_10436/482152296.py:10: RuntimeWarning: overflow encountered in exp\n",
      "  return m * np.exp(t * (x - t0))\n",
      "/var/folders/ck/9rwyl45n1ybckdc_zm28rlgr0000gn/T/ipykernel_10436/482152296.py:48: RuntimeWarning: Mean of empty slice\n",
      "  prop_coef[myrm_file][focal_ant] = np.nanmean(prop_coef[myrm_file][focal_ant])\n",
      "/var/folders/ck/9rwyl45n1ybckdc_zm28rlgr0000gn/T/ipykernel_10436/482152296.py:10: RuntimeWarning: overflow encountered in multiply\n",
      "  return m * np.exp(t * (x - t0))\n",
      "/Users/eg558/opt/anaconda3/envs/NTM_analysis/lib/python3.8/site-packages/scipy/optimize/_minpack_py.py:833: OptimizeWarning: Covariance of the parameters could not be estimated\n",
      "  warnings.warn('Covariance of the parameters could not be estimated',\n",
      "/var/folders/ck/9rwyl45n1ybckdc_zm28rlgr0000gn/T/ipykernel_10436/482152296.py:10: RuntimeWarning: overflow encountered in exp\n",
      "  return m * np.exp(t * (x - t0))\n",
      "/var/folders/ck/9rwyl45n1ybckdc_zm28rlgr0000gn/T/ipykernel_10436/482152296.py:48: RuntimeWarning: Mean of empty slice\n",
      "  prop_coef[myrm_file][focal_ant] = np.nanmean(prop_coef[myrm_file][focal_ant])\n"
     ]
    },
    {
     "name": "stdout",
     "output_type": "stream",
     "text": [
      "s20_DEHb\n",
      "s21_DIAa\n"
     ]
    },
    {
     "name": "stderr",
     "output_type": "stream",
     "text": [
      "/Users/eg558/opt/anaconda3/envs/NTM_analysis/lib/python3.8/site-packages/scipy/optimize/_minpack_py.py:833: OptimizeWarning: Covariance of the parameters could not be estimated\n",
      "  warnings.warn('Covariance of the parameters could not be estimated',\n",
      "/var/folders/ck/9rwyl45n1ybckdc_zm28rlgr0000gn/T/ipykernel_10436/482152296.py:10: RuntimeWarning: overflow encountered in exp\n",
      "  return m * np.exp(t * (x - t0))\n",
      "/var/folders/ck/9rwyl45n1ybckdc_zm28rlgr0000gn/T/ipykernel_10436/482152296.py:48: RuntimeWarning: Mean of empty slice\n",
      "  prop_coef[myrm_file][focal_ant] = np.nanmean(prop_coef[myrm_file][focal_ant])\n"
     ]
    },
    {
     "name": "stdout",
     "output_type": "stream",
     "text": [
      "s21_DIAb\n"
     ]
    },
    {
     "name": "stderr",
     "output_type": "stream",
     "text": [
      "/Users/eg558/opt/anaconda3/envs/NTM_analysis/lib/python3.8/site-packages/scipy/optimize/_minpack_py.py:833: OptimizeWarning: Covariance of the parameters could not be estimated\n",
      "  warnings.warn('Covariance of the parameters could not be estimated',\n",
      "/var/folders/ck/9rwyl45n1ybckdc_zm28rlgr0000gn/T/ipykernel_10436/482152296.py:48: RuntimeWarning: Mean of empty slice\n",
      "  prop_coef[myrm_file][focal_ant] = np.nanmean(prop_coef[myrm_file][focal_ant])\n",
      "/var/folders/ck/9rwyl45n1ybckdc_zm28rlgr0000gn/T/ipykernel_10436/482152296.py:10: RuntimeWarning: overflow encountered in exp\n",
      "  return m * np.exp(t * (x - t0))\n"
     ]
    },
    {
     "name": "stdout",
     "output_type": "stream",
     "text": [
      "s22_MODa\n"
     ]
    },
    {
     "name": "stderr",
     "output_type": "stream",
     "text": [
      "/Users/eg558/opt/anaconda3/envs/NTM_analysis/lib/python3.8/site-packages/scipy/optimize/_minpack_py.py:833: OptimizeWarning: Covariance of the parameters could not be estimated\n",
      "  warnings.warn('Covariance of the parameters could not be estimated',\n",
      "/var/folders/ck/9rwyl45n1ybckdc_zm28rlgr0000gn/T/ipykernel_10436/482152296.py:10: RuntimeWarning: overflow encountered in exp\n",
      "  return m * np.exp(t * (x - t0))\n",
      "/var/folders/ck/9rwyl45n1ybckdc_zm28rlgr0000gn/T/ipykernel_10436/482152296.py:48: RuntimeWarning: Mean of empty slice\n",
      "  prop_coef[myrm_file][focal_ant] = np.nanmean(prop_coef[myrm_file][focal_ant])\n"
     ]
    },
    {
     "name": "stdout",
     "output_type": "stream",
     "text": [
      "s22_MODb\n"
     ]
    },
    {
     "name": "stderr",
     "output_type": "stream",
     "text": [
      "/Users/eg558/opt/anaconda3/envs/NTM_analysis/lib/python3.8/site-packages/scipy/optimize/_minpack_py.py:833: OptimizeWarning: Covariance of the parameters could not be estimated\n",
      "  warnings.warn('Covariance of the parameters could not be estimated',\n",
      "/var/folders/ck/9rwyl45n1ybckdc_zm28rlgr0000gn/T/ipykernel_10436/482152296.py:48: RuntimeWarning: Mean of empty slice\n",
      "  prop_coef[myrm_file][focal_ant] = np.nanmean(prop_coef[myrm_file][focal_ant])\n",
      "/var/folders/ck/9rwyl45n1ybckdc_zm28rlgr0000gn/T/ipykernel_10436/482152296.py:10: RuntimeWarning: overflow encountered in exp\n",
      "  return m * np.exp(t * (x - t0))\n"
     ]
    },
    {
     "name": "stdout",
     "output_type": "stream",
     "text": [
      "s23_DENa\n"
     ]
    },
    {
     "name": "stderr",
     "output_type": "stream",
     "text": [
      "/var/folders/ck/9rwyl45n1ybckdc_zm28rlgr0000gn/T/ipykernel_10436/482152296.py:10: RuntimeWarning: overflow encountered in exp\n",
      "  return m * np.exp(t * (x - t0))\n",
      "/Users/eg558/opt/anaconda3/envs/NTM_analysis/lib/python3.8/site-packages/scipy/optimize/_minpack_py.py:833: OptimizeWarning: Covariance of the parameters could not be estimated\n",
      "  warnings.warn('Covariance of the parameters could not be estimated',\n",
      "/var/folders/ck/9rwyl45n1ybckdc_zm28rlgr0000gn/T/ipykernel_10436/482152296.py:48: RuntimeWarning: Mean of empty slice\n",
      "  prop_coef[myrm_file][focal_ant] = np.nanmean(prop_coef[myrm_file][focal_ant])\n",
      "/var/folders/ck/9rwyl45n1ybckdc_zm28rlgr0000gn/T/ipykernel_10436/482152296.py:10: RuntimeWarning: overflow encountered in multiply\n",
      "  return m * np.exp(t * (x - t0))\n"
     ]
    },
    {
     "name": "stdout",
     "output_type": "stream",
     "text": [
      "s23_DENb\n"
     ]
    },
    {
     "name": "stderr",
     "output_type": "stream",
     "text": [
      "/Users/eg558/opt/anaconda3/envs/NTM_analysis/lib/python3.8/site-packages/scipy/optimize/_minpack_py.py:833: OptimizeWarning: Covariance of the parameters could not be estimated\n",
      "  warnings.warn('Covariance of the parameters could not be estimated',\n",
      "/var/folders/ck/9rwyl45n1ybckdc_zm28rlgr0000gn/T/ipykernel_10436/482152296.py:48: RuntimeWarning: Mean of empty slice\n",
      "  prop_coef[myrm_file][focal_ant] = np.nanmean(prop_coef[myrm_file][focal_ant])\n",
      "/var/folders/ck/9rwyl45n1ybckdc_zm28rlgr0000gn/T/ipykernel_10436/482152296.py:10: RuntimeWarning: overflow encountered in exp\n",
      "  return m * np.exp(t * (x - t0))\n"
     ]
    },
    {
     "name": "stdout",
     "output_type": "stream",
     "text": [
      "s24_DEHa\n"
     ]
    },
    {
     "name": "stderr",
     "output_type": "stream",
     "text": [
      "/Users/eg558/opt/anaconda3/envs/NTM_analysis/lib/python3.8/site-packages/scipy/optimize/_minpack_py.py:833: OptimizeWarning: Covariance of the parameters could not be estimated\n",
      "  warnings.warn('Covariance of the parameters could not be estimated',\n",
      "/var/folders/ck/9rwyl45n1ybckdc_zm28rlgr0000gn/T/ipykernel_10436/482152296.py:10: RuntimeWarning: overflow encountered in exp\n",
      "  return m * np.exp(t * (x - t0))\n",
      "/var/folders/ck/9rwyl45n1ybckdc_zm28rlgr0000gn/T/ipykernel_10436/482152296.py:48: RuntimeWarning: Mean of empty slice\n",
      "  prop_coef[myrm_file][focal_ant] = np.nanmean(prop_coef[myrm_file][focal_ant])\n",
      "/var/folders/ck/9rwyl45n1ybckdc_zm28rlgr0000gn/T/ipykernel_10436/482152296.py:10: RuntimeWarning: overflow encountered in multiply\n",
      "  return m * np.exp(t * (x - t0))\n"
     ]
    },
    {
     "name": "stdout",
     "output_type": "stream",
     "text": [
      "s24_DEHb\n"
     ]
    },
    {
     "name": "stderr",
     "output_type": "stream",
     "text": [
      "/Users/eg558/opt/anaconda3/envs/NTM_analysis/lib/python3.8/site-packages/scipy/optimize/_minpack_py.py:833: OptimizeWarning: Covariance of the parameters could not be estimated\n",
      "  warnings.warn('Covariance of the parameters could not be estimated',\n",
      "/var/folders/ck/9rwyl45n1ybckdc_zm28rlgr0000gn/T/ipykernel_10436/482152296.py:10: RuntimeWarning: overflow encountered in exp\n",
      "  return m * np.exp(t * (x - t0))\n",
      "/var/folders/ck/9rwyl45n1ybckdc_zm28rlgr0000gn/T/ipykernel_10436/482152296.py:48: RuntimeWarning: Mean of empty slice\n",
      "  prop_coef[myrm_file][focal_ant] = np.nanmean(prop_coef[myrm_file][focal_ant])\n",
      "/var/folders/ck/9rwyl45n1ybckdc_zm28rlgr0000gn/T/ipykernel_10436/482152296.py:10: RuntimeWarning: overflow encountered in multiply\n",
      "  return m * np.exp(t * (x - t0))\n"
     ]
    },
    {
     "name": "stdout",
     "output_type": "stream",
     "text": [
      "s25_DEHa\n"
     ]
    },
    {
     "name": "stderr",
     "output_type": "stream",
     "text": [
      "/Users/eg558/opt/anaconda3/envs/NTM_analysis/lib/python3.8/site-packages/scipy/optimize/_minpack_py.py:833: OptimizeWarning: Covariance of the parameters could not be estimated\n",
      "  warnings.warn('Covariance of the parameters could not be estimated',\n",
      "/var/folders/ck/9rwyl45n1ybckdc_zm28rlgr0000gn/T/ipykernel_10436/482152296.py:10: RuntimeWarning: overflow encountered in exp\n",
      "  return m * np.exp(t * (x - t0))\n",
      "/var/folders/ck/9rwyl45n1ybckdc_zm28rlgr0000gn/T/ipykernel_10436/482152296.py:48: RuntimeWarning: Mean of empty slice\n",
      "  prop_coef[myrm_file][focal_ant] = np.nanmean(prop_coef[myrm_file][focal_ant])\n",
      "/var/folders/ck/9rwyl45n1ybckdc_zm28rlgr0000gn/T/ipykernel_10436/482152296.py:10: RuntimeWarning: overflow encountered in multiply\n",
      "  return m * np.exp(t * (x - t0))\n"
     ]
    },
    {
     "name": "stdout",
     "output_type": "stream",
     "text": [
      "s25_DEHb\n"
     ]
    },
    {
     "name": "stderr",
     "output_type": "stream",
     "text": [
      "/var/folders/ck/9rwyl45n1ybckdc_zm28rlgr0000gn/T/ipykernel_10436/482152296.py:48: RuntimeWarning: Mean of empty slice\n",
      "  prop_coef[myrm_file][focal_ant] = np.nanmean(prop_coef[myrm_file][focal_ant])\n",
      "/var/folders/ck/9rwyl45n1ybckdc_zm28rlgr0000gn/T/ipykernel_10436/482152296.py:10: RuntimeWarning: overflow encountered in exp\n",
      "  return m * np.exp(t * (x - t0))\n",
      "/Users/eg558/opt/anaconda3/envs/NTM_analysis/lib/python3.8/site-packages/scipy/optimize/_minpack_py.py:833: OptimizeWarning: Covariance of the parameters could not be estimated\n",
      "  warnings.warn('Covariance of the parameters could not be estimated',\n",
      "/var/folders/ck/9rwyl45n1ybckdc_zm28rlgr0000gn/T/ipykernel_10436/482152296.py:10: RuntimeWarning: overflow encountered in multiply\n",
      "  return m * np.exp(t * (x - t0))\n"
     ]
    },
    {
     "name": "stdout",
     "output_type": "stream",
     "text": [
      "s26_DENa\n"
     ]
    },
    {
     "name": "stderr",
     "output_type": "stream",
     "text": [
      "/var/folders/ck/9rwyl45n1ybckdc_zm28rlgr0000gn/T/ipykernel_10436/482152296.py:48: RuntimeWarning: Mean of empty slice\n",
      "  prop_coef[myrm_file][focal_ant] = np.nanmean(prop_coef[myrm_file][focal_ant])\n",
      "/var/folders/ck/9rwyl45n1ybckdc_zm28rlgr0000gn/T/ipykernel_10436/482152296.py:10: RuntimeWarning: overflow encountered in exp\n",
      "  return m * np.exp(t * (x - t0))\n",
      "/Users/eg558/opt/anaconda3/envs/NTM_analysis/lib/python3.8/site-packages/scipy/optimize/_minpack_py.py:833: OptimizeWarning: Covariance of the parameters could not be estimated\n",
      "  warnings.warn('Covariance of the parameters could not be estimated',\n",
      "/var/folders/ck/9rwyl45n1ybckdc_zm28rlgr0000gn/T/ipykernel_10436/482152296.py:10: RuntimeWarning: overflow encountered in multiply\n",
      "  return m * np.exp(t * (x - t0))\n"
     ]
    },
    {
     "name": "stdout",
     "output_type": "stream",
     "text": [
      "s26_DENb\n"
     ]
    },
    {
     "name": "stderr",
     "output_type": "stream",
     "text": [
      "/Users/eg558/opt/anaconda3/envs/NTM_analysis/lib/python3.8/site-packages/scipy/optimize/_minpack_py.py:833: OptimizeWarning: Covariance of the parameters could not be estimated\n",
      "  warnings.warn('Covariance of the parameters could not be estimated',\n",
      "/var/folders/ck/9rwyl45n1ybckdc_zm28rlgr0000gn/T/ipykernel_10436/482152296.py:10: RuntimeWarning: overflow encountered in exp\n",
      "  return m * np.exp(t * (x - t0))\n",
      "/var/folders/ck/9rwyl45n1ybckdc_zm28rlgr0000gn/T/ipykernel_10436/482152296.py:48: RuntimeWarning: Mean of empty slice\n",
      "  prop_coef[myrm_file][focal_ant] = np.nanmean(prop_coef[myrm_file][focal_ant])\n"
     ]
    },
    {
     "name": "stdout",
     "output_type": "stream",
     "text": [
      "s27_MODa\n"
     ]
    },
    {
     "name": "stderr",
     "output_type": "stream",
     "text": [
      "/Users/eg558/opt/anaconda3/envs/NTM_analysis/lib/python3.8/site-packages/scipy/optimize/_minpack_py.py:833: OptimizeWarning: Covariance of the parameters could not be estimated\n",
      "  warnings.warn('Covariance of the parameters could not be estimated',\n",
      "/var/folders/ck/9rwyl45n1ybckdc_zm28rlgr0000gn/T/ipykernel_10436/482152296.py:10: RuntimeWarning: overflow encountered in exp\n",
      "  return m * np.exp(t * (x - t0))\n",
      "/var/folders/ck/9rwyl45n1ybckdc_zm28rlgr0000gn/T/ipykernel_10436/482152296.py:48: RuntimeWarning: Mean of empty slice\n",
      "  prop_coef[myrm_file][focal_ant] = np.nanmean(prop_coef[myrm_file][focal_ant])\n",
      "/var/folders/ck/9rwyl45n1ybckdc_zm28rlgr0000gn/T/ipykernel_10436/482152296.py:10: RuntimeWarning: overflow encountered in multiply\n",
      "  return m * np.exp(t * (x - t0))\n"
     ]
    },
    {
     "name": "stdout",
     "output_type": "stream",
     "text": [
      "s27_MODb\n"
     ]
    },
    {
     "name": "stderr",
     "output_type": "stream",
     "text": [
      "/Users/eg558/opt/anaconda3/envs/NTM_analysis/lib/python3.8/site-packages/scipy/optimize/_minpack_py.py:833: OptimizeWarning: Covariance of the parameters could not be estimated\n",
      "  warnings.warn('Covariance of the parameters could not be estimated',\n",
      "/var/folders/ck/9rwyl45n1ybckdc_zm28rlgr0000gn/T/ipykernel_10436/482152296.py:10: RuntimeWarning: overflow encountered in exp\n",
      "  return m * np.exp(t * (x - t0))\n",
      "/var/folders/ck/9rwyl45n1ybckdc_zm28rlgr0000gn/T/ipykernel_10436/482152296.py:48: RuntimeWarning: Mean of empty slice\n",
      "  prop_coef[myrm_file][focal_ant] = np.nanmean(prop_coef[myrm_file][focal_ant])\n",
      "/var/folders/ck/9rwyl45n1ybckdc_zm28rlgr0000gn/T/ipykernel_10436/482152296.py:10: RuntimeWarning: overflow encountered in multiply\n",
      "  return m * np.exp(t * (x - t0))\n"
     ]
    },
    {
     "name": "stdout",
     "output_type": "stream",
     "text": [
      "s28_DIAa\n"
     ]
    },
    {
     "name": "stderr",
     "output_type": "stream",
     "text": [
      "/Users/eg558/opt/anaconda3/envs/NTM_analysis/lib/python3.8/site-packages/scipy/optimize/_minpack_py.py:833: OptimizeWarning: Covariance of the parameters could not be estimated\n",
      "  warnings.warn('Covariance of the parameters could not be estimated',\n",
      "/var/folders/ck/9rwyl45n1ybckdc_zm28rlgr0000gn/T/ipykernel_10436/482152296.py:10: RuntimeWarning: overflow encountered in exp\n",
      "  return m * np.exp(t * (x - t0))\n",
      "/var/folders/ck/9rwyl45n1ybckdc_zm28rlgr0000gn/T/ipykernel_10436/482152296.py:48: RuntimeWarning: Mean of empty slice\n",
      "  prop_coef[myrm_file][focal_ant] = np.nanmean(prop_coef[myrm_file][focal_ant])\n",
      "/var/folders/ck/9rwyl45n1ybckdc_zm28rlgr0000gn/T/ipykernel_10436/482152296.py:10: RuntimeWarning: overflow encountered in multiply\n",
      "  return m * np.exp(t * (x - t0))\n"
     ]
    },
    {
     "name": "stdout",
     "output_type": "stream",
     "text": [
      "s28_DIAb\n"
     ]
    },
    {
     "name": "stderr",
     "output_type": "stream",
     "text": [
      "/Users/eg558/opt/anaconda3/envs/NTM_analysis/lib/python3.8/site-packages/scipy/optimize/_minpack_py.py:833: OptimizeWarning: Covariance of the parameters could not be estimated\n",
      "  warnings.warn('Covariance of the parameters could not be estimated',\n",
      "/var/folders/ck/9rwyl45n1ybckdc_zm28rlgr0000gn/T/ipykernel_10436/482152296.py:10: RuntimeWarning: overflow encountered in exp\n",
      "  return m * np.exp(t * (x - t0))\n",
      "/var/folders/ck/9rwyl45n1ybckdc_zm28rlgr0000gn/T/ipykernel_10436/482152296.py:10: RuntimeWarning: overflow encountered in multiply\n",
      "  return m * np.exp(t * (x - t0))\n",
      "/var/folders/ck/9rwyl45n1ybckdc_zm28rlgr0000gn/T/ipykernel_10436/482152296.py:48: RuntimeWarning: Mean of empty slice\n",
      "  prop_coef[myrm_file][focal_ant] = np.nanmean(prop_coef[myrm_file][focal_ant])\n"
     ]
    },
    {
     "name": "stdout",
     "output_type": "stream",
     "text": [
      "s29_DENa\n"
     ]
    },
    {
     "name": "stderr",
     "output_type": "stream",
     "text": [
      "/Users/eg558/opt/anaconda3/envs/NTM_analysis/lib/python3.8/site-packages/scipy/optimize/_minpack_py.py:833: OptimizeWarning: Covariance of the parameters could not be estimated\n",
      "  warnings.warn('Covariance of the parameters could not be estimated',\n",
      "/var/folders/ck/9rwyl45n1ybckdc_zm28rlgr0000gn/T/ipykernel_10436/482152296.py:10: RuntimeWarning: overflow encountered in exp\n",
      "  return m * np.exp(t * (x - t0))\n",
      "/var/folders/ck/9rwyl45n1ybckdc_zm28rlgr0000gn/T/ipykernel_10436/482152296.py:48: RuntimeWarning: Mean of empty slice\n",
      "  prop_coef[myrm_file][focal_ant] = np.nanmean(prop_coef[myrm_file][focal_ant])\n",
      "/var/folders/ck/9rwyl45n1ybckdc_zm28rlgr0000gn/T/ipykernel_10436/482152296.py:10: RuntimeWarning: overflow encountered in multiply\n",
      "  return m * np.exp(t * (x - t0))\n"
     ]
    },
    {
     "name": "stdout",
     "output_type": "stream",
     "text": [
      "s29_DENb\n"
     ]
    },
    {
     "name": "stderr",
     "output_type": "stream",
     "text": [
      "/Users/eg558/opt/anaconda3/envs/NTM_analysis/lib/python3.8/site-packages/scipy/optimize/_minpack_py.py:833: OptimizeWarning: Covariance of the parameters could not be estimated\n",
      "  warnings.warn('Covariance of the parameters could not be estimated',\n",
      "/var/folders/ck/9rwyl45n1ybckdc_zm28rlgr0000gn/T/ipykernel_10436/482152296.py:10: RuntimeWarning: overflow encountered in exp\n",
      "  return m * np.exp(t * (x - t0))\n",
      "/var/folders/ck/9rwyl45n1ybckdc_zm28rlgr0000gn/T/ipykernel_10436/482152296.py:10: RuntimeWarning: overflow encountered in multiply\n",
      "  return m * np.exp(t * (x - t0))\n"
     ]
    },
    {
     "name": "stdout",
     "output_type": "stream",
     "text": [
      "s30_MODa\n"
     ]
    },
    {
     "name": "stderr",
     "output_type": "stream",
     "text": [
      "/var/folders/ck/9rwyl45n1ybckdc_zm28rlgr0000gn/T/ipykernel_10436/482152296.py:48: RuntimeWarning: Mean of empty slice\n",
      "  prop_coef[myrm_file][focal_ant] = np.nanmean(prop_coef[myrm_file][focal_ant])\n",
      "/Users/eg558/opt/anaconda3/envs/NTM_analysis/lib/python3.8/site-packages/scipy/optimize/_minpack_py.py:833: OptimizeWarning: Covariance of the parameters could not be estimated\n",
      "  warnings.warn('Covariance of the parameters could not be estimated',\n",
      "/var/folders/ck/9rwyl45n1ybckdc_zm28rlgr0000gn/T/ipykernel_10436/482152296.py:48: RuntimeWarning: Mean of empty slice\n",
      "  prop_coef[myrm_file][focal_ant] = np.nanmean(prop_coef[myrm_file][focal_ant])\n",
      "/var/folders/ck/9rwyl45n1ybckdc_zm28rlgr0000gn/T/ipykernel_10436/482152296.py:10: RuntimeWarning: overflow encountered in exp\n",
      "  return m * np.exp(t * (x - t0))\n"
     ]
    },
    {
     "name": "stdout",
     "output_type": "stream",
     "text": [
      "s30_MODb\n"
     ]
    },
    {
     "name": "stderr",
     "output_type": "stream",
     "text": [
      "/Users/eg558/opt/anaconda3/envs/NTM_analysis/lib/python3.8/site-packages/scipy/optimize/_minpack_py.py:833: OptimizeWarning: Covariance of the parameters could not be estimated\n",
      "  warnings.warn('Covariance of the parameters could not be estimated',\n",
      "/var/folders/ck/9rwyl45n1ybckdc_zm28rlgr0000gn/T/ipykernel_10436/482152296.py:48: RuntimeWarning: Mean of empty slice\n",
      "  prop_coef[myrm_file][focal_ant] = np.nanmean(prop_coef[myrm_file][focal_ant])\n",
      "/var/folders/ck/9rwyl45n1ybckdc_zm28rlgr0000gn/T/ipykernel_10436/482152296.py:10: RuntimeWarning: overflow encountered in exp\n",
      "  return m * np.exp(t * (x - t0))\n"
     ]
    },
    {
     "name": "stdout",
     "output_type": "stream",
     "text": [
      "s31_DEHa\n"
     ]
    },
    {
     "name": "stderr",
     "output_type": "stream",
     "text": [
      "/Users/eg558/opt/anaconda3/envs/NTM_analysis/lib/python3.8/site-packages/scipy/optimize/_minpack_py.py:833: OptimizeWarning: Covariance of the parameters could not be estimated\n",
      "  warnings.warn('Covariance of the parameters could not be estimated',\n",
      "/var/folders/ck/9rwyl45n1ybckdc_zm28rlgr0000gn/T/ipykernel_10436/482152296.py:48: RuntimeWarning: Mean of empty slice\n",
      "  prop_coef[myrm_file][focal_ant] = np.nanmean(prop_coef[myrm_file][focal_ant])\n",
      "/var/folders/ck/9rwyl45n1ybckdc_zm28rlgr0000gn/T/ipykernel_10436/482152296.py:10: RuntimeWarning: overflow encountered in exp\n",
      "  return m * np.exp(t * (x - t0))\n"
     ]
    },
    {
     "name": "stdout",
     "output_type": "stream",
     "text": [
      "s31_DEHb\n"
     ]
    },
    {
     "name": "stderr",
     "output_type": "stream",
     "text": [
      "/Users/eg558/opt/anaconda3/envs/NTM_analysis/lib/python3.8/site-packages/scipy/optimize/_minpack_py.py:833: OptimizeWarning: Covariance of the parameters could not be estimated\n",
      "  warnings.warn('Covariance of the parameters could not be estimated',\n",
      "/var/folders/ck/9rwyl45n1ybckdc_zm28rlgr0000gn/T/ipykernel_10436/482152296.py:10: RuntimeWarning: overflow encountered in exp\n",
      "  return m * np.exp(t * (x - t0))\n",
      "/var/folders/ck/9rwyl45n1ybckdc_zm28rlgr0000gn/T/ipykernel_10436/482152296.py:48: RuntimeWarning: Mean of empty slice\n",
      "  prop_coef[myrm_file][focal_ant] = np.nanmean(prop_coef[myrm_file][focal_ant])\n"
     ]
    },
    {
     "name": "stdout",
     "output_type": "stream",
     "text": [
      "s32_DIAa\n"
     ]
    },
    {
     "name": "stderr",
     "output_type": "stream",
     "text": [
      "/Users/eg558/opt/anaconda3/envs/NTM_analysis/lib/python3.8/site-packages/scipy/optimize/_minpack_py.py:833: OptimizeWarning: Covariance of the parameters could not be estimated\n",
      "  warnings.warn('Covariance of the parameters could not be estimated',\n",
      "/var/folders/ck/9rwyl45n1ybckdc_zm28rlgr0000gn/T/ipykernel_10436/482152296.py:10: RuntimeWarning: overflow encountered in exp\n",
      "  return m * np.exp(t * (x - t0))\n",
      "/var/folders/ck/9rwyl45n1ybckdc_zm28rlgr0000gn/T/ipykernel_10436/482152296.py:48: RuntimeWarning: Mean of empty slice\n",
      "  prop_coef[myrm_file][focal_ant] = np.nanmean(prop_coef[myrm_file][focal_ant])\n"
     ]
    },
    {
     "name": "stdout",
     "output_type": "stream",
     "text": [
      "s32_DIAb\n"
     ]
    },
    {
     "name": "stderr",
     "output_type": "stream",
     "text": [
      "/Users/eg558/opt/anaconda3/envs/NTM_analysis/lib/python3.8/site-packages/scipy/optimize/_minpack_py.py:833: OptimizeWarning: Covariance of the parameters could not be estimated\n",
      "  warnings.warn('Covariance of the parameters could not be estimated',\n",
      "/var/folders/ck/9rwyl45n1ybckdc_zm28rlgr0000gn/T/ipykernel_10436/482152296.py:48: RuntimeWarning: Mean of empty slice\n",
      "  prop_coef[myrm_file][focal_ant] = np.nanmean(prop_coef[myrm_file][focal_ant])\n",
      "/var/folders/ck/9rwyl45n1ybckdc_zm28rlgr0000gn/T/ipykernel_10436/482152296.py:10: RuntimeWarning: overflow encountered in exp\n",
      "  return m * np.exp(t * (x - t0))\n"
     ]
    },
    {
     "name": "stdout",
     "output_type": "stream",
     "text": [
      "s33_MODa\n"
     ]
    },
    {
     "name": "stderr",
     "output_type": "stream",
     "text": [
      "/var/folders/ck/9rwyl45n1ybckdc_zm28rlgr0000gn/T/ipykernel_10436/482152296.py:48: RuntimeWarning: Mean of empty slice\n",
      "  prop_coef[myrm_file][focal_ant] = np.nanmean(prop_coef[myrm_file][focal_ant])\n",
      "/Users/eg558/opt/anaconda3/envs/NTM_analysis/lib/python3.8/site-packages/scipy/optimize/_minpack_py.py:833: OptimizeWarning: Covariance of the parameters could not be estimated\n",
      "  warnings.warn('Covariance of the parameters could not be estimated',\n",
      "/var/folders/ck/9rwyl45n1ybckdc_zm28rlgr0000gn/T/ipykernel_10436/482152296.py:10: RuntimeWarning: overflow encountered in exp\n",
      "  return m * np.exp(t * (x - t0))\n"
     ]
    },
    {
     "name": "stdout",
     "output_type": "stream",
     "text": [
      "s33_MODb\n"
     ]
    },
    {
     "name": "stderr",
     "output_type": "stream",
     "text": [
      "/var/folders/ck/9rwyl45n1ybckdc_zm28rlgr0000gn/T/ipykernel_10436/482152296.py:10: RuntimeWarning: overflow encountered in exp\n",
      "  return m * np.exp(t * (x - t0))\n",
      "/var/folders/ck/9rwyl45n1ybckdc_zm28rlgr0000gn/T/ipykernel_10436/482152296.py:48: RuntimeWarning: Mean of empty slice\n",
      "  prop_coef[myrm_file][focal_ant] = np.nanmean(prop_coef[myrm_file][focal_ant])\n",
      "/Users/eg558/opt/anaconda3/envs/NTM_analysis/lib/python3.8/site-packages/scipy/optimize/_minpack_py.py:833: OptimizeWarning: Covariance of the parameters could not be estimated\n",
      "  warnings.warn('Covariance of the parameters could not be estimated',\n"
     ]
    },
    {
     "name": "stdout",
     "output_type": "stream",
     "text": [
      "s34_DEHa\n"
     ]
    },
    {
     "name": "stderr",
     "output_type": "stream",
     "text": [
      "/Users/eg558/opt/anaconda3/envs/NTM_analysis/lib/python3.8/site-packages/scipy/optimize/_minpack_py.py:833: OptimizeWarning: Covariance of the parameters could not be estimated\n",
      "  warnings.warn('Covariance of the parameters could not be estimated',\n",
      "/var/folders/ck/9rwyl45n1ybckdc_zm28rlgr0000gn/T/ipykernel_10436/482152296.py:10: RuntimeWarning: overflow encountered in exp\n",
      "  return m * np.exp(t * (x - t0))\n",
      "/var/folders/ck/9rwyl45n1ybckdc_zm28rlgr0000gn/T/ipykernel_10436/482152296.py:48: RuntimeWarning: Mean of empty slice\n",
      "  prop_coef[myrm_file][focal_ant] = np.nanmean(prop_coef[myrm_file][focal_ant])\n",
      "/var/folders/ck/9rwyl45n1ybckdc_zm28rlgr0000gn/T/ipykernel_10436/482152296.py:10: RuntimeWarning: overflow encountered in multiply\n",
      "  return m * np.exp(t * (x - t0))\n"
     ]
    },
    {
     "name": "stdout",
     "output_type": "stream",
     "text": [
      "s34_DEHb\n"
     ]
    },
    {
     "name": "stderr",
     "output_type": "stream",
     "text": [
      "/Users/eg558/opt/anaconda3/envs/NTM_analysis/lib/python3.8/site-packages/scipy/optimize/_minpack_py.py:833: OptimizeWarning: Covariance of the parameters could not be estimated\n",
      "  warnings.warn('Covariance of the parameters could not be estimated',\n",
      "/var/folders/ck/9rwyl45n1ybckdc_zm28rlgr0000gn/T/ipykernel_10436/482152296.py:10: RuntimeWarning: overflow encountered in exp\n",
      "  return m * np.exp(t * (x - t0))\n",
      "/var/folders/ck/9rwyl45n1ybckdc_zm28rlgr0000gn/T/ipykernel_10436/482152296.py:10: RuntimeWarning: overflow encountered in multiply\n",
      "  return m * np.exp(t * (x - t0))\n",
      "/var/folders/ck/9rwyl45n1ybckdc_zm28rlgr0000gn/T/ipykernel_10436/482152296.py:48: RuntimeWarning: Mean of empty slice\n",
      "  prop_coef[myrm_file][focal_ant] = np.nanmean(prop_coef[myrm_file][focal_ant])\n"
     ]
    },
    {
     "name": "stdout",
     "output_type": "stream",
     "text": [
      "s35_DIAa\n"
     ]
    },
    {
     "name": "stderr",
     "output_type": "stream",
     "text": [
      "/var/folders/ck/9rwyl45n1ybckdc_zm28rlgr0000gn/T/ipykernel_10436/482152296.py:48: RuntimeWarning: Mean of empty slice\n",
      "  prop_coef[myrm_file][focal_ant] = np.nanmean(prop_coef[myrm_file][focal_ant])\n",
      "/Users/eg558/opt/anaconda3/envs/NTM_analysis/lib/python3.8/site-packages/scipy/optimize/_minpack_py.py:833: OptimizeWarning: Covariance of the parameters could not be estimated\n",
      "  warnings.warn('Covariance of the parameters could not be estimated',\n",
      "/var/folders/ck/9rwyl45n1ybckdc_zm28rlgr0000gn/T/ipykernel_10436/482152296.py:10: RuntimeWarning: overflow encountered in exp\n",
      "  return m * np.exp(t * (x - t0))\n",
      "/var/folders/ck/9rwyl45n1ybckdc_zm28rlgr0000gn/T/ipykernel_10436/482152296.py:10: RuntimeWarning: overflow encountered in multiply\n",
      "  return m * np.exp(t * (x - t0))\n"
     ]
    },
    {
     "name": "stdout",
     "output_type": "stream",
     "text": [
      "s35_DIAb\n"
     ]
    },
    {
     "name": "stderr",
     "output_type": "stream",
     "text": [
      "/Users/eg558/opt/anaconda3/envs/NTM_analysis/lib/python3.8/site-packages/scipy/optimize/_minpack_py.py:833: OptimizeWarning: Covariance of the parameters could not be estimated\n",
      "  warnings.warn('Covariance of the parameters could not be estimated',\n",
      "/var/folders/ck/9rwyl45n1ybckdc_zm28rlgr0000gn/T/ipykernel_10436/482152296.py:48: RuntimeWarning: Mean of empty slice\n",
      "  prop_coef[myrm_file][focal_ant] = np.nanmean(prop_coef[myrm_file][focal_ant])\n",
      "/var/folders/ck/9rwyl45n1ybckdc_zm28rlgr0000gn/T/ipykernel_10436/482152296.py:10: RuntimeWarning: overflow encountered in exp\n",
      "  return m * np.exp(t * (x - t0))\n",
      "/var/folders/ck/9rwyl45n1ybckdc_zm28rlgr0000gn/T/ipykernel_10436/482152296.py:10: RuntimeWarning: overflow encountered in multiply\n",
      "  return m * np.exp(t * (x - t0))\n"
     ]
    },
    {
     "name": "stdout",
     "output_type": "stream",
     "text": [
      "s36_DENa\n"
     ]
    },
    {
     "name": "stderr",
     "output_type": "stream",
     "text": [
      "/Users/eg558/opt/anaconda3/envs/NTM_analysis/lib/python3.8/site-packages/scipy/optimize/_minpack_py.py:833: OptimizeWarning: Covariance of the parameters could not be estimated\n",
      "  warnings.warn('Covariance of the parameters could not be estimated',\n",
      "/var/folders/ck/9rwyl45n1ybckdc_zm28rlgr0000gn/T/ipykernel_10436/482152296.py:10: RuntimeWarning: overflow encountered in exp\n",
      "  return m * np.exp(t * (x - t0))\n",
      "/var/folders/ck/9rwyl45n1ybckdc_zm28rlgr0000gn/T/ipykernel_10436/482152296.py:48: RuntimeWarning: Mean of empty slice\n",
      "  prop_coef[myrm_file][focal_ant] = np.nanmean(prop_coef[myrm_file][focal_ant])\n"
     ]
    },
    {
     "name": "stdout",
     "output_type": "stream",
     "text": [
      "s36_DENb\n"
     ]
    },
    {
     "name": "stderr",
     "output_type": "stream",
     "text": [
      "/Users/eg558/opt/anaconda3/envs/NTM_analysis/lib/python3.8/site-packages/scipy/optimize/_minpack_py.py:833: OptimizeWarning: Covariance of the parameters could not be estimated\n",
      "  warnings.warn('Covariance of the parameters could not be estimated',\n",
      "/var/folders/ck/9rwyl45n1ybckdc_zm28rlgr0000gn/T/ipykernel_10436/482152296.py:10: RuntimeWarning: overflow encountered in exp\n",
      "  return m * np.exp(t * (x - t0))\n",
      "/var/folders/ck/9rwyl45n1ybckdc_zm28rlgr0000gn/T/ipykernel_10436/482152296.py:10: RuntimeWarning: overflow encountered in multiply\n",
      "  return m * np.exp(t * (x - t0))\n",
      "/var/folders/ck/9rwyl45n1ybckdc_zm28rlgr0000gn/T/ipykernel_10436/482152296.py:48: RuntimeWarning: Mean of empty slice\n",
      "  prop_coef[myrm_file][focal_ant] = np.nanmean(prop_coef[myrm_file][focal_ant])\n"
     ]
    },
    {
     "name": "stdout",
     "output_type": "stream",
     "text": [
      "s37_DIAa\n"
     ]
    },
    {
     "name": "stderr",
     "output_type": "stream",
     "text": [
      "/Users/eg558/opt/anaconda3/envs/NTM_analysis/lib/python3.8/site-packages/scipy/optimize/_minpack_py.py:833: OptimizeWarning: Covariance of the parameters could not be estimated\n",
      "  warnings.warn('Covariance of the parameters could not be estimated',\n",
      "/var/folders/ck/9rwyl45n1ybckdc_zm28rlgr0000gn/T/ipykernel_10436/482152296.py:10: RuntimeWarning: overflow encountered in exp\n",
      "  return m * np.exp(t * (x - t0))\n",
      "/var/folders/ck/9rwyl45n1ybckdc_zm28rlgr0000gn/T/ipykernel_10436/482152296.py:48: RuntimeWarning: Mean of empty slice\n",
      "  prop_coef[myrm_file][focal_ant] = np.nanmean(prop_coef[myrm_file][focal_ant])\n"
     ]
    },
    {
     "name": "stdout",
     "output_type": "stream",
     "text": [
      "s37_DIAb\n"
     ]
    },
    {
     "name": "stderr",
     "output_type": "stream",
     "text": [
      "/Users/eg558/opt/anaconda3/envs/NTM_analysis/lib/python3.8/site-packages/scipy/optimize/_minpack_py.py:833: OptimizeWarning: Covariance of the parameters could not be estimated\n",
      "  warnings.warn('Covariance of the parameters could not be estimated',\n",
      "/var/folders/ck/9rwyl45n1ybckdc_zm28rlgr0000gn/T/ipykernel_10436/482152296.py:10: RuntimeWarning: overflow encountered in exp\n",
      "  return m * np.exp(t * (x - t0))\n",
      "/var/folders/ck/9rwyl45n1ybckdc_zm28rlgr0000gn/T/ipykernel_10436/482152296.py:48: RuntimeWarning: Mean of empty slice\n",
      "  prop_coef[myrm_file][focal_ant] = np.nanmean(prop_coef[myrm_file][focal_ant])\n",
      "/var/folders/ck/9rwyl45n1ybckdc_zm28rlgr0000gn/T/ipykernel_10436/482152296.py:10: RuntimeWarning: overflow encountered in multiply\n",
      "  return m * np.exp(t * (x - t0))\n"
     ]
    },
    {
     "name": "stdout",
     "output_type": "stream",
     "text": [
      "s38_DEHa\n"
     ]
    },
    {
     "name": "stderr",
     "output_type": "stream",
     "text": [
      "/var/folders/ck/9rwyl45n1ybckdc_zm28rlgr0000gn/T/ipykernel_10436/482152296.py:10: RuntimeWarning: overflow encountered in exp\n",
      "  return m * np.exp(t * (x - t0))\n",
      "/Users/eg558/opt/anaconda3/envs/NTM_analysis/lib/python3.8/site-packages/scipy/optimize/_minpack_py.py:833: OptimizeWarning: Covariance of the parameters could not be estimated\n",
      "  warnings.warn('Covariance of the parameters could not be estimated',\n",
      "/var/folders/ck/9rwyl45n1ybckdc_zm28rlgr0000gn/T/ipykernel_10436/482152296.py:48: RuntimeWarning: Mean of empty slice\n",
      "  prop_coef[myrm_file][focal_ant] = np.nanmean(prop_coef[myrm_file][focal_ant])\n",
      "/var/folders/ck/9rwyl45n1ybckdc_zm28rlgr0000gn/T/ipykernel_10436/482152296.py:10: RuntimeWarning: overflow encountered in multiply\n",
      "  return m * np.exp(t * (x - t0))\n"
     ]
    },
    {
     "name": "stdout",
     "output_type": "stream",
     "text": [
      "s38_DEHb\n"
     ]
    },
    {
     "name": "stderr",
     "output_type": "stream",
     "text": [
      "/Users/eg558/opt/anaconda3/envs/NTM_analysis/lib/python3.8/site-packages/scipy/optimize/_minpack_py.py:833: OptimizeWarning: Covariance of the parameters could not be estimated\n",
      "  warnings.warn('Covariance of the parameters could not be estimated',\n",
      "/var/folders/ck/9rwyl45n1ybckdc_zm28rlgr0000gn/T/ipykernel_10436/482152296.py:10: RuntimeWarning: overflow encountered in exp\n",
      "  return m * np.exp(t * (x - t0))\n",
      "/var/folders/ck/9rwyl45n1ybckdc_zm28rlgr0000gn/T/ipykernel_10436/482152296.py:48: RuntimeWarning: Mean of empty slice\n",
      "  prop_coef[myrm_file][focal_ant] = np.nanmean(prop_coef[myrm_file][focal_ant])\n",
      "/var/folders/ck/9rwyl45n1ybckdc_zm28rlgr0000gn/T/ipykernel_10436/482152296.py:10: RuntimeWarning: overflow encountered in multiply\n",
      "  return m * np.exp(t * (x - t0))\n"
     ]
    },
    {
     "name": "stdout",
     "output_type": "stream",
     "text": [
      "s39_DENa\n"
     ]
    },
    {
     "name": "stderr",
     "output_type": "stream",
     "text": [
      "/Users/eg558/opt/anaconda3/envs/NTM_analysis/lib/python3.8/site-packages/scipy/optimize/_minpack_py.py:833: OptimizeWarning: Covariance of the parameters could not be estimated\n",
      "  warnings.warn('Covariance of the parameters could not be estimated',\n",
      "/var/folders/ck/9rwyl45n1ybckdc_zm28rlgr0000gn/T/ipykernel_10436/482152296.py:10: RuntimeWarning: overflow encountered in exp\n",
      "  return m * np.exp(t * (x - t0))\n",
      "/var/folders/ck/9rwyl45n1ybckdc_zm28rlgr0000gn/T/ipykernel_10436/482152296.py:48: RuntimeWarning: Mean of empty slice\n",
      "  prop_coef[myrm_file][focal_ant] = np.nanmean(prop_coef[myrm_file][focal_ant])\n"
     ]
    },
    {
     "name": "stdout",
     "output_type": "stream",
     "text": [
      "s39_DENb\n"
     ]
    },
    {
     "name": "stderr",
     "output_type": "stream",
     "text": [
      "/var/folders/ck/9rwyl45n1ybckdc_zm28rlgr0000gn/T/ipykernel_10436/482152296.py:10: RuntimeWarning: overflow encountered in exp\n",
      "  return m * np.exp(t * (x - t0))\n",
      "/Users/eg558/opt/anaconda3/envs/NTM_analysis/lib/python3.8/site-packages/scipy/optimize/_minpack_py.py:833: OptimizeWarning: Covariance of the parameters could not be estimated\n",
      "  warnings.warn('Covariance of the parameters could not be estimated',\n",
      "/var/folders/ck/9rwyl45n1ybckdc_zm28rlgr0000gn/T/ipykernel_10436/482152296.py:48: RuntimeWarning: Mean of empty slice\n",
      "  prop_coef[myrm_file][focal_ant] = np.nanmean(prop_coef[myrm_file][focal_ant])\n"
     ]
    },
    {
     "name": "stdout",
     "output_type": "stream",
     "text": [
      "s40_MODa\n"
     ]
    },
    {
     "name": "stderr",
     "output_type": "stream",
     "text": [
      "/Users/eg558/opt/anaconda3/envs/NTM_analysis/lib/python3.8/site-packages/scipy/optimize/_minpack_py.py:833: OptimizeWarning: Covariance of the parameters could not be estimated\n",
      "  warnings.warn('Covariance of the parameters could not be estimated',\n",
      "/var/folders/ck/9rwyl45n1ybckdc_zm28rlgr0000gn/T/ipykernel_10436/482152296.py:10: RuntimeWarning: overflow encountered in exp\n",
      "  return m * np.exp(t * (x - t0))\n",
      "/var/folders/ck/9rwyl45n1ybckdc_zm28rlgr0000gn/T/ipykernel_10436/482152296.py:48: RuntimeWarning: Mean of empty slice\n",
      "  prop_coef[myrm_file][focal_ant] = np.nanmean(prop_coef[myrm_file][focal_ant])\n",
      "/var/folders/ck/9rwyl45n1ybckdc_zm28rlgr0000gn/T/ipykernel_10436/482152296.py:10: RuntimeWarning: overflow encountered in multiply\n",
      "  return m * np.exp(t * (x - t0))\n"
     ]
    },
    {
     "name": "stdout",
     "output_type": "stream",
     "text": [
      "s40_MODb\n"
     ]
    },
    {
     "name": "stderr",
     "output_type": "stream",
     "text": [
      "/Users/eg558/opt/anaconda3/envs/NTM_analysis/lib/python3.8/site-packages/scipy/optimize/_minpack_py.py:833: OptimizeWarning: Covariance of the parameters could not be estimated\n",
      "  warnings.warn('Covariance of the parameters could not be estimated',\n",
      "/var/folders/ck/9rwyl45n1ybckdc_zm28rlgr0000gn/T/ipykernel_10436/482152296.py:48: RuntimeWarning: Mean of empty slice\n",
      "  prop_coef[myrm_file][focal_ant] = np.nanmean(prop_coef[myrm_file][focal_ant])\n",
      "/var/folders/ck/9rwyl45n1ybckdc_zm28rlgr0000gn/T/ipykernel_10436/482152296.py:10: RuntimeWarning: overflow encountered in exp\n",
      "  return m * np.exp(t * (x - t0))\n",
      "/var/folders/ck/9rwyl45n1ybckdc_zm28rlgr0000gn/T/ipykernel_10436/482152296.py:10: RuntimeWarning: overflow encountered in multiply\n",
      "  return m * np.exp(t * (x - t0))\n"
     ]
    },
    {
     "name": "stdout",
     "output_type": "stream",
     "text": [
      "s42_DIAa\n"
     ]
    },
    {
     "name": "stderr",
     "output_type": "stream",
     "text": [
      "/var/folders/ck/9rwyl45n1ybckdc_zm28rlgr0000gn/T/ipykernel_10436/482152296.py:10: RuntimeWarning: overflow encountered in exp\n",
      "  return m * np.exp(t * (x - t0))\n",
      "/Users/eg558/opt/anaconda3/envs/NTM_analysis/lib/python3.8/site-packages/scipy/optimize/_minpack_py.py:833: OptimizeWarning: Covariance of the parameters could not be estimated\n",
      "  warnings.warn('Covariance of the parameters could not be estimated',\n",
      "/var/folders/ck/9rwyl45n1ybckdc_zm28rlgr0000gn/T/ipykernel_10436/482152296.py:48: RuntimeWarning: Mean of empty slice\n",
      "  prop_coef[myrm_file][focal_ant] = np.nanmean(prop_coef[myrm_file][focal_ant])\n",
      "/var/folders/ck/9rwyl45n1ybckdc_zm28rlgr0000gn/T/ipykernel_10436/482152296.py:10: RuntimeWarning: overflow encountered in multiply\n",
      "  return m * np.exp(t * (x - t0))\n"
     ]
    },
    {
     "name": "stdout",
     "output_type": "stream",
     "text": [
      "s42_DIAb\n"
     ]
    },
    {
     "name": "stderr",
     "output_type": "stream",
     "text": [
      "/Users/eg558/opt/anaconda3/envs/NTM_analysis/lib/python3.8/site-packages/scipy/optimize/_minpack_py.py:833: OptimizeWarning: Covariance of the parameters could not be estimated\n",
      "  warnings.warn('Covariance of the parameters could not be estimated',\n",
      "/var/folders/ck/9rwyl45n1ybckdc_zm28rlgr0000gn/T/ipykernel_10436/482152296.py:10: RuntimeWarning: overflow encountered in exp\n",
      "  return m * np.exp(t * (x - t0))\n",
      "/var/folders/ck/9rwyl45n1ybckdc_zm28rlgr0000gn/T/ipykernel_10436/482152296.py:48: RuntimeWarning: Mean of empty slice\n",
      "  prop_coef[myrm_file][focal_ant] = np.nanmean(prop_coef[myrm_file][focal_ant])\n",
      "/var/folders/ck/9rwyl45n1ybckdc_zm28rlgr0000gn/T/ipykernel_10436/482152296.py:10: RuntimeWarning: overflow encountered in multiply\n",
      "  return m * np.exp(t * (x - t0))\n"
     ]
    },
    {
     "name": "stdout",
     "output_type": "stream",
     "text": [
      "s43_DENa\n"
     ]
    },
    {
     "name": "stderr",
     "output_type": "stream",
     "text": [
      "/var/folders/ck/9rwyl45n1ybckdc_zm28rlgr0000gn/T/ipykernel_10436/482152296.py:10: RuntimeWarning: overflow encountered in exp\n",
      "  return m * np.exp(t * (x - t0))\n",
      "/Users/eg558/opt/anaconda3/envs/NTM_analysis/lib/python3.8/site-packages/scipy/optimize/_minpack_py.py:833: OptimizeWarning: Covariance of the parameters could not be estimated\n",
      "  warnings.warn('Covariance of the parameters could not be estimated',\n",
      "/var/folders/ck/9rwyl45n1ybckdc_zm28rlgr0000gn/T/ipykernel_10436/482152296.py:10: RuntimeWarning: overflow encountered in multiply\n",
      "  return m * np.exp(t * (x - t0))\n",
      "/var/folders/ck/9rwyl45n1ybckdc_zm28rlgr0000gn/T/ipykernel_10436/482152296.py:48: RuntimeWarning: Mean of empty slice\n",
      "  prop_coef[myrm_file][focal_ant] = np.nanmean(prop_coef[myrm_file][focal_ant])\n"
     ]
    },
    {
     "name": "stdout",
     "output_type": "stream",
     "text": [
      "s43_DENb\n"
     ]
    },
    {
     "name": "stderr",
     "output_type": "stream",
     "text": [
      "/var/folders/ck/9rwyl45n1ybckdc_zm28rlgr0000gn/T/ipykernel_10436/482152296.py:10: RuntimeWarning: overflow encountered in exp\n",
      "  return m * np.exp(t * (x - t0))\n",
      "/Users/eg558/opt/anaconda3/envs/NTM_analysis/lib/python3.8/site-packages/scipy/optimize/_minpack_py.py:833: OptimizeWarning: Covariance of the parameters could not be estimated\n",
      "  warnings.warn('Covariance of the parameters could not be estimated',\n",
      "/var/folders/ck/9rwyl45n1ybckdc_zm28rlgr0000gn/T/ipykernel_10436/482152296.py:10: RuntimeWarning: overflow encountered in multiply\n",
      "  return m * np.exp(t * (x - t0))\n",
      "/var/folders/ck/9rwyl45n1ybckdc_zm28rlgr0000gn/T/ipykernel_10436/482152296.py:48: RuntimeWarning: Mean of empty slice\n",
      "  prop_coef[myrm_file][focal_ant] = np.nanmean(prop_coef[myrm_file][focal_ant])\n"
     ]
    },
    {
     "name": "stdout",
     "output_type": "stream",
     "text": [
      "s44_MODa\n"
     ]
    },
    {
     "name": "stderr",
     "output_type": "stream",
     "text": [
      "/var/folders/ck/9rwyl45n1ybckdc_zm28rlgr0000gn/T/ipykernel_10436/482152296.py:10: RuntimeWarning: overflow encountered in exp\n",
      "  return m * np.exp(t * (x - t0))\n",
      "/Users/eg558/opt/anaconda3/envs/NTM_analysis/lib/python3.8/site-packages/scipy/optimize/_minpack_py.py:833: OptimizeWarning: Covariance of the parameters could not be estimated\n",
      "  warnings.warn('Covariance of the parameters could not be estimated',\n",
      "/var/folders/ck/9rwyl45n1ybckdc_zm28rlgr0000gn/T/ipykernel_10436/482152296.py:48: RuntimeWarning: Mean of empty slice\n",
      "  prop_coef[myrm_file][focal_ant] = np.nanmean(prop_coef[myrm_file][focal_ant])\n",
      "/var/folders/ck/9rwyl45n1ybckdc_zm28rlgr0000gn/T/ipykernel_10436/482152296.py:10: RuntimeWarning: overflow encountered in multiply\n",
      "  return m * np.exp(t * (x - t0))\n"
     ]
    },
    {
     "name": "stdout",
     "output_type": "stream",
     "text": [
      "s44_MODb\n"
     ]
    },
    {
     "name": "stderr",
     "output_type": "stream",
     "text": [
      "/var/folders/ck/9rwyl45n1ybckdc_zm28rlgr0000gn/T/ipykernel_10436/482152296.py:48: RuntimeWarning: Mean of empty slice\n",
      "  prop_coef[myrm_file][focal_ant] = np.nanmean(prop_coef[myrm_file][focal_ant])\n",
      "/Users/eg558/opt/anaconda3/envs/NTM_analysis/lib/python3.8/site-packages/scipy/optimize/_minpack_py.py:833: OptimizeWarning: Covariance of the parameters could not be estimated\n",
      "  warnings.warn('Covariance of the parameters could not be estimated',\n",
      "/var/folders/ck/9rwyl45n1ybckdc_zm28rlgr0000gn/T/ipykernel_10436/482152296.py:10: RuntimeWarning: overflow encountered in exp\n",
      "  return m * np.exp(t * (x - t0))\n"
     ]
    },
    {
     "name": "stdout",
     "output_type": "stream",
     "text": [
      "s45_DENa\n"
     ]
    },
    {
     "name": "stderr",
     "output_type": "stream",
     "text": [
      "/Users/eg558/opt/anaconda3/envs/NTM_analysis/lib/python3.8/site-packages/scipy/optimize/_minpack_py.py:833: OptimizeWarning: Covariance of the parameters could not be estimated\n",
      "  warnings.warn('Covariance of the parameters could not be estimated',\n",
      "/var/folders/ck/9rwyl45n1ybckdc_zm28rlgr0000gn/T/ipykernel_10436/482152296.py:10: RuntimeWarning: overflow encountered in exp\n",
      "  return m * np.exp(t * (x - t0))\n",
      "/var/folders/ck/9rwyl45n1ybckdc_zm28rlgr0000gn/T/ipykernel_10436/482152296.py:48: RuntimeWarning: Mean of empty slice\n",
      "  prop_coef[myrm_file][focal_ant] = np.nanmean(prop_coef[myrm_file][focal_ant])\n",
      "/var/folders/ck/9rwyl45n1ybckdc_zm28rlgr0000gn/T/ipykernel_10436/482152296.py:10: RuntimeWarning: overflow encountered in multiply\n",
      "  return m * np.exp(t * (x - t0))\n"
     ]
    },
    {
     "name": "stdout",
     "output_type": "stream",
     "text": [
      "s45_DENb\n"
     ]
    },
    {
     "name": "stderr",
     "output_type": "stream",
     "text": [
      "/Users/eg558/opt/anaconda3/envs/NTM_analysis/lib/python3.8/site-packages/scipy/optimize/_minpack_py.py:833: OptimizeWarning: Covariance of the parameters could not be estimated\n",
      "  warnings.warn('Covariance of the parameters could not be estimated',\n",
      "/var/folders/ck/9rwyl45n1ybckdc_zm28rlgr0000gn/T/ipykernel_10436/482152296.py:10: RuntimeWarning: overflow encountered in exp\n",
      "  return m * np.exp(t * (x - t0))\n",
      "/var/folders/ck/9rwyl45n1ybckdc_zm28rlgr0000gn/T/ipykernel_10436/482152296.py:48: RuntimeWarning: Mean of empty slice\n",
      "  prop_coef[myrm_file][focal_ant] = np.nanmean(prop_coef[myrm_file][focal_ant])\n"
     ]
    },
    {
     "name": "stdout",
     "output_type": "stream",
     "text": [
      "s46_DIAa\n"
     ]
    },
    {
     "name": "stderr",
     "output_type": "stream",
     "text": [
      "/Users/eg558/opt/anaconda3/envs/NTM_analysis/lib/python3.8/site-packages/scipy/optimize/_minpack_py.py:833: OptimizeWarning: Covariance of the parameters could not be estimated\n",
      "  warnings.warn('Covariance of the parameters could not be estimated',\n",
      "/var/folders/ck/9rwyl45n1ybckdc_zm28rlgr0000gn/T/ipykernel_10436/482152296.py:10: RuntimeWarning: overflow encountered in exp\n",
      "  return m * np.exp(t * (x - t0))\n",
      "/var/folders/ck/9rwyl45n1ybckdc_zm28rlgr0000gn/T/ipykernel_10436/482152296.py:48: RuntimeWarning: Mean of empty slice\n",
      "  prop_coef[myrm_file][focal_ant] = np.nanmean(prop_coef[myrm_file][focal_ant])\n",
      "/var/folders/ck/9rwyl45n1ybckdc_zm28rlgr0000gn/T/ipykernel_10436/482152296.py:10: RuntimeWarning: overflow encountered in multiply\n",
      "  return m * np.exp(t * (x - t0))\n"
     ]
    },
    {
     "name": "stdout",
     "output_type": "stream",
     "text": [
      "s46_DIAb\n"
     ]
    },
    {
     "name": "stderr",
     "output_type": "stream",
     "text": [
      "/Users/eg558/opt/anaconda3/envs/NTM_analysis/lib/python3.8/site-packages/scipy/optimize/_minpack_py.py:833: OptimizeWarning: Covariance of the parameters could not be estimated\n",
      "  warnings.warn('Covariance of the parameters could not be estimated',\n",
      "/var/folders/ck/9rwyl45n1ybckdc_zm28rlgr0000gn/T/ipykernel_10436/482152296.py:10: RuntimeWarning: overflow encountered in exp\n",
      "  return m * np.exp(t * (x - t0))\n",
      "/var/folders/ck/9rwyl45n1ybckdc_zm28rlgr0000gn/T/ipykernel_10436/482152296.py:48: RuntimeWarning: Mean of empty slice\n",
      "  prop_coef[myrm_file][focal_ant] = np.nanmean(prop_coef[myrm_file][focal_ant])\n",
      "/var/folders/ck/9rwyl45n1ybckdc_zm28rlgr0000gn/T/ipykernel_10436/482152296.py:10: RuntimeWarning: overflow encountered in multiply\n",
      "  return m * np.exp(t * (x - t0))\n"
     ]
    },
    {
     "name": "stdout",
     "output_type": "stream",
     "text": [
      "s47_DEHa\n"
     ]
    },
    {
     "name": "stderr",
     "output_type": "stream",
     "text": [
      "/Users/eg558/opt/anaconda3/envs/NTM_analysis/lib/python3.8/site-packages/scipy/optimize/_minpack_py.py:833: OptimizeWarning: Covariance of the parameters could not be estimated\n",
      "  warnings.warn('Covariance of the parameters could not be estimated',\n",
      "/var/folders/ck/9rwyl45n1ybckdc_zm28rlgr0000gn/T/ipykernel_10436/482152296.py:10: RuntimeWarning: overflow encountered in exp\n",
      "  return m * np.exp(t * (x - t0))\n",
      "/var/folders/ck/9rwyl45n1ybckdc_zm28rlgr0000gn/T/ipykernel_10436/482152296.py:48: RuntimeWarning: Mean of empty slice\n",
      "  prop_coef[myrm_file][focal_ant] = np.nanmean(prop_coef[myrm_file][focal_ant])\n"
     ]
    },
    {
     "name": "stdout",
     "output_type": "stream",
     "text": [
      "s47_DEHb\n"
     ]
    },
    {
     "name": "stderr",
     "output_type": "stream",
     "text": [
      "/Users/eg558/opt/anaconda3/envs/NTM_analysis/lib/python3.8/site-packages/scipy/optimize/_minpack_py.py:833: OptimizeWarning: Covariance of the parameters could not be estimated\n",
      "  warnings.warn('Covariance of the parameters could not be estimated',\n",
      "/var/folders/ck/9rwyl45n1ybckdc_zm28rlgr0000gn/T/ipykernel_10436/482152296.py:10: RuntimeWarning: overflow encountered in exp\n",
      "  return m * np.exp(t * (x - t0))\n",
      "/var/folders/ck/9rwyl45n1ybckdc_zm28rlgr0000gn/T/ipykernel_10436/482152296.py:48: RuntimeWarning: Mean of empty slice\n",
      "  prop_coef[myrm_file][focal_ant] = np.nanmean(prop_coef[myrm_file][focal_ant])\n",
      "/var/folders/ck/9rwyl45n1ybckdc_zm28rlgr0000gn/T/ipykernel_10436/482152296.py:10: RuntimeWarning: overflow encountered in multiply\n",
      "  return m * np.exp(t * (x - t0))\n"
     ]
    },
    {
     "name": "stdout",
     "output_type": "stream",
     "text": [
      "s48_MODa\n"
     ]
    },
    {
     "name": "stderr",
     "output_type": "stream",
     "text": [
      "/Users/eg558/opt/anaconda3/envs/NTM_analysis/lib/python3.8/site-packages/scipy/optimize/_minpack_py.py:833: OptimizeWarning: Covariance of the parameters could not be estimated\n",
      "  warnings.warn('Covariance of the parameters could not be estimated',\n",
      "/var/folders/ck/9rwyl45n1ybckdc_zm28rlgr0000gn/T/ipykernel_10436/482152296.py:48: RuntimeWarning: Mean of empty slice\n",
      "  prop_coef[myrm_file][focal_ant] = np.nanmean(prop_coef[myrm_file][focal_ant])\n",
      "/var/folders/ck/9rwyl45n1ybckdc_zm28rlgr0000gn/T/ipykernel_10436/482152296.py:10: RuntimeWarning: overflow encountered in exp\n",
      "  return m * np.exp(t * (x - t0))\n"
     ]
    },
    {
     "name": "stdout",
     "output_type": "stream",
     "text": [
      "s48_MODb\n"
     ]
    },
    {
     "name": "stderr",
     "output_type": "stream",
     "text": [
      "/Users/eg558/opt/anaconda3/envs/NTM_analysis/lib/python3.8/site-packages/scipy/optimize/_minpack_py.py:833: OptimizeWarning: Covariance of the parameters could not be estimated\n",
      "  warnings.warn('Covariance of the parameters could not be estimated',\n",
      "/var/folders/ck/9rwyl45n1ybckdc_zm28rlgr0000gn/T/ipykernel_10436/482152296.py:10: RuntimeWarning: overflow encountered in exp\n",
      "  return m * np.exp(t * (x - t0))\n",
      "/var/folders/ck/9rwyl45n1ybckdc_zm28rlgr0000gn/T/ipykernel_10436/482152296.py:48: RuntimeWarning: Mean of empty slice\n",
      "  prop_coef[myrm_file][focal_ant] = np.nanmean(prop_coef[myrm_file][focal_ant])\n"
     ]
    },
    {
     "name": "stdout",
     "output_type": "stream",
     "text": [
      "s49_MODa\n"
     ]
    },
    {
     "name": "stderr",
     "output_type": "stream",
     "text": [
      "/Users/eg558/opt/anaconda3/envs/NTM_analysis/lib/python3.8/site-packages/scipy/optimize/_minpack_py.py:833: OptimizeWarning: Covariance of the parameters could not be estimated\n",
      "  warnings.warn('Covariance of the parameters could not be estimated',\n",
      "/var/folders/ck/9rwyl45n1ybckdc_zm28rlgr0000gn/T/ipykernel_10436/482152296.py:10: RuntimeWarning: overflow encountered in exp\n",
      "  return m * np.exp(t * (x - t0))\n",
      "/var/folders/ck/9rwyl45n1ybckdc_zm28rlgr0000gn/T/ipykernel_10436/482152296.py:48: RuntimeWarning: Mean of empty slice\n",
      "  prop_coef[myrm_file][focal_ant] = np.nanmean(prop_coef[myrm_file][focal_ant])\n",
      "/var/folders/ck/9rwyl45n1ybckdc_zm28rlgr0000gn/T/ipykernel_10436/482152296.py:10: RuntimeWarning: overflow encountered in multiply\n",
      "  return m * np.exp(t * (x - t0))\n"
     ]
    },
    {
     "name": "stdout",
     "output_type": "stream",
     "text": [
      "s49_MODb\n"
     ]
    },
    {
     "name": "stderr",
     "output_type": "stream",
     "text": [
      "/Users/eg558/opt/anaconda3/envs/NTM_analysis/lib/python3.8/site-packages/scipy/optimize/_minpack_py.py:833: OptimizeWarning: Covariance of the parameters could not be estimated\n",
      "  warnings.warn('Covariance of the parameters could not be estimated',\n",
      "/var/folders/ck/9rwyl45n1ybckdc_zm28rlgr0000gn/T/ipykernel_10436/482152296.py:10: RuntimeWarning: overflow encountered in exp\n",
      "  return m * np.exp(t * (x - t0))\n",
      "/var/folders/ck/9rwyl45n1ybckdc_zm28rlgr0000gn/T/ipykernel_10436/482152296.py:48: RuntimeWarning: Mean of empty slice\n",
      "  prop_coef[myrm_file][focal_ant] = np.nanmean(prop_coef[myrm_file][focal_ant])\n",
      "/var/folders/ck/9rwyl45n1ybckdc_zm28rlgr0000gn/T/ipykernel_10436/482152296.py:10: RuntimeWarning: overflow encountered in multiply\n",
      "  return m * np.exp(t * (x - t0))\n"
     ]
    },
    {
     "name": "stdout",
     "output_type": "stream",
     "text": [
      "s50_DIAa\n"
     ]
    },
    {
     "name": "stderr",
     "output_type": "stream",
     "text": [
      "/Users/eg558/opt/anaconda3/envs/NTM_analysis/lib/python3.8/site-packages/scipy/optimize/_minpack_py.py:833: OptimizeWarning: Covariance of the parameters could not be estimated\n",
      "  warnings.warn('Covariance of the parameters could not be estimated',\n",
      "/var/folders/ck/9rwyl45n1ybckdc_zm28rlgr0000gn/T/ipykernel_10436/482152296.py:48: RuntimeWarning: Mean of empty slice\n",
      "  prop_coef[myrm_file][focal_ant] = np.nanmean(prop_coef[myrm_file][focal_ant])\n",
      "/var/folders/ck/9rwyl45n1ybckdc_zm28rlgr0000gn/T/ipykernel_10436/482152296.py:10: RuntimeWarning: overflow encountered in exp\n",
      "  return m * np.exp(t * (x - t0))\n"
     ]
    },
    {
     "name": "stdout",
     "output_type": "stream",
     "text": [
      "s50_DIAb\n"
     ]
    },
    {
     "name": "stderr",
     "output_type": "stream",
     "text": [
      "/Users/eg558/opt/anaconda3/envs/NTM_analysis/lib/python3.8/site-packages/scipy/optimize/_minpack_py.py:833: OptimizeWarning: Covariance of the parameters could not be estimated\n",
      "  warnings.warn('Covariance of the parameters could not be estimated',\n",
      "/var/folders/ck/9rwyl45n1ybckdc_zm28rlgr0000gn/T/ipykernel_10436/482152296.py:48: RuntimeWarning: Mean of empty slice\n",
      "  prop_coef[myrm_file][focal_ant] = np.nanmean(prop_coef[myrm_file][focal_ant])\n",
      "/var/folders/ck/9rwyl45n1ybckdc_zm28rlgr0000gn/T/ipykernel_10436/482152296.py:10: RuntimeWarning: overflow encountered in exp\n",
      "  return m * np.exp(t * (x - t0))\n",
      "/var/folders/ck/9rwyl45n1ybckdc_zm28rlgr0000gn/T/ipykernel_10436/482152296.py:10: RuntimeWarning: overflow encountered in multiply\n",
      "  return m * np.exp(t * (x - t0))\n",
      "/var/folders/ck/9rwyl45n1ybckdc_zm28rlgr0000gn/T/ipykernel_10436/482152296.py:10: RuntimeWarning: overflow encountered in exp\n",
      "  return m * np.exp(t * (x - t0))\n",
      "/Users/eg558/opt/anaconda3/envs/NTM_analysis/lib/python3.8/site-packages/scipy/optimize/_minpack_py.py:833: OptimizeWarning: Covariance of the parameters could not be estimated\n",
      "  warnings.warn('Covariance of the parameters could not be estimated',\n"
     ]
    },
    {
     "name": "stdout",
     "output_type": "stream",
     "text": [
      "s51_DEHa\n"
     ]
    },
    {
     "name": "stderr",
     "output_type": "stream",
     "text": [
      "/var/folders/ck/9rwyl45n1ybckdc_zm28rlgr0000gn/T/ipykernel_10436/482152296.py:48: RuntimeWarning: Mean of empty slice\n",
      "  prop_coef[myrm_file][focal_ant] = np.nanmean(prop_coef[myrm_file][focal_ant])\n"
     ]
    },
    {
     "name": "stdout",
     "output_type": "stream",
     "text": [
      "s51_DEHb\n"
     ]
    },
    {
     "name": "stderr",
     "output_type": "stream",
     "text": [
      "/Users/eg558/opt/anaconda3/envs/NTM_analysis/lib/python3.8/site-packages/scipy/optimize/_minpack_py.py:833: OptimizeWarning: Covariance of the parameters could not be estimated\n",
      "  warnings.warn('Covariance of the parameters could not be estimated',\n",
      "/var/folders/ck/9rwyl45n1ybckdc_zm28rlgr0000gn/T/ipykernel_10436/482152296.py:10: RuntimeWarning: overflow encountered in exp\n",
      "  return m * np.exp(t * (x - t0))\n",
      "/var/folders/ck/9rwyl45n1ybckdc_zm28rlgr0000gn/T/ipykernel_10436/482152296.py:48: RuntimeWarning: Mean of empty slice\n",
      "  prop_coef[myrm_file][focal_ant] = np.nanmean(prop_coef[myrm_file][focal_ant])\n",
      "/var/folders/ck/9rwyl45n1ybckdc_zm28rlgr0000gn/T/ipykernel_10436/482152296.py:10: RuntimeWarning: overflow encountered in multiply\n",
      "  return m * np.exp(t * (x - t0))\n"
     ]
    },
    {
     "name": "stdout",
     "output_type": "stream",
     "text": [
      "s52_DENa\n"
     ]
    },
    {
     "name": "stderr",
     "output_type": "stream",
     "text": [
      "/Users/eg558/opt/anaconda3/envs/NTM_analysis/lib/python3.8/site-packages/scipy/optimize/_minpack_py.py:833: OptimizeWarning: Covariance of the parameters could not be estimated\n",
      "  warnings.warn('Covariance of the parameters could not be estimated',\n",
      "/var/folders/ck/9rwyl45n1ybckdc_zm28rlgr0000gn/T/ipykernel_10436/482152296.py:10: RuntimeWarning: overflow encountered in exp\n",
      "  return m * np.exp(t * (x - t0))\n",
      "/var/folders/ck/9rwyl45n1ybckdc_zm28rlgr0000gn/T/ipykernel_10436/482152296.py:48: RuntimeWarning: Mean of empty slice\n",
      "  prop_coef[myrm_file][focal_ant] = np.nanmean(prop_coef[myrm_file][focal_ant])\n",
      "/var/folders/ck/9rwyl45n1ybckdc_zm28rlgr0000gn/T/ipykernel_10436/482152296.py:10: RuntimeWarning: overflow encountered in multiply\n",
      "  return m * np.exp(t * (x - t0))\n"
     ]
    },
    {
     "name": "stdout",
     "output_type": "stream",
     "text": [
      "s52_DENb\n"
     ]
    },
    {
     "name": "stderr",
     "output_type": "stream",
     "text": [
      "/var/folders/ck/9rwyl45n1ybckdc_zm28rlgr0000gn/T/ipykernel_10436/482152296.py:10: RuntimeWarning: overflow encountered in exp\n",
      "  return m * np.exp(t * (x - t0))\n",
      "/Users/eg558/opt/anaconda3/envs/NTM_analysis/lib/python3.8/site-packages/scipy/optimize/_minpack_py.py:833: OptimizeWarning: Covariance of the parameters could not be estimated\n",
      "  warnings.warn('Covariance of the parameters could not be estimated',\n",
      "/var/folders/ck/9rwyl45n1ybckdc_zm28rlgr0000gn/T/ipykernel_10436/482152296.py:48: RuntimeWarning: Mean of empty slice\n",
      "  prop_coef[myrm_file][focal_ant] = np.nanmean(prop_coef[myrm_file][focal_ant])\n"
     ]
    },
    {
     "name": "stdout",
     "output_type": "stream",
     "text": [
      "s53_DIAa\n"
     ]
    },
    {
     "name": "stderr",
     "output_type": "stream",
     "text": [
      "/Users/eg558/opt/anaconda3/envs/NTM_analysis/lib/python3.8/site-packages/scipy/optimize/_minpack_py.py:833: OptimizeWarning: Covariance of the parameters could not be estimated\n",
      "  warnings.warn('Covariance of the parameters could not be estimated',\n",
      "/var/folders/ck/9rwyl45n1ybckdc_zm28rlgr0000gn/T/ipykernel_10436/482152296.py:10: RuntimeWarning: overflow encountered in exp\n",
      "  return m * np.exp(t * (x - t0))\n",
      "/var/folders/ck/9rwyl45n1ybckdc_zm28rlgr0000gn/T/ipykernel_10436/482152296.py:48: RuntimeWarning: Mean of empty slice\n",
      "  prop_coef[myrm_file][focal_ant] = np.nanmean(prop_coef[myrm_file][focal_ant])\n"
     ]
    },
    {
     "name": "stdout",
     "output_type": "stream",
     "text": [
      "s53_DIAb\n"
     ]
    },
    {
     "name": "stderr",
     "output_type": "stream",
     "text": [
      "/Users/eg558/opt/anaconda3/envs/NTM_analysis/lib/python3.8/site-packages/scipy/optimize/_minpack_py.py:833: OptimizeWarning: Covariance of the parameters could not be estimated\n",
      "  warnings.warn('Covariance of the parameters could not be estimated',\n",
      "/var/folders/ck/9rwyl45n1ybckdc_zm28rlgr0000gn/T/ipykernel_10436/482152296.py:48: RuntimeWarning: Mean of empty slice\n",
      "  prop_coef[myrm_file][focal_ant] = np.nanmean(prop_coef[myrm_file][focal_ant])\n",
      "/var/folders/ck/9rwyl45n1ybckdc_zm28rlgr0000gn/T/ipykernel_10436/482152296.py:10: RuntimeWarning: overflow encountered in exp\n",
      "  return m * np.exp(t * (x - t0))\n",
      "/var/folders/ck/9rwyl45n1ybckdc_zm28rlgr0000gn/T/ipykernel_10436/482152296.py:10: RuntimeWarning: overflow encountered in multiply\n",
      "  return m * np.exp(t * (x - t0))\n",
      "/Users/eg558/opt/anaconda3/envs/NTM_analysis/lib/python3.8/site-packages/scipy/optimize/_minpack_py.py:833: OptimizeWarning: Covariance of the parameters could not be estimated\n",
      "  warnings.warn('Covariance of the parameters could not be estimated',\n",
      "/var/folders/ck/9rwyl45n1ybckdc_zm28rlgr0000gn/T/ipykernel_10436/482152296.py:48: RuntimeWarning: Mean of empty slice\n",
      "  prop_coef[myrm_file][focal_ant] = np.nanmean(prop_coef[myrm_file][focal_ant])\n",
      "/var/folders/ck/9rwyl45n1ybckdc_zm28rlgr0000gn/T/ipykernel_10436/482152296.py:10: RuntimeWarning: overflow encountered in exp\n",
      "  return m * np.exp(t * (x - t0))\n"
     ]
    },
    {
     "name": "stdout",
     "output_type": "stream",
     "text": [
      "s54_MODa\n",
      "s54_MODb\n"
     ]
    },
    {
     "name": "stderr",
     "output_type": "stream",
     "text": [
      "/Users/eg558/opt/anaconda3/envs/NTM_analysis/lib/python3.8/site-packages/scipy/optimize/_minpack_py.py:833: OptimizeWarning: Covariance of the parameters could not be estimated\n",
      "  warnings.warn('Covariance of the parameters could not be estimated',\n",
      "/var/folders/ck/9rwyl45n1ybckdc_zm28rlgr0000gn/T/ipykernel_10436/482152296.py:10: RuntimeWarning: overflow encountered in exp\n",
      "  return m * np.exp(t * (x - t0))\n",
      "/var/folders/ck/9rwyl45n1ybckdc_zm28rlgr0000gn/T/ipykernel_10436/482152296.py:48: RuntimeWarning: Mean of empty slice\n",
      "  prop_coef[myrm_file][focal_ant] = np.nanmean(prop_coef[myrm_file][focal_ant])\n"
     ]
    },
    {
     "name": "stdout",
     "output_type": "stream",
     "text": [
      "s55_DEHa\n"
     ]
    },
    {
     "name": "stderr",
     "output_type": "stream",
     "text": [
      "/Users/eg558/opt/anaconda3/envs/NTM_analysis/lib/python3.8/site-packages/scipy/optimize/_minpack_py.py:833: OptimizeWarning: Covariance of the parameters could not be estimated\n",
      "  warnings.warn('Covariance of the parameters could not be estimated',\n",
      "/var/folders/ck/9rwyl45n1ybckdc_zm28rlgr0000gn/T/ipykernel_10436/482152296.py:10: RuntimeWarning: overflow encountered in exp\n",
      "  return m * np.exp(t * (x - t0))\n",
      "/var/folders/ck/9rwyl45n1ybckdc_zm28rlgr0000gn/T/ipykernel_10436/482152296.py:48: RuntimeWarning: Mean of empty slice\n",
      "  prop_coef[myrm_file][focal_ant] = np.nanmean(prop_coef[myrm_file][focal_ant])\n",
      "/var/folders/ck/9rwyl45n1ybckdc_zm28rlgr0000gn/T/ipykernel_10436/482152296.py:10: RuntimeWarning: overflow encountered in multiply\n",
      "  return m * np.exp(t * (x - t0))\n"
     ]
    },
    {
     "name": "stdout",
     "output_type": "stream",
     "text": [
      "s55_DEHb\n"
     ]
    },
    {
     "name": "stderr",
     "output_type": "stream",
     "text": [
      "/Users/eg558/opt/anaconda3/envs/NTM_analysis/lib/python3.8/site-packages/scipy/optimize/_minpack_py.py:833: OptimizeWarning: Covariance of the parameters could not be estimated\n",
      "  warnings.warn('Covariance of the parameters could not be estimated',\n",
      "/var/folders/ck/9rwyl45n1ybckdc_zm28rlgr0000gn/T/ipykernel_10436/482152296.py:48: RuntimeWarning: Mean of empty slice\n",
      "  prop_coef[myrm_file][focal_ant] = np.nanmean(prop_coef[myrm_file][focal_ant])\n",
      "/var/folders/ck/9rwyl45n1ybckdc_zm28rlgr0000gn/T/ipykernel_10436/482152296.py:10: RuntimeWarning: overflow encountered in exp\n",
      "  return m * np.exp(t * (x - t0))\n",
      "/var/folders/ck/9rwyl45n1ybckdc_zm28rlgr0000gn/T/ipykernel_10436/482152296.py:10: RuntimeWarning: overflow encountered in multiply\n",
      "  return m * np.exp(t * (x - t0))\n"
     ]
    },
    {
     "name": "stdout",
     "output_type": "stream",
     "text": [
      "s56_DENa\n"
     ]
    },
    {
     "name": "stderr",
     "output_type": "stream",
     "text": [
      "/Users/eg558/opt/anaconda3/envs/NTM_analysis/lib/python3.8/site-packages/scipy/optimize/_minpack_py.py:833: OptimizeWarning: Covariance of the parameters could not be estimated\n",
      "  warnings.warn('Covariance of the parameters could not be estimated',\n",
      "/var/folders/ck/9rwyl45n1ybckdc_zm28rlgr0000gn/T/ipykernel_10436/482152296.py:10: RuntimeWarning: overflow encountered in exp\n",
      "  return m * np.exp(t * (x - t0))\n",
      "/var/folders/ck/9rwyl45n1ybckdc_zm28rlgr0000gn/T/ipykernel_10436/482152296.py:10: RuntimeWarning: overflow encountered in multiply\n",
      "  return m * np.exp(t * (x - t0))\n",
      "/var/folders/ck/9rwyl45n1ybckdc_zm28rlgr0000gn/T/ipykernel_10436/482152296.py:48: RuntimeWarning: Mean of empty slice\n",
      "  prop_coef[myrm_file][focal_ant] = np.nanmean(prop_coef[myrm_file][focal_ant])\n"
     ]
    },
    {
     "name": "stdout",
     "output_type": "stream",
     "text": [
      "s56_DENb\n"
     ]
    },
    {
     "name": "stderr",
     "output_type": "stream",
     "text": [
      "/Users/eg558/opt/anaconda3/envs/NTM_analysis/lib/python3.8/site-packages/scipy/optimize/_minpack_py.py:833: OptimizeWarning: Covariance of the parameters could not be estimated\n",
      "  warnings.warn('Covariance of the parameters could not be estimated',\n",
      "/var/folders/ck/9rwyl45n1ybckdc_zm28rlgr0000gn/T/ipykernel_10436/482152296.py:10: RuntimeWarning: overflow encountered in exp\n",
      "  return m * np.exp(t * (x - t0))\n",
      "/var/folders/ck/9rwyl45n1ybckdc_zm28rlgr0000gn/T/ipykernel_10436/482152296.py:48: RuntimeWarning: Mean of empty slice\n",
      "  prop_coef[myrm_file][focal_ant] = np.nanmean(prop_coef[myrm_file][focal_ant])\n"
     ]
    },
    {
     "name": "stdout",
     "output_type": "stream",
     "text": [
      "   rep  exp nest      mean       std\n",
      "0   13  DEH    a  0.003824  0.000827\n",
      "1   13  DEH    b  0.004387   0.00082\n",
      "2   14  MOD    a  0.003576  0.001015\n",
      "3   14  MOD    b  0.003808  0.000896\n",
      "4   15  DEN    a  0.003497  0.000947\n",
      "..  ..  ...  ...       ...       ...\n",
      "81  54  MOD    b  0.003361  0.000891\n",
      "82  55  DEH    a  0.004039  0.001037\n",
      "83  55  DEH    b  0.004756  0.000809\n",
      "84  56  DEN    a   0.00278  0.000608\n",
      "85  56  DEN    b  0.003569  0.000711\n",
      "\n",
      "[86 rows x 5 columns]\n"
     ]
    }
   ],
   "source": [
    "import scipy.optimize as opt\n",
    "with open('data/propagation_trees_data.pkl', 'rb') as f:\n",
    "    prop_tree = pickle.load(f)\n",
    "\n",
    "    \n",
    "\n",
    "prop_coef_df = pd.DataFrame(columns=['rep', 'exp', 'nest', 'mean', 'std'])\n",
    "prop_coef = {}\n",
    "def monoExp(x, m, t, t0):\n",
    "    return m * np.exp(t * (x - t0))\n",
    "\n",
    "for myrm_file in prop_tree.keys():\n",
    "    print(myrm_file)\n",
    "    prop_coef[myrm_file] = {}\n",
    "\n",
    "    for focal_ant in prop_tree[myrm_file].keys():\n",
    "\n",
    "        prop_coef[myrm_file][focal_ant] = [np.nan] * 4\n",
    "\n",
    "        for tw in range(4):\n",
    "\n",
    "\n",
    "            # percentage influence for exp fit\n",
    "            perc_exp_fit = 20 #%\n",
    "            x_cut = int(len(prop_tree[myrm_file][focal_ant][tw]) * perc_exp_fit / 100)\n",
    "\n",
    "            x = np.array(prop_tree[myrm_file][focal_ant][tw][1:x_cut])\n",
    "\n",
    "            y = np.array(range(len(x))) + 2\n",
    "\n",
    "            if len(x) == x_cut - 1 & len(x) > 2:\n",
    "                x = x - x[0]\n",
    "                # perform the fit\n",
    "                p0 = (1.39, 0.0041, 325) # start with values near those we expect\n",
    "                bounds = ()\n",
    "                params, cv = opt.curve_fit(monoExp, x, y, p0, maxfev=100000)\n",
    "                m, t, t0 = params\n",
    "                # Rsquared error\n",
    "                r2 = np.sum([(y[i] - monoExp(x[i], m, t, t0))**2 for i in range(len(x))])\n",
    "                if r2 < x_cut * 3:\n",
    "                    prop_coef[myrm_file][focal_ant][tw] = t\n",
    "        #             plt.plot(x/(6*60), y, '.')\n",
    "        #             plt.plot(x[:-1]/(6*60), monoExp(x, m, t, t0)[:-1], '--', label=\"fitted\")\n",
    "        #             plt.title('ant:'+ str(focal_ant) + ', exp_rate: {:f} \\n square_error: {:f}'.format(t, r2))\n",
    "        #             plt.xlabel('time (min)')\n",
    "        #             plt.ylabel('size propagation tree (ants)')\n",
    "\n",
    "        prop_coef[myrm_file][focal_ant] = np.nanmean(prop_coef[myrm_file][focal_ant])\n",
    "    myrm_dict = {}        \n",
    "    myrm_dict['rep'] = int(myrm_file[1:3])\n",
    "    myrm_dict['exp'] = myrm_file[4:7]\n",
    "    myrm_dict['nest'] = myrm_file[7]\n",
    "    myrm_dict['mean'] = np.nanmean(list(prop_coef[myrm_file].values()))\n",
    "    myrm_dict['std'] = np.nanstd(list(prop_coef[myrm_file].values()))\n",
    "   \n",
    "    prop_coef_df = pd.concat([prop_coef_df, pd.DataFrame(myrm_dict, index=[0])], ignore_index=True)\n",
    "print(prop_coef_df)\n",
    "\n"
   ]
  },
  {
   "cell_type": "code",
   "execution_count": 97,
   "id": "6363babf",
   "metadata": {},
   "outputs": [
    {
     "data": {
      "text/plain": [
       "<AxesSubplot:ylabel='Count'>"
      ]
     },
     "execution_count": 97,
     "metadata": {},
     "output_type": "execute_result"
    },
    {
     "data": {
      "image/png": "[encoded data removed]",
      "text/plain": [
       "<Figure size 1080x648 with 1 Axes>"
      ]
     },
     "metadata": {
      "needs_background": "light"
     },
     "output_type": "display_data"
    }
   ],
   "source": [
    "bins = np.linspace(0.001,0.01,50)\n",
    "\n",
    "myr = 's49_MOD'\n",
    "sns.histplot(prop_coef[myr + 'a'], bins = bins, color = 'r')\n",
    "sns.histplot(prop_coef[myr + 'b'], bins = bins)"
   ]
  },
  {
   "cell_type": "code",
   "execution_count": 94,
   "id": "fb799982",
   "metadata": {},
   "outputs": [],
   "source": [
    "[np.isnan(list(prop_coef[myrm].values())).sum() for myrm in prop_coef.keys()]"
   ]
  },
  {
   "cell_type": "code",
   "execution_count": 123,
   "id": "3bef1cc7",
   "metadata": {},
   "outputs": [
    {
     "data": {
      "text/html": [
       "<div>\n",
       "<style scoped>\n",
       "    .dataframe tbody tr th:only-of-type {\n",
       "        vertical-align: middle;\n",
       "    }\n",
       "\n",
       "    .dataframe tbody tr th {\n",
       "        vertical-align: top;\n",
       "    }\n",
       "\n",
       "    .dataframe thead th {\n",
       "        text-align: right;\n",
       "    }\n",
       "</style>\n",
       "<table border=\"1\" class=\"dataframe\">\n",
       "  <thead>\n",
       "    <tr style=\"text-align: right;\">\n",
       "      <th></th>\n",
       "      <th>rep</th>\n",
       "      <th>exp</th>\n",
       "      <th>nest</th>\n",
       "      <th>mean</th>\n",
       "      <th>std</th>\n",
       "    </tr>\n",
       "  </thead>\n",
       "  <tbody>\n",
       "    <tr>\n",
       "      <th>0</th>\n",
       "      <td>13</td>\n",
       "      <td>DEH</td>\n",
       "      <td>b</td>\n",
       "      <td>0.004387</td>\n",
       "      <td>0.00082</td>\n",
       "    </tr>\n",
       "  </tbody>\n",
       "</table>\n",
       "</div>"
      ],
      "text/plain": [
       "  rep  exp nest      mean      std\n",
       "0  13  DEH    b  0.004387  0.00082"
      ]
     },
     "execution_count": 123,
     "metadata": {},
     "output_type": "execute_result"
    }
   ],
   "source": [
    "prop_coef_df"
   ]
  },
  {
   "cell_type": "code",
   "execution_count": null,
   "id": "57cf60f9",
   "metadata": {},
   "outputs": [],
   "source": []
  }
 ],
 "metadata": {
  "kernelspec": {
   "display_name": "Python 3 (ipykernel)",
   "language": "python",
   "name": "python3"
  },
  "language_info": {
   "codemirror_mode": {
    "name": "ipython",
    "version": 3
   },
   "file_extension": ".py",
   "mimetype": "text/x-python",
   "name": "python",
   "nbconvert_exporter": "python",
   "pygments_lexer": "ipython3",
   "version": "3.8.12"
  }
 },
 "nbformat": 4,
 "nbformat_minor": 5
}
